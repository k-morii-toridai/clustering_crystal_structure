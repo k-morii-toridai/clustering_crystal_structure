{
 "cells": [
  {
   "cell_type": "code",
   "execution_count": 41,
   "id": "ae25bdeb-e0a9-4979-ad49-ec5c44b3ee68",
   "metadata": {
    "tags": []
   },
   "outputs": [
    {
     "data": {
      "text/plain": [
       "_NamespacePath(['/home/morii-k/.local/lib/python3.10/site-packages/pymatgen'])"
      ]
     },
     "execution_count": 41,
     "metadata": {},
     "output_type": "execute_result"
    }
   ],
   "source": [
    "import pymatgen\n",
    "pymatgen.__path__"
   ]
  },
  {
   "cell_type": "code",
   "execution_count": 45,
   "id": "70abbe90-bfb7-4964-ac02-c63dc870fca0",
   "metadata": {
    "tags": []
   },
   "outputs": [],
   "source": [
    "# pymatgen.__file__"
   ]
  },
  {
   "cell_type": "code",
   "execution_count": 55,
   "id": "6332ce4b-a6d3-4871-93df-50db60b1cd6a",
   "metadata": {
    "tags": []
   },
   "outputs": [
    {
     "name": "stdout",
     "output_type": "stream",
     "text": [
      "./\t   apps/\t  electronic_structure/  optimization/\t   util/\n",
      "../\t   cli/\t\t  entries/\t\t phonon/\t   vis/\n",
      "alchemy/   command_line/  ext/\t\t\t symmetry/\n",
      "analysis/  core/\t  io/\t\t\t transformations/\n"
     ]
    }
   ],
   "source": [
    "! ls -CF -a /home/morii-k/.local/lib/python3.10/site-packages/pymatgen"
   ]
  },
  {
   "cell_type": "code",
   "execution_count": 65,
   "id": "c99880b4-32bd-4ad7-986c-0cac44ec818a",
   "metadata": {
    "tags": []
   },
   "outputs": [
    {
     "name": "stdout",
     "output_type": "stream",
     "text": [
      "\u001b[01;34m/home/morii-k/.local/lib/python3.10/site-packages/pymatgen\u001b[0m\n",
      "├── \u001b[01;34malchemy\u001b[0m\n",
      "├── \u001b[01;34manalysis\u001b[0m\n",
      "├── \u001b[01;34mapps\u001b[0m\n",
      "├── \u001b[01;34mcli\u001b[0m\n",
      "├── \u001b[01;34mcommand_line\u001b[0m\n",
      "├── \u001b[01;34mcore\u001b[0m\n",
      "├── \u001b[01;34melectronic_structure\u001b[0m\n",
      "├── \u001b[01;34mentries\u001b[0m\n",
      "├── \u001b[01;34mext\u001b[0m\n",
      "├── \u001b[01;34mio\u001b[0m\n",
      "├── \u001b[01;34moptimization\u001b[0m\n",
      "├── \u001b[01;34mphonon\u001b[0m\n",
      "├── \u001b[01;34msymmetry\u001b[0m\n",
      "├── \u001b[01;34mtransformations\u001b[0m\n",
      "├── \u001b[01;34mutil\u001b[0m\n",
      "└── \u001b[01;34mvis\u001b[0m\n",
      "\n",
      "16 directories, 0 files\n"
     ]
    }
   ],
   "source": [
    "! tree -L 1 /home/morii-k/.local/lib/python3.10/site-packages/pymatgen"
   ]
  },
  {
   "cell_type": "code",
   "execution_count": 66,
   "id": "aaad356a-fcf5-44ce-88a7-5ed460acf83e",
   "metadata": {
    "tags": []
   },
   "outputs": [
    {
     "name": "stdout",
     "output_type": "stream",
     "text": [
      "\u001b[01;34m/home/morii-k/.local/lib/python3.10/site-packages/pymatgen/ext\u001b[0m\n",
      "├── \u001b[01;34m__pycache__\u001b[0m\n",
      "├── cod.py\n",
      "├── matproj.py\n",
      "└── optimade.py\n",
      "\n",
      "1 directory, 3 files\n"
     ]
    }
   ],
   "source": [
    "! tree -L 1 /home/morii-k/.local/lib/python3.10/site-packages/pymatgen/ext"
   ]
  },
  {
   "cell_type": "code",
   "execution_count": 68,
   "id": "73e5b624-0754-4521-8489-2766252e2597",
   "metadata": {
    "tags": []
   },
   "outputs": [
    {
     "data": {
      "text/plain": [
       "['COD',\n",
       " 'Composition',\n",
       " 'Structure',\n",
       " '__builtins__',\n",
       " '__cached__',\n",
       " '__doc__',\n",
       " '__file__',\n",
       " '__loader__',\n",
       " '__name__',\n",
       " '__package__',\n",
       " '__spec__',\n",
       " 're',\n",
       " 'requests',\n",
       " 'requires',\n",
       " 'subprocess',\n",
       " 'which']"
      ]
     },
     "execution_count": 68,
     "metadata": {},
     "output_type": "execute_result"
    }
   ],
   "source": [
    "from pymatgen.ext import cod\n",
    "dir(cod)"
   ]
  },
  {
   "cell_type": "code",
   "execution_count": 69,
   "id": "6d24774c-a558-4f94-8582-9e3bf0b15564",
   "metadata": {
    "tags": []
   },
   "outputs": [
    {
     "data": {
      "text/plain": [
       "['__class__',\n",
       " '__delattr__',\n",
       " '__dict__',\n",
       " '__dir__',\n",
       " '__doc__',\n",
       " '__eq__',\n",
       " '__format__',\n",
       " '__ge__',\n",
       " '__getattribute__',\n",
       " '__gt__',\n",
       " '__hash__',\n",
       " '__init__',\n",
       " '__init_subclass__',\n",
       " '__le__',\n",
       " '__lt__',\n",
       " '__module__',\n",
       " '__ne__',\n",
       " '__new__',\n",
       " '__reduce__',\n",
       " '__reduce_ex__',\n",
       " '__repr__',\n",
       " '__setattr__',\n",
       " '__sizeof__',\n",
       " '__str__',\n",
       " '__subclasshook__',\n",
       " '__weakref__',\n",
       " 'get_cod_ids',\n",
       " 'get_structure_by_formula',\n",
       " 'get_structure_by_id',\n",
       " 'query']"
      ]
     },
     "execution_count": 69,
     "metadata": {},
     "output_type": "execute_result"
    }
   ],
   "source": [
    "dir(cod.COD)"
   ]
  },
  {
   "cell_type": "code",
   "execution_count": 74,
   "id": "c776c84f-5894-4c36-b9e1-009435435296",
   "metadata": {
    "tags": []
   },
   "outputs": [
    {
     "ename": "RuntimeError",
     "evalue": "mysql must be installed to use this query.",
     "output_type": "error",
     "traceback": [
      "\u001b[0;31m---------------------------------------------------------------------------\u001b[0m",
      "\u001b[0;31mRuntimeError\u001b[0m                              Traceback (most recent call last)",
      "Cell \u001b[0;32mIn[74], line 1\u001b[0m\n\u001b[0;32m----> 1\u001b[0m \u001b[43mcod\u001b[49m\u001b[38;5;241;43m.\u001b[39;49m\u001b[43mCOD\u001b[49m\u001b[38;5;241;43m.\u001b[39;49m\u001b[43mget_cod_ids\u001b[49m\u001b[43m(\u001b[49m\u001b[43mformula\u001b[49m\u001b[38;5;241;43m=\u001b[39;49m\u001b[38;5;124;43m\"\u001b[39;49m\u001b[38;5;124;43mCaTiO3\u001b[39;49m\u001b[38;5;124;43m\"\u001b[39;49m\u001b[43m)\u001b[49m\n",
      "File \u001b[0;32m~/.local/lib/python3.10/site-packages/monty/dev.py:112\u001b[0m, in \u001b[0;36mrequires.__call__.<locals>.decorated\u001b[0;34m(*args, **kwargs)\u001b[0m\n\u001b[1;32m    109\u001b[0m \u001b[38;5;129m@functools\u001b[39m\u001b[38;5;241m.\u001b[39mwraps(_callable)\n\u001b[1;32m    110\u001b[0m \u001b[38;5;28;01mdef\u001b[39;00m \u001b[38;5;21mdecorated\u001b[39m(\u001b[38;5;241m*\u001b[39margs, \u001b[38;5;241m*\u001b[39m\u001b[38;5;241m*\u001b[39mkwargs):\n\u001b[1;32m    111\u001b[0m     \u001b[38;5;28;01mif\u001b[39;00m \u001b[38;5;129;01mnot\u001b[39;00m \u001b[38;5;28mself\u001b[39m\u001b[38;5;241m.\u001b[39mcondition:\n\u001b[0;32m--> 112\u001b[0m         \u001b[38;5;28;01mraise\u001b[39;00m \u001b[38;5;167;01mRuntimeError\u001b[39;00m(\u001b[38;5;28mself\u001b[39m\u001b[38;5;241m.\u001b[39mmessage)\n\u001b[1;32m    113\u001b[0m     \u001b[38;5;28;01mreturn\u001b[39;00m _callable(\u001b[38;5;241m*\u001b[39margs, \u001b[38;5;241m*\u001b[39m\u001b[38;5;241m*\u001b[39mkwargs)\n",
      "\u001b[0;31mRuntimeError\u001b[0m: mysql must be installed to use this query."
     ]
    }
   ],
   "source": [
    "cod.COD.get_cod_ids(formula=\"CaTiO3\")"
   ]
  },
  {
   "cell_type": "code",
   "execution_count": 51,
   "id": "d1ca155c-b294-45dc-9983-c7f742119dd9",
   "metadata": {
    "tags": []
   },
   "outputs": [
    {
     "name": "stdout",
     "output_type": "stream",
     "text": [
      "cod2local.ipynb  dataset\n"
     ]
    }
   ],
   "source": [
    "! ls"
   ]
  },
  {
   "cell_type": "code",
   "execution_count": null,
   "id": "e3f4eb83-8b36-4aa1-9aa4-3d28db593130",
   "metadata": {},
   "outputs": [],
   "source": []
  },
  {
   "cell_type": "code",
   "execution_count": 25,
   "id": "0fdef894-4f06-4a88-9d84-61efd322132b",
   "metadata": {
    "tags": []
   },
   "outputs": [
    {
     "name": "stdout",
     "output_type": "stream",
     "text": [
      "Full Formula (H4 C1)\n",
      "Reduced Formula: H4C\n",
      "Charge = 0.0, Spin Mult = 1\n",
      "Sites (5)\n",
      "0 C     0.000000     0.000000     0.000000\n",
      "1 H     0.000000     0.000000     1.089000\n",
      "2 H     1.026719     0.000000    -0.363000\n",
      "3 H    -0.513360    -0.889165    -0.363000\n",
      "4 H    -0.513360     0.889165    -0.363000\n"
     ]
    }
   ],
   "source": [
    "from pymatgen.core import Lattice, Structure, Molecule\n",
    " \n",
    "coords = [[0, 0, 0], [0.75,0.5,0.75]]\n",
    "lattice = Lattice.from_parameters(a=3.84, b=3.84, c=3.84, alpha=120,\n",
    "                                  beta=90, gamma=60)\n",
    "struct = Structure(lattice, [\"Si\", \"Si\"], coords)\n",
    " \n",
    "coords = [[0.000000, 0.000000, 0.000000],\n",
    "          [0.000000, 0.000000, 1.089000],\n",
    "          [1.026719, 0.000000, -0.363000],\n",
    "          [-0.513360, -0.889165, -0.363000],\n",
    "          [-0.513360, 0.889165, -0.363000]]\n",
    "methane = Molecule([\"C\", \"H\", \"H\", \"H\", \"H\"], coords)\n",
    " \n",
    "print(methane)"
   ]
  },
  {
   "cell_type": "code",
   "execution_count": 29,
   "id": "f955df02-4f7c-4e3d-a0a8-e1dc4b6de519",
   "metadata": {
    "tags": []
   },
   "outputs": [
    {
     "data": {
      "text/plain": [
       "['__doc__',\n",
       " '__file__',\n",
       " '__loader__',\n",
       " '__name__',\n",
       " '__package__',\n",
       " '__path__',\n",
       " '__spec__',\n",
       " 'core',\n",
       " 'electronic_structure',\n",
       " 'ext',\n",
       " 'symmetry',\n",
       " 'util']"
      ]
     },
     "execution_count": 29,
     "metadata": {},
     "output_type": "execute_result"
    }
   ],
   "source": [
    "dir(pymatgen)"
   ]
  },
  {
   "cell_type": "code",
   "execution_count": 27,
   "id": "6e41c7b7-5a22-4e17-a9bb-f30ea4c7aeaf",
   "metadata": {
    "tags": []
   },
   "outputs": [
    {
     "data": {
      "text/plain": [
       "['Element',\n",
       " 'In',\n",
       " 'Lattice',\n",
       " 'Molecule',\n",
       " 'Out',\n",
       " 'Structure',\n",
       " '_',\n",
       " '_10',\n",
       " '_3',\n",
       " '__',\n",
       " '___',\n",
       " '__builtin__',\n",
       " '__builtins__',\n",
       " '__doc__',\n",
       " '__loader__',\n",
       " '__name__',\n",
       " '__package__',\n",
       " '__session__',\n",
       " '__spec__',\n",
       " '_dh',\n",
       " '_i',\n",
       " '_i1',\n",
       " '_i10',\n",
       " '_i11',\n",
       " '_i12',\n",
       " '_i13',\n",
       " '_i14',\n",
       " '_i15',\n",
       " '_i16',\n",
       " '_i17',\n",
       " '_i18',\n",
       " '_i19',\n",
       " '_i2',\n",
       " '_i20',\n",
       " '_i21',\n",
       " '_i22',\n",
       " '_i23',\n",
       " '_i24',\n",
       " '_i25',\n",
       " '_i26',\n",
       " '_i27',\n",
       " '_i3',\n",
       " '_i4',\n",
       " '_i5',\n",
       " '_i6',\n",
       " '_i7',\n",
       " '_i8',\n",
       " '_i9',\n",
       " '_ih',\n",
       " '_ii',\n",
       " '_iii',\n",
       " '_oh',\n",
       " 'coords',\n",
       " 'exit',\n",
       " 'ext',\n",
       " 'get_ipython',\n",
       " 'lattice',\n",
       " 'methane',\n",
       " 'mg',\n",
       " 'open',\n",
       " 'pymatgen',\n",
       " 'quit',\n",
       " 'struct']"
      ]
     },
     "execution_count": 27,
     "metadata": {},
     "output_type": "execute_result"
    }
   ],
   "source": [
    "dir()"
   ]
  },
  {
   "cell_type": "code",
   "execution_count": 31,
   "id": "7a742f41-8db5-4fb4-8204-739de6e5cd78",
   "metadata": {
    "tags": []
   },
   "outputs": [
    {
     "data": {
      "text/plain": [
       "['__doc__',\n",
       " '__file__',\n",
       " '__loader__',\n",
       " '__name__',\n",
       " '__package__',\n",
       " '__path__',\n",
       " '__spec__',\n",
       " 'core',\n",
       " 'electronic_structure',\n",
       " 'ext',\n",
       " 'symmetry',\n",
       " 'util']"
      ]
     },
     "execution_count": 31,
     "metadata": {},
     "output_type": "execute_result"
    }
   ],
   "source": [
    "dir(pymatgen)"
   ]
  },
  {
   "cell_type": "code",
   "execution_count": 39,
   "id": "110f9b46-c30a-4378-bf7f-c9ec0adcc599",
   "metadata": {
    "tags": []
   },
   "outputs": [
    {
     "data": {
      "text/plain": [
       "['ArrayWithUnit',\n",
       " 'Composition',\n",
       " 'DummySpecies',\n",
       " 'Element',\n",
       " 'FloatWithUnit',\n",
       " 'IMolecule',\n",
       " 'IStructure',\n",
       " 'Lattice',\n",
       " 'Molecule',\n",
       " 'PeriodicSite',\n",
       " 'SETTINGS',\n",
       " 'SETTINGS_FILE',\n",
       " 'Site',\n",
       " 'Species',\n",
       " 'Structure',\n",
       " 'SymmOp',\n",
       " 'Unit',\n",
       " 'YAML',\n",
       " '__author__',\n",
       " '__builtins__',\n",
       " '__cached__',\n",
       " '__doc__',\n",
       " '__email__',\n",
       " '__file__',\n",
       " '__loader__',\n",
       " '__maintainer__',\n",
       " '__maintainer_email__',\n",
       " '__name__',\n",
       " '__package__',\n",
       " '__path__',\n",
       " '__spec__',\n",
       " '__version__',\n",
       " '_load_pmg_settings',\n",
       " 'bonds',\n",
       " 'composition',\n",
       " 'lattice',\n",
       " 'operations',\n",
       " 'os',\n",
       " 'periodic_table',\n",
       " 'sites',\n",
       " 'structure',\n",
       " 'units',\n",
       " 'warnings']"
      ]
     },
     "execution_count": 39,
     "metadata": {},
     "output_type": "execute_result"
    }
   ],
   "source": [
    "dir(pymatgen.core)"
   ]
  },
  {
   "cell_type": "code",
   "execution_count": null,
   "id": "d1874372-0ea7-4c0f-bb0a-0f0ff14d23dd",
   "metadata": {},
   "outputs": [],
   "source": []
  },
  {
   "cell_type": "code",
   "execution_count": null,
   "id": "7eadd11d-642e-4e21-babf-2479dd26c359",
   "metadata": {},
   "outputs": [],
   "source": []
  },
  {
   "cell_type": "code",
   "execution_count": null,
   "id": "271b6b5b-3c2a-4482-9329-385009545ec6",
   "metadata": {},
   "outputs": [],
   "source": []
  },
  {
   "cell_type": "code",
   "execution_count": null,
   "id": "d7fa825a-70bc-4b00-b410-dcf710fd718f",
   "metadata": {},
   "outputs": [],
   "source": []
  },
  {
   "cell_type": "code",
   "execution_count": null,
   "id": "43f9348c-9bcb-4b07-a01b-3635e3c1ea89",
   "metadata": {},
   "outputs": [],
   "source": []
  },
  {
   "cell_type": "code",
   "execution_count": 23,
   "id": "8a37180b-2853-4e57-9dc1-9df661e08980",
   "metadata": {
    "tags": []
   },
   "outputs": [],
   "source": [
    "from pymatgen.core.periodic_table import Element"
   ]
  },
  {
   "cell_type": "code",
   "execution_count": 24,
   "id": "03b84583-47bb-4a88-91b4-c075044a38b5",
   "metadata": {
    "tags": []
   },
   "outputs": [
    {
     "ename": "NameError",
     "evalue": "name 'data_youngs_modulus' is not defined",
     "output_type": "error",
     "traceback": [
      "\u001b[0;31m---------------------------------------------------------------------------\u001b[0m",
      "\u001b[0;31mNameError\u001b[0m                                 Traceback (most recent call last)",
      "Cell \u001b[0;32mIn[24], line 1\u001b[0m\n\u001b[0;32m----> 1\u001b[0m \u001b[43mdata_youngs_modulus\u001b[49m\u001b[38;5;241m.\u001b[39mappend(Element(item)\u001b[38;5;241m.\u001b[39myoungs_modulus)\n",
      "\u001b[0;31mNameError\u001b[0m: name 'data_youngs_modulus' is not defined"
     ]
    }
   ],
   "source": [
    "data_youngs_modulus.append(Element(item).youngs_modulus)"
   ]
  },
  {
   "cell_type": "code",
   "execution_count": null,
   "id": "b7ec8509-7be7-4db6-bbf6-2edc78c153da",
   "metadata": {},
   "outputs": [],
   "source": []
  },
  {
   "cell_type": "code",
   "execution_count": null,
   "id": "a2578cfc-c1ae-4043-ac67-519a61a19168",
   "metadata": {},
   "outputs": [],
   "source": []
  },
  {
   "cell_type": "code",
   "execution_count": null,
   "id": "912c8acb-ca94-42ac-b02d-fdd94c1a3225",
   "metadata": {},
   "outputs": [],
   "source": []
  },
  {
   "cell_type": "code",
   "execution_count": null,
   "id": "e7796507-6bbc-4306-803b-964ef6a8478c",
   "metadata": {},
   "outputs": [],
   "source": []
  },
  {
   "cell_type": "code",
   "execution_count": 21,
   "id": "dd11bb08-97c7-4d2f-8f74-936d8e4fd6fe",
   "metadata": {
    "tags": []
   },
   "outputs": [
    {
     "ename": "AttributeError",
     "evalue": "module 'pymatgen' has no attribute 'Element'",
     "output_type": "error",
     "traceback": [
      "\u001b[0;31m---------------------------------------------------------------------------\u001b[0m",
      "\u001b[0;31mAttributeError\u001b[0m                            Traceback (most recent call last)",
      "Cell \u001b[0;32mIn[21], line 3\u001b[0m\n\u001b[1;32m      1\u001b[0m \u001b[38;5;28;01mimport\u001b[39;00m \u001b[38;5;21;01mpymatgen\u001b[39;00m \u001b[38;5;28;01mas\u001b[39;00m \u001b[38;5;21;01mmg\u001b[39;00m\n\u001b[0;32m----> 3\u001b[0m si \u001b[38;5;241m=\u001b[39m \u001b[43mmg\u001b[49m\u001b[38;5;241;43m.\u001b[39;49m\u001b[43mElement\u001b[49m(\u001b[38;5;124m'\u001b[39m\u001b[38;5;124mSi\u001b[39m\u001b[38;5;124m'\u001b[39m)\n\u001b[1;32m      4\u001b[0m \u001b[38;5;28mprint\u001b[39m(si\u001b[38;5;241m.\u001b[39matomic_mass)\n\u001b[1;32m      5\u001b[0m \u001b[38;5;28mprint\u001b[39m(si\u001b[38;5;241m.\u001b[39mmelting_point)\n",
      "\u001b[0;31mAttributeError\u001b[0m: module 'pymatgen' has no attribute 'Element'"
     ]
    }
   ],
   "source": [
    "import pymatgen as mg\n",
    "\n",
    "si = mg.Element('Si')\n",
    "print(si.atomic_mass)\n",
    "print(si.melting_point)\n"
   ]
  },
  {
   "cell_type": "code",
   "execution_count": 22,
   "id": "dac96313-24c5-4ec2-ac9b-dcc7e319ad30",
   "metadata": {
    "tags": []
   },
   "outputs": [
    {
     "ename": "AttributeError",
     "evalue": "module 'pymatgen' has no attribute 'Element'",
     "output_type": "error",
     "traceback": [
      "\u001b[0;31m---------------------------------------------------------------------------\u001b[0m",
      "\u001b[0;31mAttributeError\u001b[0m                            Traceback (most recent call last)",
      "Cell \u001b[0;32mIn[22], line 1\u001b[0m\n\u001b[0;32m----> 1\u001b[0m \u001b[43mpymatgen\u001b[49m\u001b[38;5;241;43m.\u001b[39;49m\u001b[43mElement\u001b[49m(\u001b[38;5;124m\"\u001b[39m\u001b[38;5;124mSi\u001b[39m\u001b[38;5;124m\"\u001b[39m)\u001b[38;5;241m.\u001b[39matomic_mass\n",
      "\u001b[0;31mAttributeError\u001b[0m: module 'pymatgen' has no attribute 'Element'"
     ]
    }
   ],
   "source": [
    "pymatgen.Element(\"Si\").atomic_mass"
   ]
  },
  {
   "cell_type": "code",
   "execution_count": 20,
   "id": "068f9fd8-b1cc-4bbd-bc26-64147d563064",
   "metadata": {
    "tags": []
   },
   "outputs": [],
   "source": [
    "from pymatgen.core import Lattice, Structure, Molecule\n",
    "\n",
    "coords = [[0, 0, 0], [0.75,0.5,0.75]]\n",
    "lattice = Lattice.from_parameters(a=3.84, b=3.84, c=3.84, alpha=120,\n",
    "                                  beta=90, gamma=60)\n",
    "struct = Structure(lattice, [\"Si\", \"Si\"], coords)\n",
    "\n",
    "coords = [[0.000000, 0.000000, 0.000000],\n",
    "          [0.000000, 0.000000, 1.089000],\n",
    "          [1.026719, 0.000000, -0.363000],\n",
    "          [-0.513360, -0.889165, -0.363000],\n",
    "          [-0.513360, 0.889165, -0.363000]]\n",
    "methane = Molecule([\"C\", \"H\", \"H\", \"H\", \"H\"], coords)\n"
   ]
  },
  {
   "cell_type": "code",
   "execution_count": null,
   "id": "9b81dbee-076e-4b33-a4ac-fcf8e5054805",
   "metadata": {},
   "outputs": [],
   "source": []
  },
  {
   "cell_type": "code",
   "execution_count": 18,
   "id": "bf4b0fab-c01e-4eaa-b7dd-dad176bbc370",
   "metadata": {
    "tags": []
   },
   "outputs": [],
   "source": [
    "import pymatgen"
   ]
  },
  {
   "cell_type": "code",
   "execution_count": 19,
   "id": "8c097722-f2eb-43ad-b6c7-c6d9afbc772d",
   "metadata": {
    "tags": []
   },
   "outputs": [
    {
     "ename": "AttributeError",
     "evalue": "module 'pymatgen' has no attribute '__version__'",
     "output_type": "error",
     "traceback": [
      "\u001b[0;31m---------------------------------------------------------------------------\u001b[0m",
      "\u001b[0;31mAttributeError\u001b[0m                            Traceback (most recent call last)",
      "Cell \u001b[0;32mIn[19], line 1\u001b[0m\n\u001b[0;32m----> 1\u001b[0m \u001b[43mpymatgen\u001b[49m\u001b[38;5;241;43m.\u001b[39;49m\u001b[43m__version__\u001b[49m\n",
      "\u001b[0;31mAttributeError\u001b[0m: module 'pymatgen' has no attribute '__version__'"
     ]
    }
   ],
   "source": [
    "pymatgen.__version__"
   ]
  },
  {
   "cell_type": "code",
   "execution_count": 17,
   "id": "13475367-e9be-4fb4-8094-12555f52c322",
   "metadata": {
    "tags": []
   },
   "outputs": [
    {
     "ename": "AttributeError",
     "evalue": "module 'pymatgen' has no attribute '__version__'",
     "output_type": "error",
     "traceback": [
      "\u001b[0;31m---------------------------------------------------------------------------\u001b[0m",
      "\u001b[0;31mAttributeError\u001b[0m                            Traceback (most recent call last)",
      "Cell \u001b[0;32mIn[17], line 2\u001b[0m\n\u001b[1;32m      1\u001b[0m \u001b[38;5;28;01mimport\u001b[39;00m \u001b[38;5;21;01mpymatgen\u001b[39;00m\n\u001b[0;32m----> 2\u001b[0m \u001b[43mpymatgen\u001b[49m\u001b[38;5;241;43m.\u001b[39;49m\u001b[43m__version__\u001b[49m\n\u001b[1;32m      3\u001b[0m \u001b[38;5;124m'\u001b[39m\u001b[38;5;124m4.5.4\u001b[39m\u001b[38;5;124m'\u001b[39m\n",
      "\u001b[0;31mAttributeError\u001b[0m: module 'pymatgen' has no attribute '__version__'"
     ]
    }
   ],
   "source": [
    "import pymatgen\n",
    ">>> \n",
    "'4.5.4'\n"
   ]
  },
  {
   "cell_type": "code",
   "execution_count": 13,
   "id": "3f65e9ab-7e7f-492c-acf6-c4d4ab06762f",
   "metadata": {
    "tags": []
   },
   "outputs": [],
   "source": [
    "from pymatgen import ext"
   ]
  },
  {
   "cell_type": "code",
   "execution_count": 16,
   "id": "82776d72-c36c-4d94-9861-95cbef5d5186",
   "metadata": {
    "tags": []
   },
   "outputs": [
    {
     "ename": "AttributeError",
     "evalue": "module 'pymatgen' has no attribute '__version__'",
     "output_type": "error",
     "traceback": [
      "\u001b[0;31m---------------------------------------------------------------------------\u001b[0m",
      "\u001b[0;31mAttributeError\u001b[0m                            Traceback (most recent call last)",
      "Cell \u001b[0;32mIn[16], line 1\u001b[0m\n\u001b[0;32m----> 1\u001b[0m \u001b[43mpymatgen\u001b[49m\u001b[38;5;241;43m.\u001b[39;49m\u001b[43m__version__\u001b[49m\n",
      "\u001b[0;31mAttributeError\u001b[0m: module 'pymatgen' has no attribute '__version__'"
     ]
    }
   ],
   "source": [
    "pymatgen.__version__"
   ]
  },
  {
   "cell_type": "code",
   "execution_count": 3,
   "id": "84073a76-2e03-46bb-8507-5f53e6ea47f0",
   "metadata": {
    "tags": []
   },
   "outputs": [
    {
     "data": {
      "text/plain": [
       "['__doc__',\n",
       " '__file__',\n",
       " '__loader__',\n",
       " '__name__',\n",
       " '__package__',\n",
       " '__path__',\n",
       " '__spec__']"
      ]
     },
     "execution_count": 3,
     "metadata": {},
     "output_type": "execute_result"
    }
   ],
   "source": [
    "dir(pymatgen)"
   ]
  },
  {
   "cell_type": "code",
   "execution_count": 5,
   "id": "0661f49a-fbbf-433a-9e2d-32425b8eec92",
   "metadata": {
    "tags": []
   },
   "outputs": [
    {
     "name": "stdout",
     "output_type": "stream",
     "text": [
      "None\n"
     ]
    }
   ],
   "source": [
    "print(pymatgen.__file__)"
   ]
  },
  {
   "cell_type": "code",
   "execution_count": 7,
   "id": "e35a5098-dc8b-4dcd-b4f8-31e36b258adc",
   "metadata": {
    "tags": []
   },
   "outputs": [
    {
     "name": "stdout",
     "output_type": "stream",
     "text": [
      "None\n"
     ]
    }
   ],
   "source": [
    "print(pymatgen.__doc__)"
   ]
  },
  {
   "cell_type": "code",
   "execution_count": null,
   "id": "8f0ac078-ad50-42ba-af28-25b30c9dbd5a",
   "metadata": {},
   "outputs": [],
   "source": []
  }
 ],
 "metadata": {
  "kernelspec": {
   "display_name": "Python 3 (ipykernel)",
   "language": "python",
   "name": "python3"
  },
  "language_info": {
   "codemirror_mode": {
    "name": "ipython",
    "version": 3
   },
   "file_extension": ".py",
   "mimetype": "text/x-python",
   "name": "python",
   "nbconvert_exporter": "python",
   "pygments_lexer": "ipython3",
   "version": "3.10.12"
  }
 },
 "nbformat": 4,
 "nbformat_minor": 5
}
