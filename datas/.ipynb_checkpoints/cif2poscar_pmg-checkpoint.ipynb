{
 "cells": [
  {
   "cell_type": "code",
   "execution_count": 11,
   "id": "b57f2332-9e0a-4b98-9a82-994e1e853b6e",
   "metadata": {
    "tags": []
   },
   "outputs": [
    {
     "name": "stdout",
     "output_type": "stream",
     "text": [
      "--2023-10-27 15:07:39--  https://www.crystallography.net/cod/1507756.cif\n",
      "Resolving www.crystallography.net (www.crystallography.net)... 158.129.170.82\n",
      "Connecting to www.crystallography.net (www.crystallography.net)|158.129.170.82|:443... connected.\n",
      "HTTP request sent, awaiting response... 200 OK\n",
      "Length: 2551 (2.5K) [chemical/x-cif]\n",
      "Saving to: ‘1507756.cif’\n",
      "\n",
      "1507756.cif         100%[===================>]   2.49K  --.-KB/s    in 0s      \n",
      "\n",
      "2023-10-27 15:07:41 (80.4 MB/s) - ‘1507756.cif’ saved [2551/2551]\n",
      "\n"
     ]
    }
   ],
   "source": [
    "!wget https://www.crystallography.net/cod/1507756.cif"
   ]
  },
  {
   "cell_type": "code",
   "execution_count": null,
   "id": "be8f129f-8e41-4519-9e75-cbc2b80fa9a0",
   "metadata": {},
   "outputs": [],
   "source": []
  },
  {
   "cell_type": "code",
   "execution_count": null,
   "id": "7b2842b6-4368-4788-beb5-79402923db37",
   "metadata": {},
   "outputs": [],
   "source": []
  },
  {
   "cell_type": "code",
   "execution_count": 17,
   "id": "0c0b9ef0-6c1a-46ac-9044-6d824624b6da",
   "metadata": {
    "tags": []
   },
   "outputs": [],
   "source": [
    "cif_file = '1507756.cif'"
   ]
  },
  {
   "cell_type": "code",
   "execution_count": 34,
   "id": "91ab43e8-b860-4daf-8547-7320cdb0b060",
   "metadata": {
    "tags": []
   },
   "outputs": [
    {
     "data": {
      "text/plain": [
       "'1507756'"
      ]
     },
     "execution_count": 34,
     "metadata": {},
     "output_type": "execute_result"
    }
   ],
   "source": [
    "cif_file_number = cif_file.split(\".\")[0]\n",
    "cif_file_number"
   ]
  },
  {
   "cell_type": "code",
   "execution_count": 30,
   "id": "73cd39b7-5e95-4d6b-93da-f03076aa2c65",
   "metadata": {
    "tags": []
   },
   "outputs": [],
   "source": [
    "import os\n",
    "os.mkdir(cif_file_number)"
   ]
  },
  {
   "cell_type": "code",
   "execution_count": null,
   "id": "b202548b-de5a-4d56-b2c9-cc5eac0c2145",
   "metadata": {},
   "outputs": [],
   "source": []
  },
  {
   "cell_type": "code",
   "execution_count": null,
   "id": "d08acf23-3800-4ddd-8b07-6a24aade5276",
   "metadata": {},
   "outputs": [],
   "source": []
  },
  {
   "cell_type": "code",
   "execution_count": null,
   "id": "de5e9c38-48f0-4044-8492-644dabb40dd4",
   "metadata": {},
   "outputs": [],
   "source": []
  },
  {
   "cell_type": "code",
   "execution_count": 32,
   "id": "1725ac14-c77d-4eb4-8c57-db9c6fc19961",
   "metadata": {
    "tags": []
   },
   "outputs": [],
   "source": [
    "import os\n",
    "def mk_cif_num_folder(cif_file):\n",
    "    \"\"\"\n",
    "    To create a new dirctory which name is CIF file, Use thie func().\n",
    "    \n",
    "    param1: example: cif_file='1507756.cif'\n",
    "    \"\"\"\n",
    "    cif_file_number = cif_file.split(\".\")[0]\n",
    "    os.mkdir(cif_file_number)"
   ]
  },
  {
   "cell_type": "code",
   "execution_count": 33,
   "id": "13b3ed23-ab8c-4297-9739-273bb0d7d601",
   "metadata": {
    "tags": []
   },
   "outputs": [],
   "source": [
    "mk_cif_num_folder(cif_file)"
   ]
  },
  {
   "cell_type": "code",
   "execution_count": null,
   "id": "59492270-b884-4541-b87e-940fc3bcdd38",
   "metadata": {},
   "outputs": [],
   "source": []
  },
  {
   "cell_type": "code",
   "execution_count": null,
   "id": "bd854319-5269-4cc5-83e4-d4b084cd27a0",
   "metadata": {},
   "outputs": [],
   "source": []
  },
  {
   "cell_type": "code",
   "execution_count": null,
   "id": "33a45612-b3ba-4380-9f91-441cf54b3143",
   "metadata": {},
   "outputs": [],
   "source": []
  },
  {
   "cell_type": "code",
   "execution_count": 23,
   "id": "f0bcba45-b6f0-46a5-b8d2-319cc9ab53e2",
   "metadata": {
    "tags": []
   },
   "outputs": [],
   "source": [
    "from pymatgen.io.cif import CifParser\n",
    "def cif2poscar(cif_file):\n",
    "    parser = CifParser(cif_file)\n",
    "    structure = parser.get_structures()[0]\n",
    "    \n",
    "    # POSCARファイルとして書き出し\n",
    "    structure.to(fmt=\"poscar\", filename=\"POSCAR\")"
   ]
  },
  {
   "cell_type": "code",
   "execution_count": 24,
   "id": "fdc7f706-f7b5-400a-92da-6783420b954b",
   "metadata": {
    "tags": []
   },
   "outputs": [],
   "source": [
    "cif2poscar(cif_file=cif_file)"
   ]
  },
  {
   "cell_type": "code",
   "execution_count": null,
   "id": "2f56cbce-5f41-4f93-be0c-b9fe8abcc5ea",
   "metadata": {},
   "outputs": [],
   "source": []
  },
  {
   "cell_type": "markdown",
   "id": "0f7ac38d-41ee-4a25-9ee1-e35ae9b5cfd8",
   "metadata": {},
   "source": [
    "## cif2poscarとmk_cif_num_folderを組み合わせた関数"
   ]
  },
  {
   "cell_type": "code",
   "execution_count": 37,
   "id": "21a196de-18b9-4f09-af05-b8f17934da6d",
   "metadata": {
    "tags": []
   },
   "outputs": [],
   "source": [
    "from pymatgen.io.cif import CifParser\n",
    "import os\n",
    "\n",
    "def cif2poscar(cif_file):\n",
    "    parser = CifParser(cif_file)\n",
    "    structure = parser.get_structures()[0]\n",
    "    \n",
    "    \n",
    "    \n",
    "    \n",
    "    def mk_cif_num_folder(cif_file):\n",
    "        \"\"\"\n",
    "        To create a new dirctory which name is CIF file, Use thie func().\n",
    "\n",
    "        param1: example: cif_file='1507756.cif'\n",
    "        \"\"\"\n",
    "        cif_file_number = cif_file.split(\".\")[0]\n",
    "        os.mkdir(cif_file_number)\n",
    "    \n",
    "    # Create new folder\n",
    "    mk_cif_num_folder(cif_file)\n",
    "    # Createしたフォルダに，POSCARファイルとして書き出し\n",
    "    structure.to(fmt=\"poscar\", filename=f\"{cif_file_number}/POSCAR\")"
   ]
  },
  {
   "cell_type": "code",
   "execution_count": null,
   "id": "296233b3-5cbf-4d9e-b845-4bfe1fc42482",
   "metadata": {},
   "outputs": [],
   "source": []
  },
  {
   "cell_type": "code",
   "execution_count": 38,
   "id": "ae958319-7093-46af-96b0-065fa8c40990",
   "metadata": {
    "tags": []
   },
   "outputs": [],
   "source": [
    "# cif2poscarのテスト\n",
    "cif_file = '1507756.cif'\n",
    "cif2poscar(cif_file)"
   ]
  },
  {
   "cell_type": "code",
   "execution_count": null,
   "id": "ed4c4840-18fa-4519-8a2f-5cc41c55267a",
   "metadata": {},
   "outputs": [],
   "source": []
  },
  {
   "cell_type": "code",
   "execution_count": null,
   "id": "5a3ccd56-1f07-41d7-b1ea-7f6b22e97ee5",
   "metadata": {},
   "outputs": [],
   "source": []
  },
  {
   "cell_type": "code",
   "execution_count": null,
   "id": "261ac428-7009-48b1-a182-a45e4dd90932",
   "metadata": {},
   "outputs": [],
   "source": []
  },
  {
   "cell_type": "code",
   "execution_count": null,
   "id": "b9754dd7-c2c0-456e-a36f-86fc8b77d500",
   "metadata": {},
   "outputs": [],
   "source": []
  },
  {
   "cell_type": "code",
   "execution_count": 13,
   "id": "0ce78b0d-512d-4797-911c-75983048bca8",
   "metadata": {
    "tags": []
   },
   "outputs": [],
   "source": [
    "from pymatgen.io.cif import CifParser\n",
    "\n",
    "parser = CifParser(cif_file)\n",
    "structure = parser.get_structures()[0]"
   ]
  },
  {
   "cell_type": "code",
   "execution_count": 14,
   "id": "dbcd7b2d-b117-4838-bede-fde7023f7859",
   "metadata": {
    "tags": []
   },
   "outputs": [],
   "source": [
    "# POSCARファイルとして書き出し\n",
    "structure.to(fmt=\"poscar\", filename=\"POSCAR\")"
   ]
  },
  {
   "cell_type": "code",
   "execution_count": null,
   "id": "d081edbc-0750-46bb-95db-e8c63e1a023b",
   "metadata": {},
   "outputs": [],
   "source": []
  },
  {
   "cell_type": "code",
   "execution_count": null,
   "id": "12eaaeda-516e-412d-b3ce-fb4d5fe1759f",
   "metadata": {},
   "outputs": [],
   "source": []
  },
  {
   "cell_type": "code",
   "execution_count": null,
   "id": "c2ebbe27-4def-4c27-9d25-ddc8200def28",
   "metadata": {},
   "outputs": [],
   "source": []
  },
  {
   "cell_type": "code",
   "execution_count": null,
   "id": "e0b673e9-0211-4715-a14d-b8aa38ad82ce",
   "metadata": {},
   "outputs": [],
   "source": []
  },
  {
   "cell_type": "code",
   "execution_count": null,
   "id": "9a76cd47-9f08-4b9c-84ac-b4c348d8f4ce",
   "metadata": {},
   "outputs": [],
   "source": []
  },
  {
   "cell_type": "code",
   "execution_count": null,
   "id": "88eb1149-e1fb-43ba-83fa-6216690eaced",
   "metadata": {},
   "outputs": [],
   "source": [
    "from pymatgen.io.cif import CifWriter\n",
    "from pymatgen.io.vasp import Poscar\n",
    "\n",
    "poscar = Poscar.from_file(\"POSCAR\")\n",
    "w = CifWriter(poscar.structure)\n",
    "w.write_file('mystructure.cif')"
   ]
  }
 ],
 "metadata": {
  "kernelspec": {
   "display_name": "Python 3 (ipykernel)",
   "language": "python",
   "name": "python3"
  },
  "language_info": {
   "codemirror_mode": {
    "name": "ipython",
    "version": 3
   },
   "file_extension": ".py",
   "mimetype": "text/x-python",
   "name": "python",
   "nbconvert_exporter": "python",
   "pygments_lexer": "ipython3",
   "version": "3.10.12"
  }
 },
 "nbformat": 4,
 "nbformat_minor": 5
}
