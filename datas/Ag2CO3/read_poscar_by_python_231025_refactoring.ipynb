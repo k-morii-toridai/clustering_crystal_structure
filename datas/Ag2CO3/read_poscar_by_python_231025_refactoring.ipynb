{
 "cells": [
  {
   "cell_type": "markdown",
   "metadata": {},
   "source": [
    "# CaCO3"
   ]
  },
  {
   "cell_type": "markdown",
   "metadata": {},
   "source": [
    "### Ca^2+ (https://sakaki.issp.u-tokyo.ac.jp/expdata/periodic/Ca)\n",
    "### CO3^2-"
   ]
  },
  {
   "cell_type": "markdown",
   "metadata": {},
   "source": [
    "### python3のバージョンを確認"
   ]
  },
  {
   "cell_type": "code",
   "execution_count": 1,
   "metadata": {
    "tags": []
   },
   "outputs": [
    {
     "name": "stdout",
     "output_type": "stream",
     "text": [
      "/usr/bin/python3\n"
     ]
    }
   ],
   "source": [
    "!which python3"
   ]
  },
  {
   "cell_type": "markdown",
   "metadata": {},
   "source": [
    "### packageからVESTAを読みだす"
   ]
  },
  {
   "cell_type": "code",
   "execution_count": 2,
   "metadata": {
    "tags": []
   },
   "outputs": [],
   "source": [
    "from my_package import visualize"
   ]
  },
  {
   "cell_type": "markdown",
   "metadata": {},
   "source": [
    "### VESTAでPOSCARファイルを可視化"
   ]
  },
  {
   "cell_type": "code",
   "execution_count": 38,
   "metadata": {
    "tags": []
   },
   "outputs": [],
   "source": [
    "POSCAR = './POSCAR'\n",
    "visualize.vesta(POSCAR)"
   ]
  },
  {
   "cell_type": "markdown",
   "metadata": {},
   "source": [
    "### ASEでPOSCARファイルを可視化"
   ]
  },
  {
   "cell_type": "code",
   "execution_count": 41,
   "metadata": {
    "tags": []
   },
   "outputs": [
    {
     "data": {
      "application/vnd.jupyter.widget-view+json": {
       "model_id": "060f5378f666431a9fc09b292dd14c54",
       "version_major": 2,
       "version_minor": 0
      },
      "text/plain": [
       "HBox(children=(NGLWidget(), VBox(children=(Dropdown(description='Show', options=('All', 'Ag', 'O', 'C'), value…"
      ]
     },
     "execution_count": 41,
     "metadata": {},
     "output_type": "execute_result"
    }
   ],
   "source": [
    "from ase.io import read, write\n",
    "# POSCARファイルの読み込み\n",
    "atoms = read('POSCAR')\n",
    "\n",
    "# POSCARファイルの描画\n",
    "from ase.visualize import view, ngl\n",
    "ngl.view_ngl(atoms)"
   ]
  },
  {
   "cell_type": "markdown",
   "metadata": {},
   "source": [
    "### Converting a POSCAR file to a DataFrame"
   ]
  },
  {
   "cell_type": "code",
   "execution_count": 5,
   "metadata": {
    "tags": []
   },
   "outputs": [
    {
     "data": {
      "text/html": [
       "<div>\n",
       "<style scoped>\n",
       "    .dataframe tbody tr th:only-of-type {\n",
       "        vertical-align: middle;\n",
       "    }\n",
       "\n",
       "    .dataframe tbody tr th {\n",
       "        vertical-align: top;\n",
       "    }\n",
       "\n",
       "    .dataframe thead th {\n",
       "        text-align: right;\n",
       "    }\n",
       "</style>\n",
       "<table border=\"1\" class=\"dataframe\">\n",
       "  <thead>\n",
       "    <tr style=\"text-align: right;\">\n",
       "      <th></th>\n",
       "      <th>central atom</th>\n",
       "      <th>x</th>\n",
       "      <th>y</th>\n",
       "      <th>z</th>\n",
       "      <th>Species</th>\n",
       "    </tr>\n",
       "  </thead>\n",
       "  <tbody>\n",
       "    <tr>\n",
       "      <th>0</th>\n",
       "      <td>1</td>\n",
       "      <td>0.982000000000000</td>\n",
       "      <td>0.250000000000000</td>\n",
       "      <td>0.889000000000000</td>\n",
       "      <td>O</td>\n",
       "    </tr>\n",
       "    <tr>\n",
       "      <th>1</th>\n",
       "      <td>2</td>\n",
       "      <td>0.018000000000000</td>\n",
       "      <td>0.750000000000000</td>\n",
       "      <td>0.111000000000000</td>\n",
       "      <td>O</td>\n",
       "    </tr>\n",
       "    <tr>\n",
       "      <th>2</th>\n",
       "      <td>3</td>\n",
       "      <td>0.390000000000000</td>\n",
       "      <td>0.634200000000000</td>\n",
       "      <td>0.334000000000000</td>\n",
       "      <td>O</td>\n",
       "    </tr>\n",
       "    <tr>\n",
       "      <th>3</th>\n",
       "      <td>4</td>\n",
       "      <td>0.390000000000000</td>\n",
       "      <td>0.865800000000000</td>\n",
       "      <td>0.334000000000000</td>\n",
       "      <td>O</td>\n",
       "    </tr>\n",
       "    <tr>\n",
       "      <th>4</th>\n",
       "      <td>5</td>\n",
       "      <td>0.610000000000000</td>\n",
       "      <td>0.365800000000000</td>\n",
       "      <td>0.666000000000000</td>\n",
       "      <td>O</td>\n",
       "    </tr>\n",
       "    <tr>\n",
       "      <th>5</th>\n",
       "      <td>6</td>\n",
       "      <td>0.610000000000000</td>\n",
       "      <td>0.134200000000000</td>\n",
       "      <td>0.666000000000000</td>\n",
       "      <td>O</td>\n",
       "    </tr>\n",
       "    <tr>\n",
       "      <th>6</th>\n",
       "      <td>7</td>\n",
       "      <td>0.210900000000000</td>\n",
       "      <td>0.078100000000000</td>\n",
       "      <td>0.219100000000000</td>\n",
       "      <td>Ag</td>\n",
       "    </tr>\n",
       "    <tr>\n",
       "      <th>7</th>\n",
       "      <td>8</td>\n",
       "      <td>0.210900000000000</td>\n",
       "      <td>0.421900000000000</td>\n",
       "      <td>0.219100000000000</td>\n",
       "      <td>Ag</td>\n",
       "    </tr>\n",
       "    <tr>\n",
       "      <th>8</th>\n",
       "      <td>9</td>\n",
       "      <td>0.789100000000000</td>\n",
       "      <td>0.921900000000000</td>\n",
       "      <td>0.780900000000000</td>\n",
       "      <td>Ag</td>\n",
       "    </tr>\n",
       "    <tr>\n",
       "      <th>9</th>\n",
       "      <td>10</td>\n",
       "      <td>0.789100000000000</td>\n",
       "      <td>0.578100000000000</td>\n",
       "      <td>0.780900000000000</td>\n",
       "      <td>Ag</td>\n",
       "    </tr>\n",
       "    <tr>\n",
       "      <th>10</th>\n",
       "      <td>11</td>\n",
       "      <td>0.270000000000000</td>\n",
       "      <td>0.750000000000000</td>\n",
       "      <td>0.261000000000000</td>\n",
       "      <td>C</td>\n",
       "    </tr>\n",
       "    <tr>\n",
       "      <th>11</th>\n",
       "      <td>12</td>\n",
       "      <td>0.730000000000000</td>\n",
       "      <td>0.250000000000000</td>\n",
       "      <td>0.739000000000000</td>\n",
       "      <td>C</td>\n",
       "    </tr>\n",
       "  </tbody>\n",
       "</table>\n",
       "</div>"
      ],
      "text/plain": [
       "    central atom                  x                  y                  z  \\\n",
       "0              1  0.982000000000000  0.250000000000000  0.889000000000000   \n",
       "1              2  0.018000000000000  0.750000000000000  0.111000000000000   \n",
       "2              3  0.390000000000000  0.634200000000000  0.334000000000000   \n",
       "3              4  0.390000000000000  0.865800000000000  0.334000000000000   \n",
       "4              5  0.610000000000000  0.365800000000000  0.666000000000000   \n",
       "5              6  0.610000000000000  0.134200000000000  0.666000000000000   \n",
       "6              7  0.210900000000000  0.078100000000000  0.219100000000000   \n",
       "7              8  0.210900000000000  0.421900000000000  0.219100000000000   \n",
       "8              9  0.789100000000000  0.921900000000000  0.780900000000000   \n",
       "9             10  0.789100000000000  0.578100000000000  0.780900000000000   \n",
       "10            11  0.270000000000000  0.750000000000000  0.261000000000000   \n",
       "11            12  0.730000000000000  0.250000000000000  0.739000000000000   \n",
       "\n",
       "   Species  \n",
       "0        O  \n",
       "1        O  \n",
       "2        O  \n",
       "3        O  \n",
       "4        O  \n",
       "5        O  \n",
       "6       Ag  \n",
       "7       Ag  \n",
       "8       Ag  \n",
       "9       Ag  \n",
       "10       C  \n",
       "11       C  "
      ]
     },
     "execution_count": 5,
     "metadata": {},
     "output_type": "execute_result"
    }
   ],
   "source": [
    "from my_package.textfile2df import poscar2df_coords \n",
    "\n",
    "df_coords = poscar2df_coords(filename='./POSCAR')\n",
    "df_coords"
   ]
  },
  {
   "cell_type": "markdown",
   "metadata": {},
   "source": [
    "### converting POSCAR.nnlist to df_nnlist"
   ]
  },
  {
   "cell_type": "code",
   "execution_count": 6,
   "metadata": {
    "tags": []
   },
   "outputs": [
    {
     "data": {
      "text/html": [
       "<div>\n",
       "<style scoped>\n",
       "    .dataframe tbody tr th:only-of-type {\n",
       "        vertical-align: middle;\n",
       "    }\n",
       "\n",
       "    .dataframe tbody tr th {\n",
       "        vertical-align: top;\n",
       "    }\n",
       "\n",
       "    .dataframe thead th {\n",
       "        text-align: right;\n",
       "    }\n",
       "</style>\n",
       "<table border=\"1\" class=\"dataframe\">\n",
       "  <thead>\n",
       "    <tr style=\"text-align: right;\">\n",
       "      <th></th>\n",
       "      <th>central atom</th>\n",
       "      <th>neighboring atom</th>\n",
       "      <th>distance</th>\n",
       "      <th>X</th>\n",
       "      <th>Y</th>\n",
       "      <th>Z</th>\n",
       "      <th>unitcell_x</th>\n",
       "      <th>unitcell_y</th>\n",
       "      <th>unitcell_z</th>\n",
       "      <th>central species</th>\n",
       "      <th>neighboring species</th>\n",
       "    </tr>\n",
       "  </thead>\n",
       "  <tbody>\n",
       "    <tr>\n",
       "      <th>0</th>\n",
       "      <td>1</td>\n",
       "      <td>1</td>\n",
       "      <td>0.000000</td>\n",
       "      <td>0.000000</td>\n",
       "      <td>0.000000</td>\n",
       "      <td>0.000000</td>\n",
       "      <td>0</td>\n",
       "      <td>0</td>\n",
       "      <td>0</td>\n",
       "      <td>O</td>\n",
       "      <td>O</td>\n",
       "    </tr>\n",
       "    <tr>\n",
       "      <th>1</th>\n",
       "      <td>1</td>\n",
       "      <td>12</td>\n",
       "      <td>1.300983</td>\n",
       "      <td>-1.206005</td>\n",
       "      <td>0.000000</td>\n",
       "      <td>-0.487964</td>\n",
       "      <td>0</td>\n",
       "      <td>0</td>\n",
       "      <td>0</td>\n",
       "      <td>O</td>\n",
       "      <td>C</td>\n",
       "    </tr>\n",
       "    <tr>\n",
       "      <th>2</th>\n",
       "      <td>2</td>\n",
       "      <td>2</td>\n",
       "      <td>0.000000</td>\n",
       "      <td>0.000000</td>\n",
       "      <td>0.000000</td>\n",
       "      <td>0.000000</td>\n",
       "      <td>0</td>\n",
       "      <td>0</td>\n",
       "      <td>0</td>\n",
       "      <td>O</td>\n",
       "      <td>O</td>\n",
       "    </tr>\n",
       "    <tr>\n",
       "      <th>3</th>\n",
       "      <td>2</td>\n",
       "      <td>11</td>\n",
       "      <td>1.300983</td>\n",
       "      <td>1.206005</td>\n",
       "      <td>0.000000</td>\n",
       "      <td>0.487964</td>\n",
       "      <td>0</td>\n",
       "      <td>0</td>\n",
       "      <td>0</td>\n",
       "      <td>O</td>\n",
       "      <td>C</td>\n",
       "    </tr>\n",
       "    <tr>\n",
       "      <th>4</th>\n",
       "      <td>3</td>\n",
       "      <td>3</td>\n",
       "      <td>0.000000</td>\n",
       "      <td>0.000000</td>\n",
       "      <td>0.000000</td>\n",
       "      <td>0.000000</td>\n",
       "      <td>0</td>\n",
       "      <td>0</td>\n",
       "      <td>0</td>\n",
       "      <td>O</td>\n",
       "      <td>O</td>\n",
       "    </tr>\n",
       "    <tr>\n",
       "      <th>5</th>\n",
       "      <td>3</td>\n",
       "      <td>11</td>\n",
       "      <td>1.268764</td>\n",
       "      <td>-0.574113</td>\n",
       "      <td>1.106237</td>\n",
       "      <td>-0.237476</td>\n",
       "      <td>0</td>\n",
       "      <td>0</td>\n",
       "      <td>0</td>\n",
       "      <td>O</td>\n",
       "      <td>C</td>\n",
       "    </tr>\n",
       "    <tr>\n",
       "      <th>6</th>\n",
       "      <td>4</td>\n",
       "      <td>4</td>\n",
       "      <td>0.000000</td>\n",
       "      <td>0.000000</td>\n",
       "      <td>0.000000</td>\n",
       "      <td>0.000000</td>\n",
       "      <td>0</td>\n",
       "      <td>0</td>\n",
       "      <td>0</td>\n",
       "      <td>O</td>\n",
       "      <td>O</td>\n",
       "    </tr>\n",
       "    <tr>\n",
       "      <th>7</th>\n",
       "      <td>4</td>\n",
       "      <td>11</td>\n",
       "      <td>1.268764</td>\n",
       "      <td>-0.574113</td>\n",
       "      <td>-1.106237</td>\n",
       "      <td>-0.237476</td>\n",
       "      <td>0</td>\n",
       "      <td>0</td>\n",
       "      <td>0</td>\n",
       "      <td>O</td>\n",
       "      <td>C</td>\n",
       "    </tr>\n",
       "    <tr>\n",
       "      <th>8</th>\n",
       "      <td>5</td>\n",
       "      <td>5</td>\n",
       "      <td>0.000000</td>\n",
       "      <td>0.000000</td>\n",
       "      <td>0.000000</td>\n",
       "      <td>0.000000</td>\n",
       "      <td>0</td>\n",
       "      <td>0</td>\n",
       "      <td>0</td>\n",
       "      <td>O</td>\n",
       "      <td>O</td>\n",
       "    </tr>\n",
       "    <tr>\n",
       "      <th>9</th>\n",
       "      <td>5</td>\n",
       "      <td>12</td>\n",
       "      <td>1.268764</td>\n",
       "      <td>0.574113</td>\n",
       "      <td>-1.106237</td>\n",
       "      <td>0.237476</td>\n",
       "      <td>0</td>\n",
       "      <td>0</td>\n",
       "      <td>0</td>\n",
       "      <td>O</td>\n",
       "      <td>C</td>\n",
       "    </tr>\n",
       "    <tr>\n",
       "      <th>10</th>\n",
       "      <td>6</td>\n",
       "      <td>6</td>\n",
       "      <td>0.000000</td>\n",
       "      <td>0.000000</td>\n",
       "      <td>0.000000</td>\n",
       "      <td>0.000000</td>\n",
       "      <td>0</td>\n",
       "      <td>0</td>\n",
       "      <td>0</td>\n",
       "      <td>O</td>\n",
       "      <td>O</td>\n",
       "    </tr>\n",
       "    <tr>\n",
       "      <th>11</th>\n",
       "      <td>6</td>\n",
       "      <td>12</td>\n",
       "      <td>1.268764</td>\n",
       "      <td>0.574113</td>\n",
       "      <td>1.106237</td>\n",
       "      <td>0.237476</td>\n",
       "      <td>0</td>\n",
       "      <td>0</td>\n",
       "      <td>0</td>\n",
       "      <td>O</td>\n",
       "      <td>C</td>\n",
       "    </tr>\n",
       "    <tr>\n",
       "      <th>12</th>\n",
       "      <td>7</td>\n",
       "      <td>7</td>\n",
       "      <td>0.000000</td>\n",
       "      <td>0.000000</td>\n",
       "      <td>0.000000</td>\n",
       "      <td>0.000000</td>\n",
       "      <td>0</td>\n",
       "      <td>0</td>\n",
       "      <td>0</td>\n",
       "      <td>Ag</td>\n",
       "      <td>Ag</td>\n",
       "    </tr>\n",
       "    <tr>\n",
       "      <th>13</th>\n",
       "      <td>8</td>\n",
       "      <td>8</td>\n",
       "      <td>0.000000</td>\n",
       "      <td>0.000000</td>\n",
       "      <td>0.000000</td>\n",
       "      <td>0.000000</td>\n",
       "      <td>0</td>\n",
       "      <td>0</td>\n",
       "      <td>0</td>\n",
       "      <td>Ag</td>\n",
       "      <td>Ag</td>\n",
       "    </tr>\n",
       "    <tr>\n",
       "      <th>14</th>\n",
       "      <td>9</td>\n",
       "      <td>9</td>\n",
       "      <td>0.000000</td>\n",
       "      <td>0.000000</td>\n",
       "      <td>0.000000</td>\n",
       "      <td>0.000000</td>\n",
       "      <td>0</td>\n",
       "      <td>0</td>\n",
       "      <td>0</td>\n",
       "      <td>Ag</td>\n",
       "      <td>Ag</td>\n",
       "    </tr>\n",
       "    <tr>\n",
       "      <th>15</th>\n",
       "      <td>10</td>\n",
       "      <td>10</td>\n",
       "      <td>0.000000</td>\n",
       "      <td>0.000000</td>\n",
       "      <td>0.000000</td>\n",
       "      <td>0.000000</td>\n",
       "      <td>0</td>\n",
       "      <td>0</td>\n",
       "      <td>0</td>\n",
       "      <td>Ag</td>\n",
       "      <td>Ag</td>\n",
       "    </tr>\n",
       "    <tr>\n",
       "      <th>16</th>\n",
       "      <td>11</td>\n",
       "      <td>2</td>\n",
       "      <td>1.300983</td>\n",
       "      <td>-1.206005</td>\n",
       "      <td>0.000000</td>\n",
       "      <td>-0.487964</td>\n",
       "      <td>0</td>\n",
       "      <td>0</td>\n",
       "      <td>0</td>\n",
       "      <td>C</td>\n",
       "      <td>O</td>\n",
       "    </tr>\n",
       "    <tr>\n",
       "      <th>17</th>\n",
       "      <td>11</td>\n",
       "      <td>3</td>\n",
       "      <td>1.268764</td>\n",
       "      <td>0.574113</td>\n",
       "      <td>-1.106237</td>\n",
       "      <td>0.237476</td>\n",
       "      <td>0</td>\n",
       "      <td>0</td>\n",
       "      <td>0</td>\n",
       "      <td>C</td>\n",
       "      <td>O</td>\n",
       "    </tr>\n",
       "    <tr>\n",
       "      <th>18</th>\n",
       "      <td>11</td>\n",
       "      <td>4</td>\n",
       "      <td>1.268764</td>\n",
       "      <td>0.574113</td>\n",
       "      <td>1.106237</td>\n",
       "      <td>0.237476</td>\n",
       "      <td>0</td>\n",
       "      <td>0</td>\n",
       "      <td>0</td>\n",
       "      <td>C</td>\n",
       "      <td>O</td>\n",
       "    </tr>\n",
       "    <tr>\n",
       "      <th>19</th>\n",
       "      <td>11</td>\n",
       "      <td>11</td>\n",
       "      <td>0.000000</td>\n",
       "      <td>0.000000</td>\n",
       "      <td>0.000000</td>\n",
       "      <td>0.000000</td>\n",
       "      <td>0</td>\n",
       "      <td>0</td>\n",
       "      <td>0</td>\n",
       "      <td>C</td>\n",
       "      <td>C</td>\n",
       "    </tr>\n",
       "    <tr>\n",
       "      <th>20</th>\n",
       "      <td>12</td>\n",
       "      <td>1</td>\n",
       "      <td>1.300983</td>\n",
       "      <td>1.206005</td>\n",
       "      <td>0.000000</td>\n",
       "      <td>0.487964</td>\n",
       "      <td>0</td>\n",
       "      <td>0</td>\n",
       "      <td>0</td>\n",
       "      <td>C</td>\n",
       "      <td>O</td>\n",
       "    </tr>\n",
       "    <tr>\n",
       "      <th>21</th>\n",
       "      <td>12</td>\n",
       "      <td>5</td>\n",
       "      <td>1.268764</td>\n",
       "      <td>-0.574113</td>\n",
       "      <td>1.106237</td>\n",
       "      <td>-0.237476</td>\n",
       "      <td>0</td>\n",
       "      <td>0</td>\n",
       "      <td>0</td>\n",
       "      <td>C</td>\n",
       "      <td>O</td>\n",
       "    </tr>\n",
       "    <tr>\n",
       "      <th>22</th>\n",
       "      <td>12</td>\n",
       "      <td>6</td>\n",
       "      <td>1.268764</td>\n",
       "      <td>-0.574113</td>\n",
       "      <td>-1.106237</td>\n",
       "      <td>-0.237476</td>\n",
       "      <td>0</td>\n",
       "      <td>0</td>\n",
       "      <td>0</td>\n",
       "      <td>C</td>\n",
       "      <td>O</td>\n",
       "    </tr>\n",
       "    <tr>\n",
       "      <th>23</th>\n",
       "      <td>12</td>\n",
       "      <td>12</td>\n",
       "      <td>0.000000</td>\n",
       "      <td>0.000000</td>\n",
       "      <td>0.000000</td>\n",
       "      <td>0.000000</td>\n",
       "      <td>0</td>\n",
       "      <td>0</td>\n",
       "      <td>0</td>\n",
       "      <td>C</td>\n",
       "      <td>C</td>\n",
       "    </tr>\n",
       "  </tbody>\n",
       "</table>\n",
       "</div>"
      ],
      "text/plain": [
       "    central atom  neighboring atom  distance         X         Y         Z  \\\n",
       "0              1                 1  0.000000  0.000000  0.000000  0.000000   \n",
       "1              1                12  1.300983 -1.206005  0.000000 -0.487964   \n",
       "2              2                 2  0.000000  0.000000  0.000000  0.000000   \n",
       "3              2                11  1.300983  1.206005  0.000000  0.487964   \n",
       "4              3                 3  0.000000  0.000000  0.000000  0.000000   \n",
       "5              3                11  1.268764 -0.574113  1.106237 -0.237476   \n",
       "6              4                 4  0.000000  0.000000  0.000000  0.000000   \n",
       "7              4                11  1.268764 -0.574113 -1.106237 -0.237476   \n",
       "8              5                 5  0.000000  0.000000  0.000000  0.000000   \n",
       "9              5                12  1.268764  0.574113 -1.106237  0.237476   \n",
       "10             6                 6  0.000000  0.000000  0.000000  0.000000   \n",
       "11             6                12  1.268764  0.574113  1.106237  0.237476   \n",
       "12             7                 7  0.000000  0.000000  0.000000  0.000000   \n",
       "13             8                 8  0.000000  0.000000  0.000000  0.000000   \n",
       "14             9                 9  0.000000  0.000000  0.000000  0.000000   \n",
       "15            10                10  0.000000  0.000000  0.000000  0.000000   \n",
       "16            11                 2  1.300983 -1.206005  0.000000 -0.487964   \n",
       "17            11                 3  1.268764  0.574113 -1.106237  0.237476   \n",
       "18            11                 4  1.268764  0.574113  1.106237  0.237476   \n",
       "19            11                11  0.000000  0.000000  0.000000  0.000000   \n",
       "20            12                 1  1.300983  1.206005  0.000000  0.487964   \n",
       "21            12                 5  1.268764 -0.574113  1.106237 -0.237476   \n",
       "22            12                 6  1.268764 -0.574113 -1.106237 -0.237476   \n",
       "23            12                12  0.000000  0.000000  0.000000  0.000000   \n",
       "\n",
       "    unitcell_x  unitcell_y  unitcell_z central species neighboring species  \n",
       "0            0           0           0               O                   O  \n",
       "1            0           0           0               O                   C  \n",
       "2            0           0           0               O                   O  \n",
       "3            0           0           0               O                   C  \n",
       "4            0           0           0               O                   O  \n",
       "5            0           0           0               O                   C  \n",
       "6            0           0           0               O                   O  \n",
       "7            0           0           0               O                   C  \n",
       "8            0           0           0               O                   O  \n",
       "9            0           0           0               O                   C  \n",
       "10           0           0           0               O                   O  \n",
       "11           0           0           0               O                   C  \n",
       "12           0           0           0              Ag                  Ag  \n",
       "13           0           0           0              Ag                  Ag  \n",
       "14           0           0           0              Ag                  Ag  \n",
       "15           0           0           0              Ag                  Ag  \n",
       "16           0           0           0               C                   O  \n",
       "17           0           0           0               C                   O  \n",
       "18           0           0           0               C                   O  \n",
       "19           0           0           0               C                   C  \n",
       "20           0           0           0               C                   O  \n",
       "21           0           0           0               C                   O  \n",
       "22           0           0           0               C                   O  \n",
       "23           0           0           0               C                   C  "
      ]
     },
     "execution_count": 6,
     "metadata": {},
     "output_type": "execute_result"
    }
   ],
   "source": [
    "from my_package.textfile2df import nnlist2df\n",
    "import pandas as pd\n",
    "\n",
    "#行の表示数の上限を撤廃\n",
    "pd.set_option('display.max_rows', None)\n",
    "\n",
    "df_nnlist = nnlist2df(POSCAR_nnlist='POSCAR.nnlist')\n",
    "df_nnlist"
   ]
  },
  {
   "cell_type": "markdown",
   "metadata": {
    "tags": []
   },
   "source": [
    "#### df_nnlist.groupby('central atom').count()['neighboring atom']で最も要素数の多いもののcentral atomをクラスタとして得る．\n",
    "#### → クラスタ化されたcentral atomを重複削除する　\n",
    "#### → 新しいcentral atomのリストを得る"
   ]
  },
  {
   "cell_type": "code",
   "execution_count": 7,
   "metadata": {
    "tags": []
   },
   "outputs": [
    {
     "name": "stdout",
     "output_type": "stream",
     "text": [
      "central atom\n",
      "1     2\n",
      "2     2\n",
      "3     2\n",
      "4     2\n",
      "5     2\n",
      "6     2\n",
      "7     1\n",
      "8     1\n",
      "9     1\n",
      "10    1\n",
      "11    4\n",
      "12    4\n",
      "Name: neighboring atom, dtype: int64\n"
     ]
    }
   ],
   "source": [
    "print(df_nnlist.groupby('central atom').count()['neighboring atom'])\n",
    "# これをフィルター化したものがget_elelem_max_num_filter_list"
   ]
  },
  {
   "cell_type": "markdown",
   "metadata": {},
   "source": [
    "#### df_nnlist.groupby('central atom').count()['neighboring atom']で最も要素数の多いもののcentral atomをクラスタとして得る．"
   ]
  },
  {
   "cell_type": "code",
   "execution_count": 8,
   "metadata": {
    "tags": []
   },
   "outputs": [],
   "source": [
    "def get_elem_max_filter(df_nnlist=df_nnlist):\n",
    "    \"\"\"\n",
    "    To get cluster center abs coords from df_coords, Please use this filter.\n",
    "    \n",
    "    Input: df_nnlist \n",
    " -> Output: The max number of element \n",
    "            in neighboring column of df_nnlist, \n",
    "            when df_nnlist groupbyed neighboring column and .count() \n",
    "    \n",
    "    param1: df_nnlist: It should be created by nnlist2df()\n",
    "    \"\"\"\n",
    "    \n",
    "    elem_max_num = df_nnlist.groupby('central atom').count()['neighboring atom'].max()\n",
    "    elem_max_num_filter = df_nnlist.groupby('central atom').count()['neighboring atom'] == elem_max_num\n",
    "    elem_max_num_filter_list = elem_max_num_filter.to_list()\n",
    "    return elem_max_num_filter_list"
   ]
  },
  {
   "cell_type": "code",
   "execution_count": null,
   "metadata": {},
   "outputs": [],
   "source": []
  },
  {
   "cell_type": "markdown",
   "metadata": {},
   "source": [
    "#### メモ：df_coords[elem_max_num_filter_list] によりクラスタ中心の絶対座標を得る"
   ]
  },
  {
   "cell_type": "code",
   "execution_count": 9,
   "metadata": {
    "tags": []
   },
   "outputs": [],
   "source": [
    "# df_coords[elem_max_num_filter_list]"
   ]
  },
  {
   "cell_type": "markdown",
   "metadata": {},
   "source": [
    "#### df_nnlistで入力：central atom → 出力：neighboring atom を返す関数get_right_valueを作成．"
   ]
  },
  {
   "cell_type": "code",
   "execution_count": 10,
   "metadata": {
    "tags": []
   },
   "outputs": [
    {
     "data": {
      "text/plain": [
       "[1, 12]"
      ]
     },
     "execution_count": 10,
     "metadata": {},
     "output_type": "execute_result"
    }
   ],
   "source": [
    "import pandas as pd\n",
    "\n",
    "# 入力値が左側の数値と同じ場合、対応する右側の数値を返す関数\n",
    "def get_right_value(input_value):\n",
    "    \"\"\"\n",
    "    To get all central atoms of a cluster(:neighbors), Input a number of cluster center element number(:central atom)\n",
    "    \n",
    "    Input: central atom column element In df_nnlist\n",
    " -> Output: All neighboring atom column element that Input(:elemnt) match central atom column element\n",
    "    \n",
    "    param1: Input: central atom column element In df_nnlist\n",
    "    \"\"\"\n",
    "    \n",
    "    # 左側の列から対応する行を選択し、右側の数値を取得\n",
    "    # result = df_nnlist[df_nnlist['central atom'] == input_value]['neighboring atom'].values\n",
    "    result = df_nnlist[df_nnlist['central atom'] == input_value]['neighboring atom'].tolist()\n",
    "    return result\n",
    "\n",
    "# 関数をテスト\n",
    "get_right_value(1)"
   ]
  },
  {
   "cell_type": "markdown",
   "metadata": {},
   "source": [
    "#### クラスタ中心のcentral atom(id的な番号)の一覧を得る"
   ]
  },
  {
   "cell_type": "markdown",
   "metadata": {},
   "source": [
    "### クラスタに選ばれなかった残りのcentral atom (≒id)の一覧を得る関数"
   ]
  },
  {
   "cell_type": "code",
   "execution_count": 11,
   "metadata": {
    "tags": []
   },
   "outputs": [],
   "source": [
    "def get_all_non_cluster_atom(df_nnlist=df_nnlist, df_coords=df_coords):\n",
    "    \"\"\"\n",
    "    dependency: get_elem_max_filter(), get_right_value()\n",
    "    \n",
    "    To get non-clusterd central atom list, Use this func.\n",
    "    \n",
    "    \n",
    "    Input: DataFrames\n",
    " -> Output: a list \n",
    "    \n",
    "    param1: df_nnlist=df_nnlist\n",
    "    param2: df_coords=df_coords\n",
    "    \"\"\"\n",
    "    elem_max_num_filter_list = get_elem_max_filter(df_nnlist=df_nnlist)\n",
    "    cluster_central_atom_list = df_coords[elem_max_num_filter_list]['central atom'].tolist()\n",
    "    cluster_all_atom_list_dubled = [get_right_value(elem) for elem in cluster_central_atom_list]\n",
    "    # 2重リストを1重リストにflated\n",
    "    flat_list = [item for sublist in cluster_all_atom_list_dubled for item in sublist]\n",
    "    # flat_listの重複削除\n",
    "    cluster_all_atom_set = set(flat_list)\n",
    "    \n",
    "    # ここからdf_coordsを使う\n",
    "    all_central_atom_set = set(df_coords['central atom'].tolist())\n",
    "    \n",
    "    # 差分を取得\n",
    "    diff_central_atom_list = list(all_central_atom_set.difference(cluster_all_atom_set))\n",
    "    \n",
    "    return diff_central_atom_list\n"
   ]
  },
  {
   "cell_type": "code",
   "execution_count": 12,
   "metadata": {
    "tags": []
   },
   "outputs": [
    {
     "data": {
      "text/plain": [
       "[8, 9, 10, 7]"
      ]
     },
     "execution_count": 12,
     "metadata": {},
     "output_type": "execute_result"
    }
   ],
   "source": [
    "get_all_non_cluster_atom(df_nnlist=df_nnlist, df_coords=df_coords)"
   ]
  },
  {
   "cell_type": "code",
   "execution_count": null,
   "metadata": {},
   "outputs": [],
   "source": []
  },
  {
   "cell_type": "markdown",
   "metadata": {},
   "source": [
    "### diff_central_atom_listをフィルター化する関数"
   ]
  },
  {
   "cell_type": "code",
   "execution_count": 13,
   "metadata": {
    "tags": []
   },
   "outputs": [],
   "source": [
    "# diff_central_atom_filter = df_coords['central atom'].apply(lambda row: row in diff_central_atom_list)\n",
    "# これをget_diff_central_atom_filterに関数化"
   ]
  },
  {
   "cell_type": "code",
   "execution_count": 14,
   "metadata": {
    "tags": []
   },
   "outputs": [],
   "source": [
    "def get_diff_central_atom_filter(df_nnlist=df_nnlist, df_coords=df_coords):\n",
    "    \"\"\"\n",
    "    dependency: get_all_non_cluster_atom()\n",
    "    \n",
    "    To convert list to filter, Use thie func.\n",
    "    \n",
    "    param1: df_nnlist=df_nnlist\n",
    "    param2: df_coords=df_coords\n",
    "    \n",
    "    \"\"\"\n",
    "    \n",
    "    diff_central_atom_list = get_all_non_cluster_atom(df_nnlist=df_nnlist, df_coords=df_coords)\n",
    "    diff_central_atom_filter = df_coords['central atom'].apply(lambda row: row in diff_central_atom_list)\n",
    "    return diff_central_atom_filter"
   ]
  },
  {
   "cell_type": "code",
   "execution_count": null,
   "metadata": {},
   "outputs": [],
   "source": []
  },
  {
   "cell_type": "markdown",
   "metadata": {
    "tags": []
   },
   "source": [
    "### get_right_valueとcluster_central_atom_listを用いて，クラスタに入っている全原子のid(central atom)を得る．"
   ]
  },
  {
   "cell_type": "code",
   "execution_count": 32,
   "metadata": {
    "tags": []
   },
   "outputs": [],
   "source": [
    "# # 1重リストに変換\n",
    "# flat_list = [item for sublist in cluster_all_atom_list_dubled for item in sublist]\n",
    "# # 重複削除\n",
    "# cluster_all_atom_set = set(flat_list)\n",
    "# # cluster_all_atom_list_fix = list(set(flat_list))\n",
    "# # print(cluster_all_atom_list_fix)"
   ]
  },
  {
   "cell_type": "code",
   "execution_count": 33,
   "metadata": {
    "tags": []
   },
   "outputs": [
    {
     "data": {
      "text/plain": [
       "{1, 2, 3, 4, 9, 10, 11, 12, 13, 14, 15, 16, 17, 18, 19, 20}"
      ]
     },
     "execution_count": 33,
     "metadata": {},
     "output_type": "execute_result"
    }
   ],
   "source": [
    "# cluster_all_atom_set"
   ]
  },
  {
   "cell_type": "markdown",
   "metadata": {},
   "source": [
    "#### cluster_all_atom_list_fixに含まれないcentral atomを抽出して、さらにdf_coord[]から得る．"
   ]
  },
  {
   "cell_type": "code",
   "execution_count": 34,
   "metadata": {
    "tags": []
   },
   "outputs": [],
   "source": [
    "# all_central_atom_set = set(df_coords['central atom'].tolist())"
   ]
  },
  {
   "cell_type": "code",
   "execution_count": 35,
   "metadata": {
    "tags": []
   },
   "outputs": [
    {
     "data": {
      "text/plain": [
       "{1, 2, 3, 4, 5, 6, 7, 8, 9, 10, 11, 12, 13, 14, 15, 16, 17, 18, 19, 20}"
      ]
     },
     "execution_count": 35,
     "metadata": {},
     "output_type": "execute_result"
    }
   ],
   "source": [
    "# all_central_atom_set"
   ]
  },
  {
   "cell_type": "code",
   "execution_count": 36,
   "metadata": {
    "tags": []
   },
   "outputs": [
    {
     "data": {
      "text/plain": [
       "[8, 5, 6, 7]"
      ]
     },
     "execution_count": 36,
     "metadata": {},
     "output_type": "execute_result"
    }
   ],
   "source": [
    "# # 差分を取得\n",
    "# diff_central_atom_list = list(all_central_atom_set.difference(cluster_all_atom_set))\n",
    "# diff_central_atom_list"
   ]
  },
  {
   "cell_type": "markdown",
   "metadata": {},
   "source": [
    "### diff_central_atom_listをフィルター化する → df_coords[]に代入する"
   ]
  },
  {
   "cell_type": "markdown",
   "metadata": {},
   "source": [
    "##### ある値がリストに含まれるかを判定する  ->  ex) 20 in diff_central_atom_list"
   ]
  },
  {
   "cell_type": "code",
   "execution_count": 37,
   "metadata": {
    "tags": []
   },
   "outputs": [
    {
     "data": {
      "text/plain": [
       "False"
      ]
     },
     "execution_count": 37,
     "metadata": {},
     "output_type": "execute_result"
    }
   ],
   "source": [
    "# 20 in diff_central_atom_list"
   ]
  },
  {
   "cell_type": "code",
   "execution_count": 38,
   "metadata": {
    "tags": []
   },
   "outputs": [],
   "source": [
    "# diff_central_atom_filter = df_coords['central atom'].apply(lambda row: row in diff_central_atom_list)\n",
    "# # print(diff_central_atom_filter)"
   ]
  },
  {
   "cell_type": "code",
   "execution_count": null,
   "metadata": {},
   "outputs": [],
   "source": []
  },
  {
   "cell_type": "code",
   "execution_count": 15,
   "metadata": {
    "tags": []
   },
   "outputs": [],
   "source": [
    "# df_coords[get_diff_central_atom_filter(df_nnlist=df_nnlist, df_coords=df_coords)]"
   ]
  },
  {
   "cell_type": "code",
   "execution_count": null,
   "metadata": {},
   "outputs": [],
   "source": []
  },
  {
   "cell_type": "code",
   "execution_count": null,
   "metadata": {},
   "outputs": [],
   "source": []
  },
  {
   "cell_type": "markdown",
   "metadata": {},
   "source": [
    "<!-- ### 2つのフィルターをorで結合する関数 -->"
   ]
  },
  {
   "cell_type": "code",
   "execution_count": null,
   "metadata": {},
   "outputs": [],
   "source": [
    "# def get_union_filter(filter1=diff_central_atom_filter, filter2=):\n",
    "\n",
    "\n",
    "#     return central_atom_filter_fix"
   ]
  },
  {
   "cell_type": "code",
   "execution_count": null,
   "metadata": {},
   "outputs": [],
   "source": []
  },
  {
   "cell_type": "code",
   "execution_count": null,
   "metadata": {},
   "outputs": [],
   "source": []
  },
  {
   "cell_type": "code",
   "execution_count": null,
   "metadata": {},
   "outputs": [],
   "source": []
  },
  {
   "cell_type": "markdown",
   "metadata": {},
   "source": [
    "### df_coords[]で、クラスタの中心の絶対座標のフィルターと重複削除された残りの絶対座標のフィルターを結合してフィルターする"
   ]
  },
  {
   "cell_type": "markdown",
   "metadata": {},
   "source": [
    "#### 過不足のないcentral atomのfilterが完成"
   ]
  },
  {
   "cell_type": "code",
   "execution_count": 67,
   "metadata": {
    "tags": []
   },
   "outputs": [],
   "source": [
    "# diff_central_atom_filter"
   ]
  },
  {
   "cell_type": "code",
   "execution_count": 68,
   "metadata": {
    "tags": []
   },
   "outputs": [],
   "source": [
    "# get_elem_max_filter(df_nnlist=df_nnlist)"
   ]
  },
  {
   "cell_type": "code",
   "execution_count": 18,
   "metadata": {
    "tags": []
   },
   "outputs": [],
   "source": []
  },
  {
   "cell_type": "code",
   "execution_count": 19,
   "metadata": {
    "tags": []
   },
   "outputs": [
    {
     "data": {
      "text/plain": [
       "0     False\n",
       "1     False\n",
       "2     False\n",
       "3     False\n",
       "4     False\n",
       "5     False\n",
       "6      True\n",
       "7      True\n",
       "8      True\n",
       "9      True\n",
       "10     True\n",
       "11     True\n",
       "Name: central atom, dtype: bool"
      ]
     },
     "execution_count": 19,
     "metadata": {},
     "output_type": "execute_result"
    }
   ],
   "source": [
    "diff_central_atom_filter = get_diff_central_atom_filter()\n",
    "central_atom_filter_fix = diff_central_atom_filter | get_elem_max_filter(df_nnlist=df_nnlist)\n",
    "central_atom_filter_fix"
   ]
  },
  {
   "cell_type": "code",
   "execution_count": null,
   "metadata": {},
   "outputs": [],
   "source": []
  },
  {
   "cell_type": "markdown",
   "metadata": {},
   "source": [
    "#### クラスタ後の新しい絶対座標を得る"
   ]
  },
  {
   "cell_type": "code",
   "execution_count": 20,
   "metadata": {
    "tags": []
   },
   "outputs": [
    {
     "data": {
      "text/html": [
       "<div>\n",
       "<style scoped>\n",
       "    .dataframe tbody tr th:only-of-type {\n",
       "        vertical-align: middle;\n",
       "    }\n",
       "\n",
       "    .dataframe tbody tr th {\n",
       "        vertical-align: top;\n",
       "    }\n",
       "\n",
       "    .dataframe thead th {\n",
       "        text-align: right;\n",
       "    }\n",
       "</style>\n",
       "<table border=\"1\" class=\"dataframe\">\n",
       "  <thead>\n",
       "    <tr style=\"text-align: right;\">\n",
       "      <th></th>\n",
       "      <th>central atom</th>\n",
       "      <th>x</th>\n",
       "      <th>y</th>\n",
       "      <th>z</th>\n",
       "      <th>Species</th>\n",
       "    </tr>\n",
       "  </thead>\n",
       "  <tbody>\n",
       "    <tr>\n",
       "      <th>6</th>\n",
       "      <td>7</td>\n",
       "      <td>0.210900000000000</td>\n",
       "      <td>0.078100000000000</td>\n",
       "      <td>0.219100000000000</td>\n",
       "      <td>Ag</td>\n",
       "    </tr>\n",
       "    <tr>\n",
       "      <th>7</th>\n",
       "      <td>8</td>\n",
       "      <td>0.210900000000000</td>\n",
       "      <td>0.421900000000000</td>\n",
       "      <td>0.219100000000000</td>\n",
       "      <td>Ag</td>\n",
       "    </tr>\n",
       "    <tr>\n",
       "      <th>8</th>\n",
       "      <td>9</td>\n",
       "      <td>0.789100000000000</td>\n",
       "      <td>0.921900000000000</td>\n",
       "      <td>0.780900000000000</td>\n",
       "      <td>Ag</td>\n",
       "    </tr>\n",
       "    <tr>\n",
       "      <th>9</th>\n",
       "      <td>10</td>\n",
       "      <td>0.789100000000000</td>\n",
       "      <td>0.578100000000000</td>\n",
       "      <td>0.780900000000000</td>\n",
       "      <td>Ag</td>\n",
       "    </tr>\n",
       "    <tr>\n",
       "      <th>10</th>\n",
       "      <td>11</td>\n",
       "      <td>0.270000000000000</td>\n",
       "      <td>0.750000000000000</td>\n",
       "      <td>0.261000000000000</td>\n",
       "      <td>C</td>\n",
       "    </tr>\n",
       "    <tr>\n",
       "      <th>11</th>\n",
       "      <td>12</td>\n",
       "      <td>0.730000000000000</td>\n",
       "      <td>0.250000000000000</td>\n",
       "      <td>0.739000000000000</td>\n",
       "      <td>C</td>\n",
       "    </tr>\n",
       "  </tbody>\n",
       "</table>\n",
       "</div>"
      ],
      "text/plain": [
       "    central atom                  x                  y                  z  \\\n",
       "6              7  0.210900000000000  0.078100000000000  0.219100000000000   \n",
       "7              8  0.210900000000000  0.421900000000000  0.219100000000000   \n",
       "8              9  0.789100000000000  0.921900000000000  0.780900000000000   \n",
       "9             10  0.789100000000000  0.578100000000000  0.780900000000000   \n",
       "10            11  0.270000000000000  0.750000000000000  0.261000000000000   \n",
       "11            12  0.730000000000000  0.250000000000000  0.739000000000000   \n",
       "\n",
       "   Species  \n",
       "6       Ag  \n",
       "7       Ag  \n",
       "8       Ag  \n",
       "9       Ag  \n",
       "10       C  \n",
       "11       C  "
      ]
     },
     "execution_count": 20,
     "metadata": {},
     "output_type": "execute_result"
    }
   ],
   "source": [
    "df_coords_abs_center = df_coords[central_atom_filter_fix]\n",
    "df_coords_abs_center"
   ]
  },
  {
   "cell_type": "markdown",
   "metadata": {},
   "source": [
    "#### クラスタ後の新しい絶対座標を文字列→数値に変換 する関数"
   ]
  },
  {
   "cell_type": "code",
   "execution_count": 21,
   "metadata": {
    "tags": []
   },
   "outputs": [],
   "source": [
    "def df_elem_str2num(df_coords_abs_center=df_coords_abs_center):\n",
    "    \n",
    "    # 文字列を数値化する\n",
    "    df_coords_abs_center['x'] = pd.to_numeric(df_coords_abs_center['x'], errors='coerce')\n",
    "    df_coords_abs_center['y'] = pd.to_numeric(df_coords_abs_center['y'], errors='coerce')\n",
    "    df_coords_abs_center['z'] = pd.to_numeric(df_coords_abs_center['z'], errors='coerce')\n",
    "    \n",
    "    return df_coords_abs_center"
   ]
  },
  {
   "cell_type": "code",
   "execution_count": 22,
   "metadata": {
    "tags": []
   },
   "outputs": [
    {
     "name": "stderr",
     "output_type": "stream",
     "text": [
      "/tmp/ipykernel_27855/2352175167.py:4: SettingWithCopyWarning: \n",
      "A value is trying to be set on a copy of a slice from a DataFrame.\n",
      "Try using .loc[row_indexer,col_indexer] = value instead\n",
      "\n",
      "See the caveats in the documentation: https://pandas.pydata.org/pandas-docs/stable/user_guide/indexing.html#returning-a-view-versus-a-copy\n",
      "  df_coords_abs_center['x'] = pd.to_numeric(df_coords_abs_center['x'], errors='coerce')\n",
      "/tmp/ipykernel_27855/2352175167.py:5: SettingWithCopyWarning: \n",
      "A value is trying to be set on a copy of a slice from a DataFrame.\n",
      "Try using .loc[row_indexer,col_indexer] = value instead\n",
      "\n",
      "See the caveats in the documentation: https://pandas.pydata.org/pandas-docs/stable/user_guide/indexing.html#returning-a-view-versus-a-copy\n",
      "  df_coords_abs_center['y'] = pd.to_numeric(df_coords_abs_center['y'], errors='coerce')\n",
      "/tmp/ipykernel_27855/2352175167.py:6: SettingWithCopyWarning: \n",
      "A value is trying to be set on a copy of a slice from a DataFrame.\n",
      "Try using .loc[row_indexer,col_indexer] = value instead\n",
      "\n",
      "See the caveats in the documentation: https://pandas.pydata.org/pandas-docs/stable/user_guide/indexing.html#returning-a-view-versus-a-copy\n",
      "  df_coords_abs_center['z'] = pd.to_numeric(df_coords_abs_center['z'], errors='coerce')\n"
     ]
    }
   ],
   "source": [
    "df_coords_abs_center = df_elem_str2num(df_coords_abs_center=df_coords_abs_center)"
   ]
  },
  {
   "cell_type": "code",
   "execution_count": 23,
   "metadata": {
    "tags": []
   },
   "outputs": [
    {
     "data": {
      "text/html": [
       "<div>\n",
       "<style scoped>\n",
       "    .dataframe tbody tr th:only-of-type {\n",
       "        vertical-align: middle;\n",
       "    }\n",
       "\n",
       "    .dataframe tbody tr th {\n",
       "        vertical-align: top;\n",
       "    }\n",
       "\n",
       "    .dataframe thead th {\n",
       "        text-align: right;\n",
       "    }\n",
       "</style>\n",
       "<table border=\"1\" class=\"dataframe\">\n",
       "  <thead>\n",
       "    <tr style=\"text-align: right;\">\n",
       "      <th></th>\n",
       "      <th>central atom</th>\n",
       "      <th>x</th>\n",
       "      <th>y</th>\n",
       "      <th>z</th>\n",
       "      <th>Species</th>\n",
       "    </tr>\n",
       "  </thead>\n",
       "  <tbody>\n",
       "    <tr>\n",
       "      <th>6</th>\n",
       "      <td>7</td>\n",
       "      <td>0.210900</td>\n",
       "      <td>0.078100</td>\n",
       "      <td>0.219100</td>\n",
       "      <td>Ag</td>\n",
       "    </tr>\n",
       "    <tr>\n",
       "      <th>7</th>\n",
       "      <td>8</td>\n",
       "      <td>0.210900</td>\n",
       "      <td>0.421900</td>\n",
       "      <td>0.219100</td>\n",
       "      <td>Ag</td>\n",
       "    </tr>\n",
       "    <tr>\n",
       "      <th>8</th>\n",
       "      <td>9</td>\n",
       "      <td>0.789100</td>\n",
       "      <td>0.921900</td>\n",
       "      <td>0.780900</td>\n",
       "      <td>Ag</td>\n",
       "    </tr>\n",
       "    <tr>\n",
       "      <th>9</th>\n",
       "      <td>10</td>\n",
       "      <td>0.789100</td>\n",
       "      <td>0.578100</td>\n",
       "      <td>0.780900</td>\n",
       "      <td>Ag</td>\n",
       "    </tr>\n",
       "    <tr>\n",
       "      <th>10</th>\n",
       "      <td>11</td>\n",
       "      <td>0.270000</td>\n",
       "      <td>0.750000</td>\n",
       "      <td>0.261000</td>\n",
       "      <td>C</td>\n",
       "    </tr>\n",
       "    <tr>\n",
       "      <th>11</th>\n",
       "      <td>12</td>\n",
       "      <td>0.730000</td>\n",
       "      <td>0.250000</td>\n",
       "      <td>0.739000</td>\n",
       "      <td>C</td>\n",
       "    </tr>\n",
       "  </tbody>\n",
       "</table>\n",
       "</div>"
      ],
      "text/plain": [
       "    central atom        x        y        z Species\n",
       "6              7 0.210900 0.078100 0.219100      Ag\n",
       "7              8 0.210900 0.421900 0.219100      Ag\n",
       "8              9 0.789100 0.921900 0.780900      Ag\n",
       "9             10 0.789100 0.578100 0.780900      Ag\n",
       "10            11 0.270000 0.750000 0.261000       C\n",
       "11            12 0.730000 0.250000 0.739000       C"
      ]
     },
     "execution_count": 23,
     "metadata": {},
     "output_type": "execute_result"
    }
   ],
   "source": [
    "# 数値化したクラスタ後の絶対座標\n",
    "df_coords_abs_center"
   ]
  },
  {
   "cell_type": "code",
   "execution_count": null,
   "metadata": {},
   "outputs": [],
   "source": []
  },
  {
   "cell_type": "markdown",
   "metadata": {},
   "source": [
    "#### クラスタの相対中心座標を計算"
   ]
  },
  {
   "cell_type": "code",
   "execution_count": 24,
   "metadata": {
    "tags": []
   },
   "outputs": [
    {
     "name": "stderr",
     "output_type": "stream",
     "text": [
      "/tmp/ipykernel_27855/3839055567.py:1: FutureWarning: The default value of numeric_only in DataFrameGroupBy.mean is deprecated. In a future version, numeric_only will default to False. Either specify numeric_only or select only columns which should be valid for the function.\n",
      "  df_nnlist_grouped = df_nnlist.groupby('central atom').mean()\n"
     ]
    }
   ],
   "source": [
    "df_nnlist_grouped = df_nnlist.groupby('central atom').mean()\n",
    "# central atomカラムでgroupby.mean()した後、index列(central atom)をカラムにする   \n",
    "df_nnlist_grouped = df_nnlist_grouped.reset_index()   "
   ]
  },
  {
   "cell_type": "code",
   "execution_count": 25,
   "metadata": {
    "tags": []
   },
   "outputs": [
    {
     "data": {
      "text/html": [
       "<div>\n",
       "<style scoped>\n",
       "    .dataframe tbody tr th:only-of-type {\n",
       "        vertical-align: middle;\n",
       "    }\n",
       "\n",
       "    .dataframe tbody tr th {\n",
       "        vertical-align: top;\n",
       "    }\n",
       "\n",
       "    .dataframe thead th {\n",
       "        text-align: right;\n",
       "    }\n",
       "</style>\n",
       "<table border=\"1\" class=\"dataframe\">\n",
       "  <thead>\n",
       "    <tr style=\"text-align: right;\">\n",
       "      <th></th>\n",
       "      <th>central atom</th>\n",
       "      <th>neighboring atom</th>\n",
       "      <th>distance</th>\n",
       "      <th>X</th>\n",
       "      <th>Y</th>\n",
       "      <th>Z</th>\n",
       "      <th>unitcell_x</th>\n",
       "      <th>unitcell_y</th>\n",
       "      <th>unitcell_z</th>\n",
       "    </tr>\n",
       "  </thead>\n",
       "  <tbody>\n",
       "    <tr>\n",
       "      <th>6</th>\n",
       "      <td>7</td>\n",
       "      <td>7.000000</td>\n",
       "      <td>0.000000</td>\n",
       "      <td>0.000000</td>\n",
       "      <td>0.000000</td>\n",
       "      <td>0.000000</td>\n",
       "      <td>0.000000</td>\n",
       "      <td>0.000000</td>\n",
       "      <td>0.000000</td>\n",
       "    </tr>\n",
       "    <tr>\n",
       "      <th>7</th>\n",
       "      <td>8</td>\n",
       "      <td>8.000000</td>\n",
       "      <td>0.000000</td>\n",
       "      <td>0.000000</td>\n",
       "      <td>0.000000</td>\n",
       "      <td>0.000000</td>\n",
       "      <td>0.000000</td>\n",
       "      <td>0.000000</td>\n",
       "      <td>0.000000</td>\n",
       "    </tr>\n",
       "    <tr>\n",
       "      <th>8</th>\n",
       "      <td>9</td>\n",
       "      <td>9.000000</td>\n",
       "      <td>0.000000</td>\n",
       "      <td>0.000000</td>\n",
       "      <td>0.000000</td>\n",
       "      <td>0.000000</td>\n",
       "      <td>0.000000</td>\n",
       "      <td>0.000000</td>\n",
       "      <td>0.000000</td>\n",
       "    </tr>\n",
       "    <tr>\n",
       "      <th>9</th>\n",
       "      <td>10</td>\n",
       "      <td>10.000000</td>\n",
       "      <td>0.000000</td>\n",
       "      <td>0.000000</td>\n",
       "      <td>0.000000</td>\n",
       "      <td>0.000000</td>\n",
       "      <td>0.000000</td>\n",
       "      <td>0.000000</td>\n",
       "      <td>0.000000</td>\n",
       "    </tr>\n",
       "    <tr>\n",
       "      <th>10</th>\n",
       "      <td>11</td>\n",
       "      <td>5.000000</td>\n",
       "      <td>0.959628</td>\n",
       "      <td>-0.014445</td>\n",
       "      <td>0.000000</td>\n",
       "      <td>-0.003253</td>\n",
       "      <td>0.000000</td>\n",
       "      <td>0.000000</td>\n",
       "      <td>0.000000</td>\n",
       "    </tr>\n",
       "    <tr>\n",
       "      <th>11</th>\n",
       "      <td>12</td>\n",
       "      <td>6.000000</td>\n",
       "      <td>0.959628</td>\n",
       "      <td>0.014445</td>\n",
       "      <td>0.000000</td>\n",
       "      <td>0.003253</td>\n",
       "      <td>0.000000</td>\n",
       "      <td>0.000000</td>\n",
       "      <td>0.000000</td>\n",
       "    </tr>\n",
       "  </tbody>\n",
       "</table>\n",
       "</div>"
      ],
      "text/plain": [
       "    central atom  neighboring atom  distance         X        Y         Z  \\\n",
       "6              7          7.000000  0.000000  0.000000 0.000000  0.000000   \n",
       "7              8          8.000000  0.000000  0.000000 0.000000  0.000000   \n",
       "8              9          9.000000  0.000000  0.000000 0.000000  0.000000   \n",
       "9             10         10.000000  0.000000  0.000000 0.000000  0.000000   \n",
       "10            11          5.000000  0.959628 -0.014445 0.000000 -0.003253   \n",
       "11            12          6.000000  0.959628  0.014445 0.000000  0.003253   \n",
       "\n",
       "    unitcell_x  unitcell_y  unitcell_z  \n",
       "6     0.000000    0.000000    0.000000  \n",
       "7     0.000000    0.000000    0.000000  \n",
       "8     0.000000    0.000000    0.000000  \n",
       "9     0.000000    0.000000    0.000000  \n",
       "10    0.000000    0.000000    0.000000  \n",
       "11    0.000000    0.000000    0.000000  "
      ]
     },
     "execution_count": 25,
     "metadata": {},
     "output_type": "execute_result"
    }
   ],
   "source": [
    "df_cluster_relative_center = df_nnlist_grouped[central_atom_filter_fix]\n",
    "df_cluster_relative_center"
   ]
  },
  {
   "cell_type": "code",
   "execution_count": null,
   "metadata": {},
   "outputs": [],
   "source": []
  },
  {
   "cell_type": "markdown",
   "metadata": {},
   "source": [
    "### 絶対座標 + 相対座標の計算"
   ]
  },
  {
   "cell_type": "code",
   "execution_count": 26,
   "metadata": {
    "tags": []
   },
   "outputs": [],
   "source": [
    "def get_clusterd_coords(df_abs=df_coords_abs_center, df_relative=df_cluster_relative_center):\n",
    "    df_coords_x = df_abs['x'] + df_relative['X']\n",
    "    df_coords_y = df_abs['y'] + df_relative['Y']\n",
    "    df_coords_z = df_abs['z'] + df_relative['Z']\n",
    "    df_coords_species = df_abs['Species']\n",
    "\n",
    "    # カラム名を指定してデータフレームを作成\n",
    "    df_coords_fix = pd.DataFrame({\n",
    "        'X': df_coords_x,\n",
    "        'Y': df_coords_y,\n",
    "        'Z': df_coords_z,\n",
    "        'Species': df_coords_species,\n",
    "    })\n",
    "\n",
    "    return df_coords_fix"
   ]
  },
  {
   "cell_type": "code",
   "execution_count": 27,
   "metadata": {
    "tags": []
   },
   "outputs": [
    {
     "data": {
      "text/html": [
       "<div>\n",
       "<style scoped>\n",
       "    .dataframe tbody tr th:only-of-type {\n",
       "        vertical-align: middle;\n",
       "    }\n",
       "\n",
       "    .dataframe tbody tr th {\n",
       "        vertical-align: top;\n",
       "    }\n",
       "\n",
       "    .dataframe thead th {\n",
       "        text-align: right;\n",
       "    }\n",
       "</style>\n",
       "<table border=\"1\" class=\"dataframe\">\n",
       "  <thead>\n",
       "    <tr style=\"text-align: right;\">\n",
       "      <th></th>\n",
       "      <th>X</th>\n",
       "      <th>Y</th>\n",
       "      <th>Z</th>\n",
       "      <th>Species</th>\n",
       "    </tr>\n",
       "  </thead>\n",
       "  <tbody>\n",
       "    <tr>\n",
       "      <th>6</th>\n",
       "      <td>0.210900</td>\n",
       "      <td>0.078100</td>\n",
       "      <td>0.219100</td>\n",
       "      <td>Ag</td>\n",
       "    </tr>\n",
       "    <tr>\n",
       "      <th>7</th>\n",
       "      <td>0.210900</td>\n",
       "      <td>0.421900</td>\n",
       "      <td>0.219100</td>\n",
       "      <td>Ag</td>\n",
       "    </tr>\n",
       "    <tr>\n",
       "      <th>8</th>\n",
       "      <td>0.789100</td>\n",
       "      <td>0.921900</td>\n",
       "      <td>0.780900</td>\n",
       "      <td>Ag</td>\n",
       "    </tr>\n",
       "    <tr>\n",
       "      <th>9</th>\n",
       "      <td>0.789100</td>\n",
       "      <td>0.578100</td>\n",
       "      <td>0.780900</td>\n",
       "      <td>Ag</td>\n",
       "    </tr>\n",
       "    <tr>\n",
       "      <th>10</th>\n",
       "      <td>0.255555</td>\n",
       "      <td>0.750000</td>\n",
       "      <td>0.257747</td>\n",
       "      <td>C</td>\n",
       "    </tr>\n",
       "    <tr>\n",
       "      <th>11</th>\n",
       "      <td>0.744445</td>\n",
       "      <td>0.250000</td>\n",
       "      <td>0.742253</td>\n",
       "      <td>C</td>\n",
       "    </tr>\n",
       "  </tbody>\n",
       "</table>\n",
       "</div>"
      ],
      "text/plain": [
       "          X        Y        Z Species\n",
       "6  0.210900 0.078100 0.219100      Ag\n",
       "7  0.210900 0.421900 0.219100      Ag\n",
       "8  0.789100 0.921900 0.780900      Ag\n",
       "9  0.789100 0.578100 0.780900      Ag\n",
       "10 0.255555 0.750000 0.257747       C\n",
       "11 0.744445 0.250000 0.742253       C"
      ]
     },
     "execution_count": 27,
     "metadata": {},
     "output_type": "execute_result"
    }
   ],
   "source": [
    "df_coords_fix = get_clusterd_coords(df_abs=df_coords_abs_center, df_relative=df_cluster_relative_center)\n",
    "df_coords_fix"
   ]
  },
  {
   "cell_type": "code",
   "execution_count": 28,
   "metadata": {
    "tags": []
   },
   "outputs": [],
   "source": [
    "### 元のPOSCARファイルから5行目までを抽出して、新しいPOSCARファイルに書き込む関数"
   ]
  },
  {
   "cell_type": "code",
   "execution_count": 29,
   "metadata": {
    "tags": []
   },
   "outputs": [],
   "source": [
    "def df2poscar(df=df_coords_fix, original_file=\"./POSCAR\", output_file=\"gen_data/POSCAR\"):\n",
    "    \"\"\"\n",
    "    Writing the DataFrame(:df_coords_fix) to a POSCAR file.\n",
    "    param1: DataFrame that has 'X', 'Y', 'Z' columns about coords.\n",
    "    param2: original POSCAR file\n",
    "    param3: generated POSCAR file\n",
    "    \"\"\"\n",
    "    \n",
    "    # df_coords_fixを文字列に変換\n",
    "    def df2str(df):\n",
    "        df_coords_fix_str = df[['X', 'Y', 'Z']].to_string(header=False, index=False, index_names=False)\n",
    "        return df_coords_fix_str\n",
    "    \n",
    "    # df_coords_fixから元素種を文字列として抽出する関数\n",
    "    def return_species(df):\n",
    "        speies_0 = df['Species'].unique()[0]\n",
    "        speies_1 = df['Species'].unique()[1]\n",
    "        num_C = len(df[df['Species'] == speies_0])\n",
    "        num_Ba = len(df[df['Species'] == speies_1])\n",
    "\n",
    "        species_line = f\"\"\"   {speies_0}   {speies_1}\n",
    "       {num_C}   {num_Ba}\"\"\"\n",
    "\n",
    "       #  species_line = f\"\"\"   {speies_0}\n",
    "       # {num_C}   \"\"\"\n",
    "        \n",
    "        return species_line\n",
    "\n",
    "    \n",
    "    # 元のPOSCARファイルの5行目までを抽出し，新しいファイルに書き込む\n",
    "    def wirte_header2poscar():\n",
    "        # 最初の5行を抽出\n",
    "        with open(original_file, 'r') as infile:\n",
    "            lines = infile.readlines()[:5]\n",
    "        # 新しいPOSCARファイルに書き込む\n",
    "        with open(output_file, 'w') as outfile:\n",
    "            outfile.writelines(lines)\n",
    "    \n",
    "    \n",
    "    # 新しいPOSCARファイルに書き込んでいく\n",
    "    def write_species2poscar():\n",
    "        with open(output_file, 'a') as file:\n",
    "            # すでに存在するテキストファイルに元素種を追記\n",
    "            file.write(return_species(df) + '\\n')\n",
    "            # 元素種まで書かれたファイルにDirectという文字をを追記\n",
    "            file.write('Direct\\n' )\n",
    "            # 直交座標を追記\n",
    "            file.write(df2str(df))\n",
    "\n",
    "            \n",
    "    # 関数をcall\n",
    "    df2str(df)\n",
    "    wirte_header2poscar()\n",
    "    write_species2poscar()\n",
    "    \n",
    "    print(f\"{output_file} にクラスタ化後の内容が書き込まれました。\")"
   ]
  },
  {
   "cell_type": "code",
   "execution_count": 31,
   "metadata": {
    "tags": []
   },
   "outputs": [
    {
     "name": "stdout",
     "output_type": "stream",
     "text": [
      "gen_data/POSCAR にクラスタ化後の内容が書き込まれました。\n"
     ]
    }
   ],
   "source": [
    "df2poscar()"
   ]
  },
  {
   "cell_type": "markdown",
   "metadata": {
    "tags": []
   },
   "source": [
    "#### 編集後のposcarファイルをASEで可視化"
   ]
  },
  {
   "cell_type": "code",
   "execution_count": 42,
   "metadata": {
    "tags": []
   },
   "outputs": [
    {
     "data": {
      "application/vnd.jupyter.widget-view+json": {
       "model_id": "881266f9ad7e47b0b8bd96fd40f51ac0",
       "version_major": 2,
       "version_minor": 0
      },
      "text/plain": [
       "HBox(children=(NGLWidget(), VBox(children=(Dropdown(description='Show', options=('All', 'Ag', 'C'), value='All…"
      ]
     },
     "execution_count": 42,
     "metadata": {},
     "output_type": "execute_result"
    }
   ],
   "source": [
    "from ase.io import read, write\n",
    "\n",
    "output_file=\"gen_data/POSCAR\"\n",
    "# POSCARファイルの読み込み\n",
    "atoms = read(output_file)\n",
    "\n",
    "# POSCARファイルの描画\n",
    "from ase.visualize import view, ngl\n",
    "ngl.view_ngl(atoms)"
   ]
  },
  {
   "cell_type": "code",
   "execution_count": 40,
   "metadata": {
    "tags": []
   },
   "outputs": [
    {
     "data": {
      "application/vnd.jupyter.widget-view+json": {
       "model_id": "ad7a5490c3a44e7b89f44321455e4282",
       "version_major": 2,
       "version_minor": 0
      },
      "text/plain": [
       "HBox(children=(NGLWidget(), VBox(children=(Dropdown(description='Show', options=('All', 'Ag', 'O', 'C'), value…"
      ]
     },
     "execution_count": 40,
     "metadata": {},
     "output_type": "execute_result"
    }
   ],
   "source": [
    "from ase.io import read, write\n",
    "# POSCARファイルの読み込み\n",
    "atoms = read('POSCAR')\n",
    "\n",
    "# POSCARファイルの描画\n",
    "from ase.visualize import view, ngl\n",
    "ngl.view_ngl(atoms)"
   ]
  },
  {
   "cell_type": "markdown",
   "metadata": {},
   "source": [
    "#### 編集後のposcarファイルをVESTAで可視化"
   ]
  },
  {
   "cell_type": "code",
   "execution_count": 35,
   "metadata": {},
   "outputs": [
    {
     "name": "stderr",
     "output_type": "stream",
     "text": [
      "\n",
      "(VESTA-gui:27941): Gtk-WARNING **: 16:45:24.232: Negative content width -2 (allocation 32, extents 17x17) while allocating gadget (node button, owner GtkButton)\n",
      "\n",
      "(VESTA-gui:27941): Gtk-WARNING **: 16:45:24.232: Negative content width -2 (allocation 32, extents 17x17) while allocating gadget (node button, owner GtkButton)\n",
      "\n",
      "(VESTA-gui:27941): Gtk-WARNING **: 16:45:24.232: Negative content width -2 (allocation 32, extents 17x17) while allocating gadget (node button, owner GtkButton)\n",
      "\n",
      "(VESTA-gui:27941): Gtk-WARNING **: 16:45:24.232: Negative content width -2 (allocation 32, extents 17x17) while allocating gadget (node button, owner GtkButton)\n",
      "\n",
      "(VESTA-gui:27941): Gtk-CRITICAL **: 16:45:24.234: gtk_box_gadget_distribute: assertion 'size >= 0' failed in GtkNotebook\n",
      "\n",
      "(VESTA-gui:27941): Gtk-WARNING **: 16:45:24.397: Negative content width -2 (allocation 32, extents 17x17) while allocating gadget (node button, owner GtkButton)\n",
      "\n",
      "(VESTA-gui:27941): Gtk-WARNING **: 16:45:24.397: Negative content width -2 (allocation 32, extents 17x17) while allocating gadget (node button, owner GtkButton)\n",
      "\n",
      "(VESTA-gui:27941): Gtk-CRITICAL **: 16:45:24.397: gtk_box_gadget_distribute: assertion 'size >= 0' failed in GtkNotebook\n",
      "\n",
      "(VESTA-gui:27941): Gtk-WARNING **: 16:45:24.711: Negative content width -2 (allocation 32, extents 17x17) while allocating gadget (node button, owner GtkButton)\n",
      "\n",
      "(VESTA-gui:27941): Gtk-WARNING **: 16:45:24.711: Negative content width -2 (allocation 32, extents 17x17) while allocating gadget (node button, owner GtkButton)\n",
      "\n",
      "(VESTA-gui:27941): Gtk-WARNING **: 16:45:24.711: Negative content width -2 (allocation 32, extents 17x17) while allocating gadget (node button, owner GtkButton)\n",
      "\n",
      "(VESTA-gui:27941): Gtk-WARNING **: 16:45:24.711: Negative content width -2 (allocation 32, extents 17x17) while allocating gadget (node button, owner GtkButton)\n",
      "\n",
      "(VESTA-gui:27941): Gtk-CRITICAL **: 16:45:24.712: gtk_box_gadget_distribute: assertion 'size >= 0' failed in GtkNotebook\n",
      "\n",
      "(VESTA-gui:27941): Gtk-WARNING **: 16:45:24.916: Negative content width -2 (allocation 32, extents 17x17) while allocating gadget (node button, owner GtkButton)\n",
      "\n",
      "(VESTA-gui:27941): Gtk-WARNING **: 16:45:24.917: Negative content width -2 (allocation 32, extents 17x17) while allocating gadget (node button, owner GtkButton)\n",
      "\n",
      "(VESTA-gui:27941): Gtk-CRITICAL **: 16:45:24.917: gtk_box_gadget_distribute: assertion 'size >= 0' failed in GtkNotebook\n"
     ]
    },
    {
     "name": "stdout",
     "output_type": "stream",
     "text": [
      "type=0 format=0 nitems=0 atom=276 252\n",
      "workspace= 0 : -1, x=114, y=31; Screen_W=2026\n"
     ]
    }
   ],
   "source": [
    "from my_package import visualize\n",
    "output_file=\"gen_data/POSCAR\"\n",
    "visualize.vesta(output_file)"
   ]
  },
  {
   "cell_type": "code",
   "execution_count": null,
   "metadata": {},
   "outputs": [],
   "source": []
  }
 ],
 "metadata": {
  "kernelspec": {
   "display_name": "Python 3 (ipykernel)",
   "language": "python",
   "name": "python3"
  },
  "language_info": {
   "codemirror_mode": {
    "name": "ipython",
    "version": 3
   },
   "file_extension": ".py",
   "mimetype": "text/x-python",
   "name": "python",
   "nbconvert_exporter": "python",
   "pygments_lexer": "ipython3",
   "version": "3.10.12"
  }
 },
 "nbformat": 4,
 "nbformat_minor": 4
}
