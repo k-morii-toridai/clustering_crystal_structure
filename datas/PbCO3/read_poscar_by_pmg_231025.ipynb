{
 "cells": [
  {
   "cell_type": "code",
   "execution_count": null,
   "id": "16bd812e-e837-4caa-8ddf-6beedee76c9b",
   "metadata": {},
   "outputs": [],
   "source": [
    "from glob import glob\n",
    "from pymatgen import Structure\n",
    "from pymatgen.io.vasp import Poscar\n",
    "\n",
    "# CIFファイルの読み込み\n",
    "cif_file = glob('*.cif')[0]\n",
    "structure = Structure.from_file(cif_file)\n",
    "\n",
    "# StructureオブジェクトをPOSCARに変換\n",
    "poscar = Poscar(structure)\n",
    "\n",
    "# POSCARファイルの保存\n",
    "poscar.write_file(\"POSCAR\")\n",
    "\n",
    "print(\"POSCARファイルが生成されました: POSCAR\")"
   ]
  },
  {
   "cell_type": "code",
   "execution_count": 1,
   "id": "f87dccd4-590a-4b6c-ae3b-3e5ba2c6a777",
   "metadata": {
    "tags": []
   },
   "outputs": [
    {
     "name": "stdout",
     "output_type": "stream",
     "text": [
      "/bin/bash: line 1: vesta: command not found\n"
     ]
    }
   ],
   "source": [
    "!vesta -cif2cell 1010956.cif POSCAR"
   ]
  },
  {
   "cell_type": "code",
   "execution_count": null,
   "id": "59940520-4c8d-4147-8163-722b56fe81af",
   "metadata": {},
   "outputs": [],
   "source": []
  }
 ],
 "metadata": {
  "kernelspec": {
   "display_name": "Python 3 (ipykernel)",
   "language": "python",
   "name": "python3"
  },
  "language_info": {
   "codemirror_mode": {
    "name": "ipython",
    "version": 3
   },
   "file_extension": ".py",
   "mimetype": "text/x-python",
   "name": "python",
   "nbconvert_exporter": "python",
   "pygments_lexer": "ipython3",
   "version": "3.10.12"
  }
 },
 "nbformat": 4,
 "nbformat_minor": 5
}
