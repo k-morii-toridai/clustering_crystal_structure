{
 "cells": [
  {
   "cell_type": "code",
   "execution_count": 11,
   "id": "b57f2332-9e0a-4b98-9a82-994e1e853b6e",
   "metadata": {
    "tags": []
   },
   "outputs": [
    {
     "name": "stdout",
     "output_type": "stream",
     "text": [
      "--2023-10-27 15:07:39--  https://www.crystallography.net/cod/1507756.cif\n",
      "Resolving www.crystallography.net (www.crystallography.net)... 158.129.170.82\n",
      "Connecting to www.crystallography.net (www.crystallography.net)|158.129.170.82|:443... connected.\n",
      "HTTP request sent, awaiting response... 200 OK\n",
      "Length: 2551 (2.5K) [chemical/x-cif]\n",
      "Saving to: ‘1507756.cif’\n",
      "\n",
      "1507756.cif         100%[===================>]   2.49K  --.-KB/s    in 0s      \n",
      "\n",
      "2023-10-27 15:07:41 (80.4 MB/s) - ‘1507756.cif’ saved [2551/2551]\n",
      "\n"
     ]
    }
   ],
   "source": [
    "!wget https://www.crystallography.net/cod/1507756.cif"
   ]
  },
  {
   "cell_type": "markdown",
   "id": "24b279c2-ec38-4683-8fc6-ba4d021f5dfa",
   "metadata": {},
   "source": [
    "### 練習サンプル"
   ]
  },
  {
   "cell_type": "code",
   "execution_count": 17,
   "id": "0c0b9ef0-6c1a-46ac-9044-6d824624b6da",
   "metadata": {
    "tags": []
   },
   "outputs": [],
   "source": [
    "cif_file = '1507756.cif'"
   ]
  },
  {
   "cell_type": "code",
   "execution_count": 34,
   "id": "91ab43e8-b860-4daf-8547-7320cdb0b060",
   "metadata": {
    "tags": []
   },
   "outputs": [
    {
     "data": {
      "text/plain": [
       "'1507756'"
      ]
     },
     "execution_count": 34,
     "metadata": {},
     "output_type": "execute_result"
    }
   ],
   "source": [
    "cif_file_number = cif_file.split(\".\")[0]\n",
    "cif_file_number"
   ]
  },
  {
   "cell_type": "code",
   "execution_count": 30,
   "id": "73cd39b7-5e95-4d6b-93da-f03076aa2c65",
   "metadata": {
    "tags": []
   },
   "outputs": [],
   "source": [
    "import os\n",
    "os.mkdir(cif_file_number)"
   ]
  },
  {
   "cell_type": "code",
   "execution_count": null,
   "id": "b202548b-de5a-4d56-b2c9-cc5eac0c2145",
   "metadata": {},
   "outputs": [],
   "source": []
  },
  {
   "cell_type": "markdown",
   "id": "6decbf99-122c-4fa0-815b-cf9df9b9e167",
   "metadata": {},
   "source": [
    "### cifと同じ名前のディレクトリを作成"
   ]
  },
  {
   "cell_type": "code",
   "execution_count": 32,
   "id": "1725ac14-c77d-4eb4-8c57-db9c6fc19961",
   "metadata": {
    "tags": []
   },
   "outputs": [],
   "source": [
    "import os\n",
    "def mk_cif_num_folder(cif_file):\n",
    "    \"\"\"\n",
    "    To create a new dirctory which name is CIF file number, Use thie func().\n",
    "    \n",
    "    param1: example: cif_file='1507756.cif'\n",
    "    created: a directory which name is a CIF file number\n",
    "    \"\"\"\n",
    "    cif_file_number = cif_file.split(\".\")[0]\n",
    "    os.mkdir(cif_file_number)"
   ]
  },
  {
   "cell_type": "code",
   "execution_count": 33,
   "id": "13b3ed23-ab8c-4297-9739-273bb0d7d601",
   "metadata": {
    "tags": []
   },
   "outputs": [],
   "source": [
    "# test func()\n",
    "mk_cif_num_folder(cif_file)"
   ]
  },
  {
   "cell_type": "code",
   "execution_count": null,
   "id": "8b2c174c-8ca2-495b-90a5-9d3ee2e3a2ac",
   "metadata": {},
   "outputs": [],
   "source": []
  },
  {
   "cell_type": "markdown",
   "id": "3bf4ac46-238b-4def-b38a-82f8c390a8e8",
   "metadata": {},
   "source": [
    "### cifファイルからPOSCARファイルを作成"
   ]
  },
  {
   "cell_type": "code",
   "execution_count": 40,
   "id": "605692a6-6395-4845-8777-b6fd9e425be8",
   "metadata": {
    "tags": []
   },
   "outputs": [],
   "source": [
    "from pymatgen.io.cif import CifParser\n",
    "def cif2poscar(cif_file):\n",
    "    \"\"\"\n",
    "    To convert a cif to POSCAR file, Use this func().\n",
    "    \n",
    "    param1: example: cif_file='1507756.cif'\n",
    "    created: a POSCAR file\n",
    "    \"\"\"\n",
    "    parser = CifParser(cif_file)\n",
    "    structure = parser.get_structures()[0]\n",
    "    \n",
    "    # POSCARファイルとして書き出し\n",
    "    structure.to(fmt=\"poscar\", filename=\"POSCAR\")"
   ]
  },
  {
   "cell_type": "code",
   "execution_count": 24,
   "id": "fdc7f706-f7b5-400a-92da-6783420b954b",
   "metadata": {
    "tags": []
   },
   "outputs": [],
   "source": [
    "# test func()\n",
    "cif2poscar(cif_file=cif_file)"
   ]
  },
  {
   "cell_type": "code",
   "execution_count": null,
   "id": "2f56cbce-5f41-4f93-be0c-b9fe8abcc5ea",
   "metadata": {},
   "outputs": [],
   "source": []
  },
  {
   "cell_type": "markdown",
   "id": "0f7ac38d-41ee-4a25-9ee1-e35ae9b5cfd8",
   "metadata": {},
   "source": [
    "## cif2poscarとmk_cif_num_folderを組み合わせた関数"
   ]
  },
  {
   "cell_type": "code",
   "execution_count": 42,
   "id": "21a196de-18b9-4f09-af05-b8f17934da6d",
   "metadata": {
    "tags": []
   },
   "outputs": [],
   "source": [
    "import os\n",
    "from pymatgen.io.cif import CifParser\n",
    "\n",
    "\n",
    "def cif2poscar_mk_dir(cif_file):\n",
    "    \n",
    "    \n",
    "    def mk_cif_num_folder(cif_file):\n",
    "        \"\"\"\n",
    "        To create a new dirctory which name is CIF file number, Use thie func().\n",
    "\n",
    "        param1: example: cif_file='1507756.cif'\n",
    "        created: a directory which name is a CIF file number\n",
    "        \"\"\"\n",
    "        cif_file_number = cif_file.split(\".\")[0]\n",
    "        os.mkdir(cif_file_number)\n",
    "    \n",
    "    \n",
    "    def cif2poscar(cif_file):\n",
    "        \"\"\"\n",
    "        To convert a cif to POSCAR file, Use this func().\n",
    "\n",
    "        param1: example: cif_file='1507756.cif'\n",
    "        created: a POSCAR file\n",
    "        \"\"\"\n",
    "        parser = CifParser(cif_file)\n",
    "        structure = parser.get_structures()[0]\n",
    "        # make cif file number\n",
    "        cif_file_number = cif_file.split(\".\")[0]\n",
    "        # Createしたフォルダに，POSCARファイルとして書き出し\n",
    "        structure.to(fmt=\"poscar\", filename=f\"{cif_file_number}/POSCAR\") \n",
    "    \n",
    "    \n",
    "    # Create new folder\n",
    "    mk_cif_num_folder(cif_file)\n",
    "    # convert cif to POSCAR\n",
    "    cif2poscar(cif_file)\n"
   ]
  },
  {
   "cell_type": "code",
   "execution_count": 43,
   "id": "ae958319-7093-46af-96b0-065fa8c40990",
   "metadata": {
    "tags": []
   },
   "outputs": [],
   "source": [
    "# cif2poscarのテスト\n",
    "cif_file = '1507756.cif'\n",
    "cif2poscar_mk_dir(cif_file)"
   ]
  },
  {
   "cell_type": "code",
   "execution_count": null,
   "id": "81c0fa89-f7e8-4a08-b804-1f510a732343",
   "metadata": {},
   "outputs": [],
   "source": []
  },
  {
   "cell_type": "markdown",
   "id": "18038536-ba16-4f37-a65a-373d5cff343e",
   "metadata": {},
   "source": [
    "### cif2poscar_mk_dir()をmodule化したものを実行"
   ]
  },
  {
   "cell_type": "code",
   "execution_count": 2,
   "id": "79e2afc5-a11c-44be-9d6c-6afcf69eefe9",
   "metadata": {
    "tags": []
   },
   "outputs": [],
   "source": [
    "from my_package import cif2poscar\n",
    "cif_file = '1507756.cif'\n",
    "cif2poscar.cif2poscar_mk_dir(cif_file)"
   ]
  },
  {
   "cell_type": "code",
   "execution_count": null,
   "id": "3a0bc636-88b8-4458-99e7-b83f70da2624",
   "metadata": {},
   "outputs": [],
   "source": []
  }
 ],
 "metadata": {
  "kernelspec": {
   "display_name": "Python 3 (ipykernel)",
   "language": "python",
   "name": "python3"
  },
  "language_info": {
   "codemirror_mode": {
    "name": "ipython",
    "version": 3
   },
   "file_extension": ".py",
   "mimetype": "text/x-python",
   "name": "python",
   "nbconvert_exporter": "python",
   "pygments_lexer": "ipython3",
   "version": "3.10.12"
  }
 },
 "nbformat": 4,
 "nbformat_minor": 5
}
