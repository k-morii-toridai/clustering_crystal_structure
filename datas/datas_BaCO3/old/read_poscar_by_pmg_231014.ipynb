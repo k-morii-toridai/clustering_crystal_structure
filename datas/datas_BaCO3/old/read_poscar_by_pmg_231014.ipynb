{
 "cells": [
  {
   "cell_type": "markdown",
   "metadata": {},
   "source": [
    "#### vestaでPOSCARを可視化"
   ]
  },
  {
   "cell_type": "code",
   "execution_count": null,
   "metadata": {
    "tags": []
   },
   "outputs": [
    {
     "name": "stderr",
     "output_type": "stream",
     "text": [
      "\n",
      "(VESTA-gui:134608): Gtk-WARNING **: 23:23:26.143: Negative content width -2 (allocation 32, extents 17x17) while allocating gadget (node button, owner GtkButton)\n",
      "\n",
      "(VESTA-gui:134608): Gtk-WARNING **: 23:23:26.143: Negative content width -2 (allocation 32, extents 17x17) while allocating gadget (node button, owner GtkButton)\n",
      "\n",
      "(VESTA-gui:134608): Gtk-WARNING **: 23:23:26.143: Negative content width -2 (allocation 32, extents 17x17) while allocating gadget (node button, owner GtkButton)\n",
      "\n",
      "(VESTA-gui:134608): Gtk-WARNING **: 23:23:26.143: Negative content width -2 (allocation 32, extents 17x17) while allocating gadget (node button, owner GtkButton)\n",
      "\n",
      "(VESTA-gui:134608): Gtk-CRITICAL **: 23:23:26.145: gtk_box_gadget_distribute: assertion 'size >= 0' failed in GtkNotebook\n",
      "\n",
      "(VESTA-gui:134608): Gtk-WARNING **: 23:23:26.344: Negative content width -2 (allocation 32, extents 17x17) while allocating gadget (node button, owner GtkButton)\n",
      "\n",
      "(VESTA-gui:134608): Gtk-WARNING **: 23:23:26.344: Negative content width -2 (allocation 32, extents 17x17) while allocating gadget (node button, owner GtkButton)\n",
      "\n",
      "(VESTA-gui:134608): Gtk-CRITICAL **: 23:23:26.344: gtk_box_gadget_distribute: assertion 'size >= 0' failed in GtkNotebook\n",
      "\n",
      "(VESTA-gui:134608): Gtk-WARNING **: 23:23:26.642: Negative content width -2 (allocation 32, extents 17x17) while allocating gadget (node button, owner GtkButton)\n",
      "\n",
      "(VESTA-gui:134608): Gtk-WARNING **: 23:23:26.642: Negative content width -2 (allocation 32, extents 17x17) while allocating gadget (node button, owner GtkButton)\n",
      "\n",
      "(VESTA-gui:134608): Gtk-WARNING **: 23:23:26.642: Negative content width -2 (allocation 32, extents 17x17) while allocating gadget (node button, owner GtkButton)\n",
      "\n",
      "(VESTA-gui:134608): Gtk-WARNING **: 23:23:26.642: Negative content width -2 (allocation 32, extents 17x17) while allocating gadget (node button, owner GtkButton)\n",
      "\n",
      "(VESTA-gui:134608): Gtk-CRITICAL **: 23:23:26.643: gtk_box_gadget_distribute: assertion 'size >= 0' failed in GtkNotebook\n",
      "\n",
      "(VESTA-gui:134608): Gtk-WARNING **: 23:23:26.804: Negative content width -2 (allocation 32, extents 17x17) while allocating gadget (node button, owner GtkButton)\n",
      "\n",
      "(VESTA-gui:134608): Gtk-WARNING **: 23:23:26.805: Negative content width -2 (allocation 32, extents 17x17) while allocating gadget (node button, owner GtkButton)\n",
      "\n",
      "(VESTA-gui:134608): Gtk-CRITICAL **: 23:23:26.805: gtk_box_gadget_distribute: assertion 'size >= 0' failed in GtkNotebook\n"
     ]
    },
    {
     "name": "stdout",
     "output_type": "stream",
     "text": [
      "type=0 format=0 nitems=0 atom=271 246\n",
      "workspace= 0 : -1, x=8, y=31; Screen_W=1504\n"
     ]
    }
   ],
   "source": [
    "import subprocess\n",
    "VESTA = '/home/morii-k/vesta/VESTA-gtk3/VESTA'\n",
    "POSCAR = './POSCAR'\n",
    "myprocess = subprocess.Popen([VESTA, '-open', POSCAR])"
   ]
  },
  {
   "cell_type": "code",
   "execution_count": 1,
   "metadata": {
    "tags": []
   },
   "outputs": [
    {
     "name": "stdout",
     "output_type": "stream",
     "text": [
      "Python 3.10.12\n",
      "/bin/python3\n"
     ]
    }
   ],
   "source": [
    "!python3 --version\n",
    "!which python3"
   ]
  },
  {
   "cell_type": "markdown",
   "metadata": {},
   "source": [
    "#### pymatgenでposcarを読み込む： http://owl.nagaokaut.ac.jp/python/pymatgen/structure/"
   ]
  },
  {
   "cell_type": "code",
   "execution_count": 2,
   "metadata": {
    "tags": []
   },
   "outputs": [
    {
     "data": {
      "text/plain": [
       "Structure Summary\n",
       "Lattice\n",
       "    abc : 5.3126 8.895799999999998 6.428400000000003\n",
       " angles : 90.0 90.0 90.0\n",
       " volume : 303.80507240107204\n",
       "      A : 5.3126 0.0 0.0\n",
       "      B : 0.0 8.895799999999998 0.0\n",
       "      C : 0.0 0.0 6.428400000000003\n",
       "    pbc : True True True\n",
       "PeriodicSite: C (1.3281, 6.7341, 5.9077) [0.2500, 0.7570, 0.9190]\n",
       "PeriodicSite: C (1.3281, 6.6096, 2.6935) [0.2500, 0.7430, 0.4190]\n",
       "PeriodicSite: C (3.9844, 2.1617, 0.5207) [0.7500, 0.2430, 0.0810]\n",
       "PeriodicSite: C (3.9844, 2.2862, 3.7349) [0.7500, 0.2570, 0.5810]\n",
       "PeriodicSite: Ba (1.3281, 3.7034, 4.8528) [0.2500, 0.4163, 0.7549]\n",
       "PeriodicSite: Ba (1.3281, 0.7445, 1.6386) [0.2500, 0.0837, 0.2549]\n",
       "PeriodicSite: Ba (3.9844, 5.1924, 1.5756) [0.7500, 0.5837, 0.2451]\n",
       "PeriodicSite: Ba (3.9844, 8.1513, 4.7898) [0.7500, 0.9163, 0.7451]\n",
       "PeriodicSite: O (1.3281, 8.0160, 5.8640) [0.2500, 0.9011, 0.9122]\n",
       "PeriodicSite: O (1.3281, 5.3277, 2.6498) [0.2500, 0.5989, 0.4122]\n",
       "PeriodicSite: O (3.9844, 0.8798, 0.5644) [0.7500, 0.0989, 0.0878]\n",
       "PeriodicSite: O (3.9844, 3.5681, 3.7786) [0.7500, 0.4011, 0.5878]\n",
       "PeriodicSite: O (2.4411, 6.0838, 5.9206) [0.4595, 0.6839, 0.9210]\n",
       "PeriodicSite: O (0.2152, 7.2599, 2.7064) [0.0405, 0.8161, 0.4210]\n",
       "PeriodicSite: O (2.8715, 2.8120, 0.5078) [0.5405, 0.3161, 0.0790]\n",
       "PeriodicSite: O (0.2152, 6.0838, 5.9206) [0.0405, 0.6839, 0.9210]\n",
       "PeriodicSite: O (2.4411, 7.2599, 2.7064) [0.4595, 0.8161, 0.4210]\n",
       "PeriodicSite: O (5.0974, 1.6359, 3.7220) [0.9595, 0.1839, 0.5790]\n",
       "PeriodicSite: O (5.0974, 2.8120, 0.5078) [0.9595, 0.3161, 0.0790]\n",
       "PeriodicSite: O (2.8715, 1.6359, 3.7220) [0.5405, 0.1839, 0.5790]"
      ]
     },
     "execution_count": 2,
     "metadata": {},
     "output_type": "execute_result"
    }
   ],
   "source": [
    "from pymatgen.core import Structure\n",
    "filename = 'POSCAR'\n",
    "struc = Structure.from_file(filename)   \n",
    "struc"
   ]
  },
  {
   "cell_type": "code",
   "execution_count": 8,
   "metadata": {
    "tags": []
   },
   "outputs": [
    {
     "data": {
      "text/plain": [
       "pymatgen.core.structure.Structure"
      ]
     },
     "execution_count": 8,
     "metadata": {},
     "output_type": "execute_result"
    }
   ],
   "source": [
    "type(struc)"
   ]
  },
  {
   "cell_type": "markdown",
   "metadata": {},
   "source": [
    "#### pymatgenで隣接原子の情報を取り出す：pymatgen.core.structure module：https://pymatgen.org/pymatgen.core.html"
   ]
  },
  {
   "cell_type": "code",
   "execution_count": 9,
   "metadata": {
    "tags": []
   },
   "outputs": [
    {
     "name": "stdout",
     "output_type": "stream",
     "text": [
      "DISTANCE_TOLERANCE\n",
      "REDIRECT\n",
      "__abstractmethods__\n",
      "__class__\n",
      "__class_getitem__\n",
      "__contains__\n",
      "__delattr__\n",
      "__delitem__\n",
      "__dict__\n",
      "__dir__\n",
      "__doc__\n",
      "__eq__\n",
      "__format__\n",
      "__ge__\n",
      "__get_validators__\n",
      "__getattribute__\n",
      "__getitem__\n",
      "__gt__\n",
      "__hash__\n",
      "__iadd__\n",
      "__init__\n",
      "__init_subclass__\n",
      "__iter__\n",
      "__le__\n",
      "__len__\n",
      "__lt__\n",
      "__modify_schema__\n",
      "__module__\n",
      "__mul__\n",
      "__ne__\n",
      "__new__\n",
      "__reduce__\n",
      "__reduce_ex__\n",
      "__repr__\n",
      "__reversed__\n",
      "__rmul__\n",
      "__setattr__\n",
      "__setitem__\n",
      "__sizeof__\n",
      "__slots__\n",
      "__str__\n",
      "__subclasshook__\n",
      "__weakref__\n",
      "_abc_impl\n",
      "_charge\n",
      "_get_neighbor_list_py\n",
      "_lattice\n",
      "_sites\n",
      "add_oxidation_state_by_element\n",
      "add_oxidation_state_by_guess\n",
      "add_oxidation_state_by_site\n",
      "add_site_property\n",
      "add_spin_by_element\n",
      "add_spin_by_site\n",
      "append\n",
      "apply_operation\n",
      "apply_strain\n",
      "as_dataframe\n",
      "as_dict\n",
      "atomic_numbers\n",
      "cart_coords\n",
      "charge\n",
      "clear\n",
      "composition\n",
      "copy\n",
      "count\n",
      "density\n",
      "distance_matrix\n",
      "extend\n",
      "extract_cluster\n",
      "formula\n",
      "frac_coords\n",
      "from_dict\n",
      "from_file\n",
      "from_magnetic_spacegroup\n",
      "from_prototype\n",
      "from_sites\n",
      "from_spacegroup\n",
      "from_str\n",
      "get_all_neighbors\n",
      "get_all_neighbors_old\n",
      "get_all_neighbors_py\n",
      "get_angle\n",
      "get_dihedral\n",
      "get_distance\n",
      "get_miller_index_from_site_indexes\n",
      "get_neighbor_list\n",
      "get_neighbors\n",
      "get_neighbors_in_shell\n",
      "get_neighbors_old\n",
      "get_orderings\n",
      "get_primitive_structure\n",
      "get_reduced_structure\n",
      "get_sites_in_sphere\n",
      "get_sorted_structure\n",
      "get_space_group_info\n",
      "get_symmetric_neighbor_list\n",
      "group_by_types\n",
      "index\n",
      "indices_from_symbol\n",
      "insert\n",
      "interpolate\n",
      "is_3d_periodic\n",
      "is_ordered\n",
      "is_valid\n",
      "lattice\n",
      "make_supercell\n",
      "matches\n",
      "merge_sites\n",
      "ntypesp\n",
      "num_sites\n",
      "pbc\n",
      "perturb\n",
      "pop\n",
      "relax\n",
      "remove\n",
      "remove_oxidation_states\n",
      "remove_site_property\n",
      "remove_sites\n",
      "remove_species\n",
      "remove_spin\n",
      "replace\n",
      "replace_species\n",
      "reverse\n",
      "rotate_sites\n",
      "scale_lattice\n",
      "set_charge\n",
      "site_properties\n",
      "sites\n",
      "sort\n",
      "species\n",
      "species_and_occu\n",
      "substitute\n",
      "symbol_set\n",
      "to\n",
      "to_json\n",
      "translate_sites\n",
      "types_of_specie\n",
      "types_of_species\n",
      "unsafe_hash\n",
      "validate_monty\n",
      "volume\n"
     ]
    }
   ],
   "source": [
    "import pandas as pd\n",
    "method_list = dir(struc)\n",
    "for method in method_list:\n",
    "    print(method)\n"
   ]
  },
  {
   "cell_type": "markdown",
   "metadata": {},
   "source": [
    "#### あるサイトの原子から一定距離以内の原子座標を取得\n",
    "##### Structure.get_neighbors(site=, r=)"
   ]
  },
  {
   "cell_type": "code",
   "execution_count": 5,
   "metadata": {
    "tags": []
   },
   "outputs": [],
   "source": [
    "# struc.get_neighbor_list "
   ]
  },
  {
   "cell_type": "code",
   "execution_count": 92,
   "metadata": {
    "tags": []
   },
   "outputs": [],
   "source": [
    "# struc_dict = struc.as_dict()\n",
    "# struc_site_list = struc_dict['sites']"
   ]
  },
  {
   "cell_type": "code",
   "execution_count": 93,
   "metadata": {
    "tags": []
   },
   "outputs": [
    {
     "name": "stdout",
     "output_type": "stream",
     "text": [
      "site: [1.32815   6.7341206 5.9076996] C\n"
     ]
    },
    {
     "data": {
      "text/plain": [
       "[PeriodicSite: O (0.2152, 6.0838, 5.9206) [0.0405, 0.6839, 0.9210],\n",
       " PeriodicSite: O (2.4411, 6.0838, 5.9206) [0.4595, 0.6839, 0.9210],\n",
       " PeriodicSite: O (1.3281, 8.0160, 5.8640) [0.2500, 0.9011, 0.9122]]"
      ]
     },
     "execution_count": 93,
     "metadata": {},
     "output_type": "execute_result"
    }
   ],
   "source": [
    "carbon_site = struc.sites[0]\n",
    "print(f\"site: {carbon_site}\")\n",
    "struc.get_neighbors(site=carbon_site, r=1.3)"
   ]
  },
  {
   "cell_type": "code",
   "execution_count": 82,
   "metadata": {},
   "outputs": [
    {
     "name": "stdout",
     "output_type": "stream",
     "text": [
      "site: [3.98445    0.87979462 0.56441352] O\n"
     ]
    },
    {
     "data": {
      "text/plain": [
       "[PeriodicSite: C (3.9844, 2.1617, 0.5207) [0.7500, 0.2430, 0.0810]]"
      ]
     },
     "execution_count": 82,
     "metadata": {},
     "output_type": "execute_result"
    }
   ],
   "source": [
    "oxygen_site = struc.sites[10]\n",
    "print(f\"site: {oxygen_site}\")\n",
    "struc.get_neighbors(site=oxygen_site, r=1.3)"
   ]
  },
  {
   "cell_type": "code",
   "execution_count": 79,
   "metadata": {},
   "outputs": [
    {
     "name": "stdout",
     "output_type": "stream",
     "text": [
      "site: [1.32815    3.7034105  4.85279916] Ba\n"
     ]
    },
    {
     "data": {
      "text/plain": [
       "[PeriodicSite: O (-0.2152, 2.8120, 6.9362) [-0.0405, 0.3161, 1.0790],\n",
       " PeriodicSite: O (2.8715, 2.8120, 6.9362) [0.5405, 0.3161, 1.0790],\n",
       " PeriodicSite: O (1.3281, 5.3277, 2.6498) [0.2500, 0.5989, 0.4122]]"
      ]
     },
     "execution_count": 79,
     "metadata": {},
     "output_type": "execute_result"
    }
   ],
   "source": [
    "barium_site = struc.sites[4]\n",
    "print(f\"site: {barium_site}\")\n",
    "struc.get_neighbors(site=barium_site, r=2.8)"
   ]
  },
  {
   "cell_type": "code",
   "execution_count": 99,
   "metadata": {},
   "outputs": [
    {
     "data": {
      "text/plain": [
       "pymatgen.core.structure.PeriodicNeighbor"
      ]
     },
     "execution_count": 99,
     "metadata": {},
     "output_type": "execute_result"
    }
   ],
   "source": [
    "type(struc.get_neighbors(site=barium_site, r=2.8)[0])"
   ]
  },
  {
   "cell_type": "code",
   "execution_count": 101,
   "metadata": {},
   "outputs": [
    {
     "data": {
      "text/plain": [
       "['REDIRECT',\n",
       " '__abstractmethods__',\n",
       " '__class__',\n",
       " '__contains__',\n",
       " '__delattr__',\n",
       " '__dict__',\n",
       " '__dir__',\n",
       " '__doc__',\n",
       " '__eq__',\n",
       " '__format__',\n",
       " '__ge__',\n",
       " '__get_validators__',\n",
       " '__getattr__',\n",
       " '__getattribute__',\n",
       " '__getitem__',\n",
       " '__gt__',\n",
       " '__hash__',\n",
       " '__init__',\n",
       " '__init_subclass__',\n",
       " '__le__',\n",
       " '__len__',\n",
       " '__lt__',\n",
       " '__modify_schema__',\n",
       " '__module__',\n",
       " '__ne__',\n",
       " '__new__',\n",
       " '__reduce__',\n",
       " '__reduce_ex__',\n",
       " '__repr__',\n",
       " '__setattr__',\n",
       " '__sizeof__',\n",
       " '__slots__',\n",
       " '__str__',\n",
       " '__subclasshook__',\n",
       " '__weakref__',\n",
       " '_abc_impl',\n",
       " '_frac_coords',\n",
       " '_lattice',\n",
       " '_species',\n",
       " 'a',\n",
       " 'as_dict',\n",
       " 'b',\n",
       " 'c',\n",
       " 'coords',\n",
       " 'distance',\n",
       " 'distance_and_image',\n",
       " 'distance_and_image_from_frac_coords',\n",
       " 'distance_from_point',\n",
       " 'frac_coords',\n",
       " 'from_dict',\n",
       " 'image',\n",
       " 'index',\n",
       " 'is_ordered',\n",
       " 'is_periodic_image',\n",
       " 'lattice',\n",
       " 'nn_distance',\n",
       " 'position_atol',\n",
       " 'properties',\n",
       " 'specie',\n",
       " 'species',\n",
       " 'species_string',\n",
       " 'to_json',\n",
       " 'to_unit_cell',\n",
       " 'unsafe_hash',\n",
       " 'validate_monty',\n",
       " 'x',\n",
       " 'y',\n",
       " 'z']"
      ]
     },
     "execution_count": 101,
     "metadata": {},
     "output_type": "execute_result"
    }
   ],
   "source": [
    "dir(struc.get_neighbors(site=barium_site, r=2.8)[0])"
   ]
  },
  {
   "cell_type": "code",
   "execution_count": 103,
   "metadata": {},
   "outputs": [
    {
     "data": {
      "text/plain": [
       "array([-0.2151603 ,  2.81196238,  6.9362436 ])"
      ]
     },
     "execution_count": 103,
     "metadata": {},
     "output_type": "execute_result"
    }
   ],
   "source": [
    "struc.get_neighbors(site=barium_site, r=2.8)[0].coords"
   ]
  },
  {
   "cell_type": "code",
   "execution_count": 104,
   "metadata": {},
   "outputs": [
    {
     "data": {
      "text/plain": [
       "2.7417562188748206"
      ]
     },
     "execution_count": 104,
     "metadata": {},
     "output_type": "execute_result"
    }
   ],
   "source": [
    "struc.get_neighbors(site=barium_site, r=2.8)[0].nn_distance"
   ]
  },
  {
   "cell_type": "code",
   "execution_count": 105,
   "metadata": {},
   "outputs": [
    {
     "data": {
      "text/plain": [
       "Comp: O1"
      ]
     },
     "execution_count": 105,
     "metadata": {},
     "output_type": "execute_result"
    }
   ],
   "source": [
    "struc.get_neighbors(site=barium_site, r=2.8)[0].species"
   ]
  },
  {
   "cell_type": "code",
   "execution_count": null,
   "metadata": {},
   "outputs": [],
   "source": []
  },
  {
   "cell_type": "code",
   "execution_count": null,
   "metadata": {},
   "outputs": [],
   "source": []
  },
  {
   "cell_type": "markdown",
   "metadata": {},
   "source": [
    "#### 近い原子同士をクラスタと見たとき，中心距離を計算:CO3^2-\n"
   ]
  },
  {
   "cell_type": "code",
   "execution_count": 109,
   "metadata": {},
   "outputs": [
    {
     "name": "stdout",
     "output_type": "stream",
     "text": [
      "site: [1.32815   6.7341206 5.9076996] C\n"
     ]
    },
    {
     "data": {
      "text/plain": [
       "[PeriodicSite: O (0.2152, 6.0838, 5.9206) [0.0405, 0.6839, 0.9210],\n",
       " PeriodicSite: O (2.4411, 6.0838, 5.9206) [0.4595, 0.6839, 0.9210],\n",
       " PeriodicSite: O (1.3281, 8.0160, 5.8640) [0.2500, 0.9011, 0.9122]]"
      ]
     },
     "execution_count": 109,
     "metadata": {},
     "output_type": "execute_result"
    }
   ],
   "source": [
    "carbon_site = struc.sites[0]\n",
    "print(f\"site: {carbon_site}\")\n",
    "struc.get_neighbors(site=carbon_site, r=1.3)"
   ]
  },
  {
   "cell_type": "code",
   "execution_count": 113,
   "metadata": {},
   "outputs": [
    {
     "data": {
      "text/plain": [
       "array([1.32815  , 6.7341206, 5.9076996])"
      ]
     },
     "execution_count": 113,
     "metadata": {},
     "output_type": "execute_result"
    }
   ],
   "source": [
    "carbon_site.coords"
   ]
  },
  {
   "cell_type": "code",
   "execution_count": 142,
   "metadata": {},
   "outputs": [
    {
     "data": {
      "text/plain": [
       "array([0.2151603 , 6.08383762, 5.9205564 ])"
      ]
     },
     "execution_count": 142,
     "metadata": {},
     "output_type": "execute_result"
    }
   ],
   "source": [
    "struc.get_neighbors(site=carbon_site, r=1.3)[0].coords"
   ]
  },
  {
   "cell_type": "code",
   "execution_count": 143,
   "metadata": {},
   "outputs": [
    {
     "data": {
      "text/plain": [
       "[array([0.2151603 , 6.08383762, 5.9205564 ]),\n",
       " array([2.4411397 , 6.08383762, 5.9205564 ]),\n",
       " array([1.32815   , 8.01600538, 5.86398648])]"
      ]
     },
     "execution_count": 143,
     "metadata": {},
     "output_type": "execute_result"
    }
   ],
   "source": [
    "PeriodicSite_list = []\n",
    "for PeriodicSite in struc.get_neighbors(site=carbon_site, r=1.3):\n",
    "    PeriodicSite_list.append(PeriodicSite.coords)\n",
    "\n",
    "PeriodicSite_list"
   ]
  },
  {
   "cell_type": "code",
   "execution_count": 152,
   "metadata": {},
   "outputs": [
    {
     "data": {
      "text/html": [
       "<div>\n",
       "<style scoped>\n",
       "    .dataframe tbody tr th:only-of-type {\n",
       "        vertical-align: middle;\n",
       "    }\n",
       "\n",
       "    .dataframe tbody tr th {\n",
       "        vertical-align: top;\n",
       "    }\n",
       "\n",
       "    .dataframe thead th {\n",
       "        text-align: right;\n",
       "    }\n",
       "</style>\n",
       "<table border=\"1\" class=\"dataframe\">\n",
       "  <thead>\n",
       "    <tr style=\"text-align: right;\">\n",
       "      <th></th>\n",
       "      <th>x</th>\n",
       "      <th>y</th>\n",
       "      <th>z</th>\n",
       "    </tr>\n",
       "  </thead>\n",
       "  <tbody>\n",
       "    <tr>\n",
       "      <th>0</th>\n",
       "      <td>1.32815</td>\n",
       "      <td>6.734121</td>\n",
       "      <td>5.907700</td>\n",
       "    </tr>\n",
       "    <tr>\n",
       "      <th>1</th>\n",
       "      <td>0.21516</td>\n",
       "      <td>6.083838</td>\n",
       "      <td>5.920556</td>\n",
       "    </tr>\n",
       "    <tr>\n",
       "      <th>2</th>\n",
       "      <td>2.44114</td>\n",
       "      <td>6.083838</td>\n",
       "      <td>5.920556</td>\n",
       "    </tr>\n",
       "    <tr>\n",
       "      <th>3</th>\n",
       "      <td>1.32815</td>\n",
       "      <td>8.016005</td>\n",
       "      <td>5.863986</td>\n",
       "    </tr>\n",
       "  </tbody>\n",
       "</table>\n",
       "</div>"
      ],
      "text/plain": [
       "         x         y         z\n",
       "0  1.32815  6.734121  5.907700\n",
       "1  0.21516  6.083838  5.920556\n",
       "2  2.44114  6.083838  5.920556\n",
       "3  1.32815  8.016005  5.863986"
      ]
     },
     "execution_count": 152,
     "metadata": {},
     "output_type": "execute_result"
    }
   ],
   "source": [
    "carbon_neighbors_site_list = [carbon_site.coords]\n",
    "for i in PeriodicSite_list:\n",
    "    carbon_neighbors_site_list.append(i)\n",
    "\n",
    "\n",
    "df = pd.DataFrame(carbon_neighbors_site_list, columns=['x', 'y', 'z'])\n",
    "df\n"
   ]
  },
  {
   "cell_type": "code",
   "execution_count": 145,
   "metadata": {},
   "outputs": [
    {
     "data": {
      "text/plain": [
       "[PeriodicSite: O (0.2152, 6.0838, 5.9206) [0.0405, 0.6839, 0.9210],\n",
       " PeriodicSite: O (2.4411, 6.0838, 5.9206) [0.4595, 0.6839, 0.9210],\n",
       " PeriodicSite: O (1.3281, 8.0160, 5.8640) [0.2500, 0.9011, 0.9122]]"
      ]
     },
     "execution_count": 145,
     "metadata": {},
     "output_type": "execute_result"
    }
   ],
   "source": [
    "struc.get_neighbors(site=carbon_site, r=1.3)"
   ]
  },
  {
   "cell_type": "code",
   "execution_count": 118,
   "metadata": {},
   "outputs": [
    {
     "data": {
      "text/plain": [
       "[array([1.32815  , 6.7341206, 5.9076996]),\n",
       " [PeriodicSite: O (0.2152, 6.0838, 5.9206) [0.0405, 0.6839, 0.9210],\n",
       "  PeriodicSite: O (2.4411, 6.0838, 5.9206) [0.4595, 0.6839, 0.9210],\n",
       "  PeriodicSite: O (1.3281, 8.0160, 5.8640) [0.2500, 0.9011, 0.9122]]]"
      ]
     },
     "execution_count": 118,
     "metadata": {},
     "output_type": "execute_result"
    }
   ],
   "source": [
    "[carbon_site.coords, struc.get_neighbors(site=carbon_site, r=1.3)]"
   ]
  },
  {
   "cell_type": "code",
   "execution_count": null,
   "metadata": {},
   "outputs": [],
   "source": []
  },
  {
   "cell_type": "code",
   "execution_count": null,
   "metadata": {},
   "outputs": [],
   "source": []
  },
  {
   "cell_type": "markdown",
   "metadata": {},
   "source": [
    "#### Structureオブジェクトを作る３つの引数：ex.) \n",
    "new_struc = Structure(lattice=, species=, coords=)"
   ]
  },
  {
   "cell_type": "markdown",
   "metadata": {},
   "source": [
    "##### ※ strucはStructureオブジェクトのインスタンス\n",
    "##### struc.lattice  # 格子（lattice）：type --> pymatgen.core.lattice.Lattice\n",
    "##### struc.species  # 元素種（species）：type --> list\n",
    "##### struc.frac_coords  # 座標（coords）:type --> numpy.ndarray"
   ]
  },
  {
   "cell_type": "code",
   "execution_count": null,
   "metadata": {},
   "outputs": [],
   "source": []
  },
  {
   "cell_type": "markdown",
   "metadata": {},
   "source": [
    "#### pymatgenのStructureオブジェクトをnotebook上で可視化する２：https://stackoverflow.com/questions/27664407/plot-materials-structure-pymatgen"
   ]
  },
  {
   "cell_type": "code",
   "execution_count": 28,
   "metadata": {},
   "outputs": [
    {
     "data": {
      "application/vnd.jupyter.widget-view+json": {
       "model_id": "83eccab1b3c343d793fa4c1bfd51c88b",
       "version_major": 2,
       "version_minor": 0
      },
      "text/plain": [
       "NGLWidget()"
      ]
     },
     "metadata": {},
     "output_type": "display_data"
    }
   ],
   "source": [
    "import nglview as nv\n",
    "\n",
    "view = nv.show_pymatgen(struc)\n",
    "view.add_unitcell()\n",
    "view"
   ]
  },
  {
   "cell_type": "markdown",
   "metadata": {},
   "source": [
    "#### pymatgenのStructureオブジェクトをnotebook上で可視化する：https://twitter.com/resnant/status/1193830807128788993/photo/1"
   ]
  },
  {
   "cell_type": "code",
   "execution_count": 38,
   "metadata": {},
   "outputs": [
    {
     "ename": "ModuleNotFoundError",
     "evalue": "No module named 'ase'",
     "output_type": "error",
     "traceback": [
      "\u001b[0;31m---------------------------------------------------------------------------\u001b[0m",
      "\u001b[0;31mModuleNotFoundError\u001b[0m                       Traceback (most recent call last)",
      "\u001b[1;32m/home/morii-k/Distance_based_on_Cluster_Analysis/datas/read_poscar_by_pmg.ipynb Cell 15\u001b[0m line \u001b[0;36m1\n\u001b[0;32m----> <a href='vscode-notebook-cell://wsl%2Bubuntu/home/morii-k/Distance_based_on_Cluster_Analysis/datas/read_poscar_by_pmg.ipynb#X64sdnNjb2RlLXJlbW90ZQ%3D%3D?line=0'>1</a>\u001b[0m \u001b[39mfrom\u001b[39;00m \u001b[39mase\u001b[39;00m\u001b[39m.\u001b[39;00m\u001b[39mvisualize\u001b[39;00m \u001b[39mimport\u001b[39;00m view, ngl\n",
      "\u001b[0;31mModuleNotFoundError\u001b[0m: No module named 'ase'"
     ]
    }
   ],
   "source": [
    "from ase.visualize import view, ngl"
   ]
  },
  {
   "cell_type": "code",
   "execution_count": 39,
   "metadata": {},
   "outputs": [
    {
     "name": "stderr",
     "output_type": "stream",
     "text": [
      "5035.54s - pydevd: Sending message related to process being replaced timed-out after 5 seconds\n"
     ]
    },
    {
     "name": "stdout",
     "output_type": "stream",
     "text": [
      "Collecting ase\n",
      "  Downloading ase-3.22.1-py3-none-any.whl (2.2 MB)\n",
      "\u001b[2K     \u001b[90m━━━━━━━━━━━━━━━━━━━━━━━━━━━━━━━━━━━━━━━━\u001b[0m \u001b[32m2.2/2.2 MB\u001b[0m \u001b[31m6.7 MB/s\u001b[0m eta \u001b[36m0:00:00\u001b[0m00:01\u001b[0m00:01\u001b[0m\n",
      "\u001b[?25hRequirement already satisfied: matplotlib>=3.1.0 in /home/morii-k/.local/lib/python3.10/site-packages (from ase) (3.7.0)\n",
      "Requirement already satisfied: numpy>=1.15.0 in /home/morii-k/.local/lib/python3.10/site-packages (from ase) (1.23.4)\n",
      "Requirement already satisfied: scipy>=1.1.0 in /home/morii-k/.local/lib/python3.10/site-packages (from ase) (1.8.1)\n",
      "Requirement already satisfied: contourpy>=1.0.1 in /home/morii-k/.local/lib/python3.10/site-packages (from matplotlib>=3.1.0->ase) (1.0.7)\n",
      "Requirement already satisfied: cycler>=0.10 in /home/morii-k/.local/lib/python3.10/site-packages (from matplotlib>=3.1.0->ase) (0.11.0)\n",
      "Requirement already satisfied: fonttools>=4.22.0 in /home/morii-k/.local/lib/python3.10/site-packages (from matplotlib>=3.1.0->ase) (4.38.0)\n",
      "Requirement already satisfied: kiwisolver>=1.0.1 in /home/morii-k/.local/lib/python3.10/site-packages (from matplotlib>=3.1.0->ase) (1.4.4)\n",
      "Requirement already satisfied: packaging>=20.0 in /home/morii-k/.local/lib/python3.10/site-packages (from matplotlib>=3.1.0->ase) (23.0)\n",
      "Requirement already satisfied: pillow>=6.2.0 in /home/morii-k/.local/lib/python3.10/site-packages (from matplotlib>=3.1.0->ase) (9.4.0)\n",
      "Requirement already satisfied: pyparsing>=2.3.1 in /usr/lib/python3/dist-packages (from matplotlib>=3.1.0->ase) (2.4.7)\n",
      "Requirement already satisfied: python-dateutil>=2.7 in /home/morii-k/.local/lib/python3.10/site-packages (from matplotlib>=3.1.0->ase) (2.8.2)\n",
      "Requirement already satisfied: six>=1.5 in /usr/lib/python3/dist-packages (from python-dateutil>=2.7->matplotlib>=3.1.0->ase) (1.16.0)\n",
      "Installing collected packages: ase\n",
      "Successfully installed ase-3.22.1\n"
     ]
    }
   ],
   "source": [
    "!pip install --upgrade --user ase"
   ]
  },
  {
   "cell_type": "code",
   "execution_count": 30,
   "metadata": {},
   "outputs": [],
   "source": [
    "from ase.visualize import view, ngl\n",
    "from pymatgen.io import ase"
   ]
  },
  {
   "cell_type": "code",
   "execution_count": 31,
   "metadata": {},
   "outputs": [],
   "source": [
    "ase_adpter = ase.AseAtomsAdaptor()\n",
    "struc_ase = ase_adpter.get_atoms(struc)"
   ]
  },
  {
   "cell_type": "code",
   "execution_count": 155,
   "metadata": {},
   "outputs": [
    {
     "data": {
      "application/vnd.jupyter.widget-view+json": {
       "model_id": "f5217ff2127146b2a18628e973a6e9a7",
       "version_major": 2,
       "version_minor": 0
      },
      "text/plain": [
       "HBox(children=(NGLWidget(), VBox(children=(Dropdown(description='Show', options=('All', 'Ba', 'C', 'O'), value…"
      ]
     },
     "execution_count": 155,
     "metadata": {},
     "output_type": "execute_result"
    }
   ],
   "source": [
    "ngl.view_ngl(struc_ase)"
   ]
  },
  {
   "cell_type": "markdown",
   "metadata": {},
   "source": [
    "#### nglview · PyPI:https://pypi.org/project/nglview/"
   ]
  },
  {
   "cell_type": "code",
   "execution_count": 47,
   "metadata": {},
   "outputs": [
    {
     "name": "stderr",
     "output_type": "stream",
     "text": [
      "5438.98s - pydevd: Sending message related to process being replaced timed-out after 5 seconds\n"
     ]
    },
    {
     "name": "stdout",
     "output_type": "stream",
     "text": [
      "Defaulting to user installation because normal site-packages is not writeable\n",
      "Collecting nglview\n",
      "\u001b[33m  WARNING: Retrying (Retry(total=4, connect=None, read=None, redirect=None, status=None)) after connection broken by 'SSLError(SSLError(1, '[SSL: SSLV3_ALERT_HANDSHAKE_FAILURE] sslv3 alert handshake failure (_ssl.c:1007)'))': /packages/6a/3e/40ee8822c10bf8b00d037ede875ac2a1a26b07fae5e26fbd8af3404257e3/nglview-3.0.8.tar.gz\u001b[0m\u001b[33m\n",
      "\u001b[0m  Downloading nglview-3.0.8.tar.gz (6.8 MB)\n",
      "\u001b[2K     \u001b[90m━━━━━━━━━━━━━━━━━━━━━━━━━━━━━━━━━━━━━━━━\u001b[0m \u001b[32m6.8/6.8 MB\u001b[0m \u001b[31m7.5 MB/s\u001b[0m eta \u001b[36m0:00:00\u001b[0m00:01\u001b[0m00:01\u001b[0m\n",
      "\u001b[?25h  Installing build dependencies ... \u001b[?25ldone\n",
      "\u001b[?25h  Getting requirements to build wheel ... \u001b[?25ldone\n",
      "\u001b[?25h  Preparing metadata (pyproject.toml) ... \u001b[?25ldone\n",
      "\u001b[?25hCollecting ipywidgets>=7 (from nglview)\n",
      "  Obtaining dependency information for ipywidgets>=7 from https://files.pythonhosted.org/packages/4a/0e/57ed498fafbc60419a9332d872e929879ceba2d73cb11d284d7112472b3e/ipywidgets-8.1.1-py3-none-any.whl.metadata\n",
      "  Downloading ipywidgets-8.1.1-py3-none-any.whl.metadata (2.4 kB)\n",
      "Collecting jupyterlab-widgets (from nglview)\n",
      "  Obtaining dependency information for jupyterlab-widgets from https://files.pythonhosted.org/packages/e8/05/0ebab152288693b5ec7b339aab857362947031143b282853b4c2dd4b5b40/jupyterlab_widgets-3.0.9-py3-none-any.whl.metadata\n",
      "  Downloading jupyterlab_widgets-3.0.9-py3-none-any.whl.metadata (4.1 kB)\n",
      "Requirement already satisfied: numpy in /home/morii-k/.local/lib/python3.10/site-packages (from nglview) (1.23.4)\n",
      "Requirement already satisfied: comm>=0.1.3 in /home/morii-k/.local/lib/python3.10/site-packages (from ipywidgets>=7->nglview) (0.1.3)\n",
      "Requirement already satisfied: ipython>=6.1.0 in /home/morii-k/.local/lib/python3.10/site-packages (from ipywidgets>=7->nglview) (8.12.0)\n",
      "Requirement already satisfied: traitlets>=4.3.1 in /home/morii-k/.local/lib/python3.10/site-packages (from ipywidgets>=7->nglview) (5.9.0)\n",
      "Collecting widgetsnbextension~=4.0.9 (from ipywidgets>=7->nglview)\n",
      "  Obtaining dependency information for widgetsnbextension~=4.0.9 from https://files.pythonhosted.org/packages/29/03/107d96077c4befed191f7ad1a12c7b52a8f9d2778a5836d59f9855c105f6/widgetsnbextension-4.0.9-py3-none-any.whl.metadata\n",
      "  Downloading widgetsnbextension-4.0.9-py3-none-any.whl.metadata (1.6 kB)\n",
      "Requirement already satisfied: backcall in /home/morii-k/.local/lib/python3.10/site-packages (from ipython>=6.1.0->ipywidgets>=7->nglview) (0.2.0)\n",
      "Requirement already satisfied: decorator in /home/morii-k/.local/lib/python3.10/site-packages (from ipython>=6.1.0->ipywidgets>=7->nglview) (5.1.1)\n",
      "Requirement already satisfied: jedi>=0.16 in /home/morii-k/.local/lib/python3.10/site-packages (from ipython>=6.1.0->ipywidgets>=7->nglview) (0.18.2)\n",
      "Requirement already satisfied: matplotlib-inline in /home/morii-k/.local/lib/python3.10/site-packages (from ipython>=6.1.0->ipywidgets>=7->nglview) (0.1.6)\n",
      "Requirement already satisfied: pickleshare in /home/morii-k/.local/lib/python3.10/site-packages (from ipython>=6.1.0->ipywidgets>=7->nglview) (0.7.5)\n",
      "Requirement already satisfied: prompt-toolkit!=3.0.37,<3.1.0,>=3.0.30 in /home/morii-k/.local/lib/python3.10/site-packages (from ipython>=6.1.0->ipywidgets>=7->nglview) (3.0.38)\n",
      "Requirement already satisfied: pygments>=2.4.0 in /home/morii-k/.local/lib/python3.10/site-packages (from ipython>=6.1.0->ipywidgets>=7->nglview) (2.14.0)\n",
      "Requirement already satisfied: stack-data in /home/morii-k/.local/lib/python3.10/site-packages (from ipython>=6.1.0->ipywidgets>=7->nglview) (0.6.2)\n",
      "Requirement already satisfied: pexpect>4.3 in /home/morii-k/.local/lib/python3.10/site-packages (from ipython>=6.1.0->ipywidgets>=7->nglview) (4.8.0)\n",
      "Requirement already satisfied: parso<0.9.0,>=0.8.0 in /home/morii-k/.local/lib/python3.10/site-packages (from jedi>=0.16->ipython>=6.1.0->ipywidgets>=7->nglview) (0.8.3)\n",
      "Requirement already satisfied: ptyprocess>=0.5 in /home/morii-k/.local/lib/python3.10/site-packages (from pexpect>4.3->ipython>=6.1.0->ipywidgets>=7->nglview) (0.7.0)\n",
      "Requirement already satisfied: wcwidth in /home/morii-k/.local/lib/python3.10/site-packages (from prompt-toolkit!=3.0.37,<3.1.0,>=3.0.30->ipython>=6.1.0->ipywidgets>=7->nglview) (0.2.6)\n",
      "Requirement already satisfied: executing>=1.2.0 in /home/morii-k/.local/lib/python3.10/site-packages (from stack-data->ipython>=6.1.0->ipywidgets>=7->nglview) (1.2.0)\n",
      "Requirement already satisfied: asttokens>=2.1.0 in /home/morii-k/.local/lib/python3.10/site-packages (from stack-data->ipython>=6.1.0->ipywidgets>=7->nglview) (2.2.1)\n",
      "Requirement already satisfied: pure-eval in /home/morii-k/.local/lib/python3.10/site-packages (from stack-data->ipython>=6.1.0->ipywidgets>=7->nglview) (0.2.2)\n",
      "Requirement already satisfied: six in /usr/lib/python3/dist-packages (from asttokens>=2.1.0->stack-data->ipython>=6.1.0->ipywidgets>=7->nglview) (1.16.0)\n",
      "Downloading ipywidgets-8.1.1-py3-none-any.whl (139 kB)\n",
      "\u001b[2K   \u001b[90m━━━━━━━━━━━━━━━━━━━━━━━━━━━━━━━━━━━━━━━━\u001b[0m \u001b[32m139.4/139.4 kB\u001b[0m \u001b[31m12.2 MB/s\u001b[0m eta \u001b[36m0:00:00\u001b[0m\n",
      "\u001b[?25hDownloading jupyterlab_widgets-3.0.9-py3-none-any.whl (214 kB)\n",
      "\u001b[2K   \u001b[90m━━━━━━━━━━━━━━━━━━━━━━━━━━━━━━━━━━━━━━━━\u001b[0m \u001b[32m214.9/214.9 kB\u001b[0m \u001b[31m9.5 MB/s\u001b[0m eta \u001b[36m0:00:00\u001b[0m\n",
      "\u001b[?25hDownloading widgetsnbextension-4.0.9-py3-none-any.whl (2.3 MB)\n",
      "\u001b[2K   \u001b[90m━━━━━━━━━━━━━━━━━━━━━━━━━━━━━━━━━━━━━━━━\u001b[0m \u001b[32m2.3/2.3 MB\u001b[0m \u001b[31m10.6 MB/s\u001b[0m eta \u001b[36m0:00:00\u001b[0ma \u001b[36m0:00:01\u001b[0m\n",
      "\u001b[?25hBuilding wheels for collected packages: nglview\n",
      "  Building wheel for nglview (pyproject.toml) ... \u001b[?25ldone\n",
      "\u001b[?25h  Created wheel for nglview: filename=nglview-3.0.8-py3-none-any.whl size=10216163 sha256=cc3f89855c6c41e3e28570a48d123dcd6b41a9282e1b9e297d652e1534d09fe9\n",
      "  Stored in directory: /home/morii-k/.cache/pip/wheels/2e/6c/59/32bf4aa0134f9c4cdca054f5192839fb4285241e2f17f7d358\n",
      "Successfully built nglview\n",
      "Installing collected packages: widgetsnbextension, jupyterlab-widgets, ipywidgets, nglview\n",
      "Successfully installed ipywidgets-8.1.1 jupyterlab-widgets-3.0.9 nglview-3.0.8 widgetsnbextension-4.0.9\n"
     ]
    }
   ],
   "source": [
    "!pip install nglview"
   ]
  },
  {
   "cell_type": "code",
   "execution_count": null,
   "metadata": {},
   "outputs": [
    {
     "data": {
      "application/vnd.jupyter.widget-view+json": {
       "model_id": "06b23c4a8bdc4a87bcf899e96b077a9a",
       "version_major": 2,
       "version_minor": 0
      },
      "text/plain": []
     },
     "metadata": {},
     "output_type": "display_data"
    },
    {
     "data": {
      "application/vnd.jupyter.widget-view+json": {
       "model_id": "aaaba25a9d9e48b5aefa7eaf7aa6a2ac",
       "version_major": 2,
       "version_minor": 0
      },
      "text/plain": [
       "HBox(children=(NGLWidget(), VBox(children=(Dropdown(description='Show', options=('All', 'Ba', 'C', 'O'), value…"
      ]
     },
     "execution_count": 48,
     "metadata": {},
     "output_type": "execute_result"
    }
   ],
   "source": [
    "ngl.view_ngl(struc_ase)"
   ]
  },
  {
   "cell_type": "code",
   "execution_count": null,
   "metadata": {},
   "outputs": [],
   "source": [
    "# type(struc)"
   ]
  },
  {
   "cell_type": "code",
   "execution_count": null,
   "metadata": {},
   "outputs": [],
   "source": []
  }
 ],
 "metadata": {
  "kernelspec": {
   "display_name": "Python 3 (ipykernel)",
   "language": "python",
   "name": "python3"
  },
  "language_info": {
   "codemirror_mode": {
    "name": "ipython",
    "version": 3
   },
   "file_extension": ".py",
   "mimetype": "text/x-python",
   "name": "python",
   "nbconvert_exporter": "python",
   "pygments_lexer": "ipython3",
   "version": "3.10.12"
  }
 },
 "nbformat": 4,
 "nbformat_minor": 4
}
