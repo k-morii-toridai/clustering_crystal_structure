{
 "cells": [
  {
   "cell_type": "code",
   "execution_count": 18,
   "id": "ae25bdeb-e0a9-4979-ad49-ec5c44b3ee68",
   "metadata": {
    "tags": []
   },
   "outputs": [
    {
     "data": {
      "text/plain": [
       "_NamespacePath(['/home/morii-k/.local/lib/python3.10/site-packages/pymatgen'])"
      ]
     },
     "execution_count": 18,
     "metadata": {},
     "output_type": "execute_result"
    }
   ],
   "source": [
    "import pymatgen\n",
    "pymatgen.__path__"
   ]
  },
  {
   "cell_type": "code",
   "execution_count": 19,
   "id": "70abbe90-bfb7-4964-ac02-c63dc870fca0",
   "metadata": {
    "tags": []
   },
   "outputs": [],
   "source": [
    "# pymatgen.__file__"
   ]
  },
  {
   "cell_type": "code",
   "execution_count": 20,
   "id": "6332ce4b-a6d3-4871-93df-50db60b1cd6a",
   "metadata": {
    "tags": []
   },
   "outputs": [
    {
     "name": "stdout",
     "output_type": "stream",
     "text": [
      "./\t   apps/\t  electronic_structure/  optimization/\t   util/\n",
      "../\t   cli/\t\t  entries/\t\t phonon/\t   vis/\n",
      "alchemy/   command_line/  ext/\t\t\t symmetry/\n",
      "analysis/  core/\t  io/\t\t\t transformations/\n"
     ]
    }
   ],
   "source": [
    "! ls -CF -a /home/morii-k/.local/lib/python3.10/site-packages/pymatgen"
   ]
  },
  {
   "cell_type": "code",
   "execution_count": 21,
   "id": "c99880b4-32bd-4ad7-986c-0cac44ec818a",
   "metadata": {
    "tags": []
   },
   "outputs": [
    {
     "name": "stdout",
     "output_type": "stream",
     "text": [
      "\u001b[01;34m/home/morii-k/.local/lib/python3.10/site-packages/pymatgen\u001b[0m\n",
      "├── \u001b[01;34malchemy\u001b[0m\n",
      "├── \u001b[01;34manalysis\u001b[0m\n",
      "├── \u001b[01;34mapps\u001b[0m\n",
      "├── \u001b[01;34mcli\u001b[0m\n",
      "├── \u001b[01;34mcommand_line\u001b[0m\n",
      "├── \u001b[01;34mcore\u001b[0m\n",
      "├── \u001b[01;34melectronic_structure\u001b[0m\n",
      "├── \u001b[01;34mentries\u001b[0m\n",
      "├── \u001b[01;34mext\u001b[0m\n",
      "├── \u001b[01;34mio\u001b[0m\n",
      "├── \u001b[01;34moptimization\u001b[0m\n",
      "├── \u001b[01;34mphonon\u001b[0m\n",
      "├── \u001b[01;34msymmetry\u001b[0m\n",
      "├── \u001b[01;34mtransformations\u001b[0m\n",
      "├── \u001b[01;34mutil\u001b[0m\n",
      "└── \u001b[01;34mvis\u001b[0m\n",
      "\n",
      "16 directories, 0 files\n"
     ]
    }
   ],
   "source": [
    "! tree -L 1 /home/morii-k/.local/lib/python3.10/site-packages/pymatgen"
   ]
  },
  {
   "cell_type": "code",
   "execution_count": 22,
   "id": "aaad356a-fcf5-44ce-88a7-5ed460acf83e",
   "metadata": {
    "tags": []
   },
   "outputs": [
    {
     "name": "stdout",
     "output_type": "stream",
     "text": [
      "\u001b[01;34m/home/morii-k/.local/lib/python3.10/site-packages/pymatgen/ext\u001b[0m\n",
      "├── \u001b[01;34m__pycache__\u001b[0m\n",
      "├── cod.py\n",
      "├── matproj.py\n",
      "└── optimade.py\n",
      "\n",
      "1 directory, 3 files\n"
     ]
    }
   ],
   "source": [
    "! tree -L 1 /home/morii-k/.local/lib/python3.10/site-packages/pymatgen/ext"
   ]
  },
  {
   "cell_type": "code",
   "execution_count": 23,
   "id": "73e5b624-0754-4521-8489-2766252e2597",
   "metadata": {
    "tags": []
   },
   "outputs": [
    {
     "data": {
      "text/plain": [
       "['COD',\n",
       " 'Composition',\n",
       " 'Structure',\n",
       " '__builtins__',\n",
       " '__cached__',\n",
       " '__doc__',\n",
       " '__file__',\n",
       " '__loader__',\n",
       " '__name__',\n",
       " '__package__',\n",
       " '__spec__',\n",
       " 're',\n",
       " 'requests',\n",
       " 'requires',\n",
       " 'subprocess',\n",
       " 'which']"
      ]
     },
     "execution_count": 23,
     "metadata": {},
     "output_type": "execute_result"
    }
   ],
   "source": [
    "from pymatgen.ext import cod\n",
    "dir(cod)"
   ]
  },
  {
   "cell_type": "code",
   "execution_count": 32,
   "id": "6d24774c-a558-4f94-8582-9e3bf0b15564",
   "metadata": {
    "tags": []
   },
   "outputs": [
    {
     "data": {
      "text/plain": [
       "['__class__',\n",
       " '__delattr__',\n",
       " '__dict__',\n",
       " '__dir__',\n",
       " '__doc__',\n",
       " '__eq__',\n",
       " '__format__',\n",
       " '__ge__',\n",
       " '__getattribute__',\n",
       " '__gt__',\n",
       " '__hash__',\n",
       " '__init__',\n",
       " '__init_subclass__',\n",
       " '__le__',\n",
       " '__lt__',\n",
       " '__module__',\n",
       " '__ne__',\n",
       " '__new__',\n",
       " '__reduce__',\n",
       " '__reduce_ex__',\n",
       " '__repr__',\n",
       " '__setattr__',\n",
       " '__sizeof__',\n",
       " '__str__',\n",
       " '__subclasshook__',\n",
       " '__weakref__',\n",
       " 'get_cod_ids',\n",
       " 'get_structure_by_formula',\n",
       " 'get_structure_by_id',\n",
       " 'query']"
      ]
     },
     "execution_count": 32,
     "metadata": {},
     "output_type": "execute_result"
    }
   ],
   "source": [
    "dir(cod.COD)"
   ]
  },
  {
   "cell_type": "code",
   "execution_count": null,
   "id": "e96154ea-fee8-42f0-ad24-25e81ff93819",
   "metadata": {},
   "outputs": [],
   "source": []
  },
  {
   "cell_type": "code",
   "execution_count": 37,
   "id": "83204f52-091e-4be8-80a4-4e83647cbe59",
   "metadata": {
    "tags": []
   },
   "outputs": [
    {
     "ename": "NameError",
     "evalue": "name 'sql' is not defined",
     "output_type": "error",
     "traceback": [
      "\u001b[0;31m---------------------------------------------------------------------------\u001b[0m",
      "\u001b[0;31mNameError\u001b[0m                                 Traceback (most recent call last)",
      "Cell \u001b[0;32mIn[37], line 1\u001b[0m\n\u001b[0;32m----> 1\u001b[0m cod\u001b[38;5;241m.\u001b[39mCOD\u001b[38;5;241m.\u001b[39mquery(sql\u001b[38;5;241m=\u001b[39m\u001b[43msql\u001b[49m\u001b[38;5;241m.\u001b[39mcrystallography\u001b[38;5;241m.\u001b[39mnet)\n",
      "\u001b[0;31mNameError\u001b[0m: name 'sql' is not defined"
     ]
    }
   ],
   "source": [
    "cod.COD.query()"
   ]
  },
  {
   "cell_type": "code",
   "execution_count": null,
   "id": "e6f44ec5-e443-4807-b005-6fc2bf61fd8a",
   "metadata": {},
   "outputs": [],
   "source": []
  },
  {
   "cell_type": "code",
   "execution_count": null,
   "id": "9134f8ac-7497-429f-8868-9730d3ed7288",
   "metadata": {},
   "outputs": [],
   "source": []
  },
  {
   "cell_type": "code",
   "execution_count": null,
   "id": "871b9fbf-9ce7-419e-893a-e34a035fb9ba",
   "metadata": {},
   "outputs": [],
   "source": []
  },
  {
   "cell_type": "code",
   "execution_count": 39,
   "id": "c776c84f-5894-4c36-b9e1-009435435296",
   "metadata": {
    "tags": []
   },
   "outputs": [
    {
     "ename": "TypeError",
     "evalue": "COD.get_cod_ids() missing 1 required positional argument: 'self'",
     "output_type": "error",
     "traceback": [
      "\u001b[0;31m---------------------------------------------------------------------------\u001b[0m",
      "\u001b[0;31mTypeError\u001b[0m                                 Traceback (most recent call last)",
      "Cell \u001b[0;32mIn[39], line 1\u001b[0m\n\u001b[0;32m----> 1\u001b[0m \u001b[43mcod\u001b[49m\u001b[38;5;241;43m.\u001b[39;49m\u001b[43mCOD\u001b[49m\u001b[38;5;241;43m.\u001b[39;49m\u001b[43mget_cod_ids\u001b[49m\u001b[43m(\u001b[49m\u001b[43mformula\u001b[49m\u001b[38;5;241;43m=\u001b[39;49m\u001b[38;5;124;43m\"\u001b[39;49m\u001b[38;5;124;43mCaTiO3\u001b[39;49m\u001b[38;5;124;43m\"\u001b[39;49m\u001b[43m)\u001b[49m\n",
      "File \u001b[0;32m~/.local/lib/python3.10/site-packages/monty/dev.py:113\u001b[0m, in \u001b[0;36mrequires.__call__.<locals>.decorated\u001b[0;34m(*args, **kwargs)\u001b[0m\n\u001b[1;32m    111\u001b[0m \u001b[38;5;28;01mif\u001b[39;00m \u001b[38;5;129;01mnot\u001b[39;00m \u001b[38;5;28mself\u001b[39m\u001b[38;5;241m.\u001b[39mcondition:\n\u001b[1;32m    112\u001b[0m     \u001b[38;5;28;01mraise\u001b[39;00m \u001b[38;5;167;01mRuntimeError\u001b[39;00m(\u001b[38;5;28mself\u001b[39m\u001b[38;5;241m.\u001b[39mmessage)\n\u001b[0;32m--> 113\u001b[0m \u001b[38;5;28;01mreturn\u001b[39;00m \u001b[43m_callable\u001b[49m\u001b[43m(\u001b[49m\u001b[38;5;241;43m*\u001b[39;49m\u001b[43margs\u001b[49m\u001b[43m,\u001b[49m\u001b[43m \u001b[49m\u001b[38;5;241;43m*\u001b[39;49m\u001b[38;5;241;43m*\u001b[39;49m\u001b[43mkwargs\u001b[49m\u001b[43m)\u001b[49m\n",
      "\u001b[0;31mTypeError\u001b[0m: COD.get_cod_ids() missing 1 required positional argument: 'self'"
     ]
    }
   ],
   "source": [
    "cod.COD.get_cod_ids(formula=\"CaTiO3\")"
   ]
  },
  {
   "cell_type": "code",
   "execution_count": null,
   "id": "a7fa0ea5-be34-4ebd-8f32-a543883011a5",
   "metadata": {},
   "outputs": [],
   "source": []
  },
  {
   "cell_type": "code",
   "execution_count": null,
   "id": "9005fb66-bd2a-4b00-9eb3-cbd19625ac15",
   "metadata": {},
   "outputs": [],
   "source": []
  },
  {
   "cell_type": "code",
   "execution_count": null,
   "id": "673ccb47-fef2-47a6-9cbb-d0ec6e71a841",
   "metadata": {},
   "outputs": [],
   "source": []
  }
 ],
 "metadata": {
  "kernelspec": {
   "display_name": "Python 3 (ipykernel)",
   "language": "python",
   "name": "python3"
  },
  "language_info": {
   "codemirror_mode": {
    "name": "ipython",
    "version": 3
   },
   "file_extension": ".py",
   "mimetype": "text/x-python",
   "name": "python",
   "nbconvert_exporter": "python",
   "pygments_lexer": "ipython3",
   "version": "3.10.12"
  }
 },
 "nbformat": 4,
 "nbformat_minor": 5
}
