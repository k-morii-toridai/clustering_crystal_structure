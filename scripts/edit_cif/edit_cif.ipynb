{
 "cells": [
  {
   "cell_type": "code",
   "execution_count": 2,
   "id": "63d34741-cc90-4f46-a092-5a4e726c53c5",
   "metadata": {
    "tags": []
   },
   "outputs": [],
   "source": [
    "from pymatgen.io.cif import CifParser"
   ]
  },
  {
   "cell_type": "code",
   "execution_count": 4,
   "id": "47c20952-9c49-4733-ab12-24436d601b06",
   "metadata": {
    "tags": []
   },
   "outputs": [],
   "source": [
    "# dir(CifParser)"
   ]
  },
  {
   "cell_type": "markdown",
   "id": "a63c1910-4d5d-483e-a3ec-87cd9e4983aa",
   "metadata": {},
   "source": [
    "### cifを構造として読み込む"
   ]
  },
  {
   "cell_type": "markdown",
   "id": "561d31de-bfcf-410a-939a-f8d9d8c5e989",
   "metadata": {},
   "source": [
    "#### 先にcifのパスを取得"
   ]
  },
  {
   "cell_type": "code",
   "execution_count": 5,
   "id": "3968167d-4d2f-4349-a046-8058a4793977",
   "metadata": {
    "tags": []
   },
   "outputs": [],
   "source": [
    "import os\n",
    "from pathlib import Path"
   ]
  },
  {
   "cell_type": "code",
   "execution_count": null,
   "id": "5b0d0ade-b081-468d-b06d-158b4ddba7e2",
   "metadata": {},
   "outputs": [],
   "source": [
    "Path(\"\")"
   ]
  },
  {
   "cell_type": "code",
   "execution_count": null,
   "id": "87230554-3461-413e-9a1b-41091668607d",
   "metadata": {},
   "outputs": [],
   "source": [
    "## get cif path object\n",
    "p = Path(\"E:\\cif\")\n",
    "p_i = p.iterdir()\n",
    "sub_p_1 = list(p.iterdir())[0]\n",
    "sub_p_1_00 = list(sub_p_1.iterdir())[0]\n",
    "sub_p_1_00_00 = list(sub_p_1_00.iterdir())[0]\n",
    "sub_p_1_00_00_cif_list = list(sub_p_1_00_00.iterdir())"
   ]
  },
  {
   "cell_type": "code",
   "execution_count": null,
   "id": "cc2a68ce-02b6-4136-9314-02cbbeffb8d6",
   "metadata": {},
   "outputs": [],
   "source": [
    "CifParser()"
   ]
  }
 ],
 "metadata": {
  "kernelspec": {
   "display_name": "Python 3 (ipykernel)",
   "language": "python",
   "name": "python3"
  },
  "language_info": {
   "codemirror_mode": {
    "name": "ipython",
    "version": 3
   },
   "file_extension": ".py",
   "mimetype": "text/x-python",
   "name": "python",
   "nbconvert_exporter": "python",
   "pygments_lexer": "ipython3",
   "version": "3.10.12"
  }
 },
 "nbformat": 4,
 "nbformat_minor": 5
}
