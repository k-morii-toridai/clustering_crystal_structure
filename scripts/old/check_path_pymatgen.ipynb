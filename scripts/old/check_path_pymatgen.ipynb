{
 "cells": [
  {
   "cell_type": "code",
   "execution_count": 2,
   "id": "1d98de42-b2ee-44e5-8e2d-c69baaa4edd1",
   "metadata": {
    "tags": []
   },
   "outputs": [
    {
     "data": {
      "text/plain": [
       "['__doc__',\n",
       " '__file__',\n",
       " '__loader__',\n",
       " '__name__',\n",
       " '__package__',\n",
       " '__path__',\n",
       " '__spec__']"
      ]
     },
     "execution_count": 2,
     "metadata": {},
     "output_type": "execute_result"
    }
   ],
   "source": [
    "import pymatgen\n",
    "dir(pymatgen)"
   ]
  },
  {
   "cell_type": "code",
   "execution_count": 3,
   "id": "748abd2b-9362-4b74-b8f3-ab7800d72aa4",
   "metadata": {
    "tags": []
   },
   "outputs": [
    {
     "data": {
      "text/plain": [
       "_NamespacePath(['/home/morii-k/.local/lib/python3.10/site-packages/pymatgen'])"
      ]
     },
     "execution_count": 3,
     "metadata": {},
     "output_type": "execute_result"
    }
   ],
   "source": [
    "pymatgen.__path__"
   ]
  },
  {
   "cell_type": "code",
   "execution_count": 5,
   "id": "f7bd2b19-8061-422a-9204-ffbe0d2468f2",
   "metadata": {
    "tags": []
   },
   "outputs": [
    {
     "data": {
      "text/plain": [
       "['__class__',\n",
       " '__contains__',\n",
       " '__delattr__',\n",
       " '__dict__',\n",
       " '__dir__',\n",
       " '__doc__',\n",
       " '__eq__',\n",
       " '__format__',\n",
       " '__ge__',\n",
       " '__getattribute__',\n",
       " '__getitem__',\n",
       " '__gt__',\n",
       " '__hash__',\n",
       " '__init__',\n",
       " '__init_subclass__',\n",
       " '__iter__',\n",
       " '__le__',\n",
       " '__len__',\n",
       " '__lt__',\n",
       " '__module__',\n",
       " '__ne__',\n",
       " '__new__',\n",
       " '__reduce__',\n",
       " '__reduce_ex__',\n",
       " '__repr__',\n",
       " '__setattr__',\n",
       " '__setitem__',\n",
       " '__sizeof__',\n",
       " '__str__',\n",
       " '__subclasshook__',\n",
       " '__weakref__',\n",
       " '_epoch',\n",
       " '_find_parent_path_names',\n",
       " '_get_parent_path',\n",
       " '_last_epoch',\n",
       " '_last_parent_path',\n",
       " '_name',\n",
       " '_path',\n",
       " '_path_finder',\n",
       " '_recalculate',\n",
       " 'append']"
      ]
     },
     "execution_count": 5,
     "metadata": {},
     "output_type": "execute_result"
    }
   ],
   "source": [
    "dir(pymatgen.__path__)"
   ]
  },
  {
   "cell_type": "code",
   "execution_count": 20,
   "id": "56d90f3f-fadb-48d9-bb7b-6194af0b77eb",
   "metadata": {
    "tags": []
   },
   "outputs": [
    {
     "name": "stdout",
     "output_type": "stream",
     "text": [
      "path of pymatgen:\n",
      "/home/morii-k/.local/lib/python3.10/site-packages/pymatgen\n"
     ]
    }
   ],
   "source": [
    "path_pymatgen = str(pymatgen.__path__).split(\"'\")[1]\n",
    "print(f\"path of pymatgen:\\n{path_pymatgen}\")"
   ]
  }
 ],
 "metadata": {
  "kernelspec": {
   "display_name": "Python 3 (ipykernel)",
   "language": "python",
   "name": "python3"
  },
  "language_info": {
   "codemirror_mode": {
    "name": "ipython",
    "version": 3
   },
   "file_extension": ".py",
   "mimetype": "text/x-python",
   "name": "python",
   "nbconvert_exporter": "python",
   "pygments_lexer": "ipython3",
   "version": "3.10.12"
  }
 },
 "nbformat": 4,
 "nbformat_minor": 5
}
