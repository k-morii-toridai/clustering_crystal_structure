{
 "cells": [
  {
   "cell_type": "code",
   "execution_count": 1,
   "id": "0dfab1d8-ee57-4245-a22e-04d41bc15bde",
   "metadata": {
    "tags": []
   },
   "outputs": [],
   "source": [
    "import subprocess\n",
    "import time"
   ]
  },
  {
   "cell_type": "code",
   "execution_count": 2,
   "id": "70bcd077-c2f8-4a1e-b9ee-dc20e10a8ad6",
   "metadata": {
    "tags": []
   },
   "outputs": [],
   "source": [
    "VESTA = '/home/morii-k/vesta/VESTA-gtk3/VESTA'"
   ]
  },
  {
   "cell_type": "code",
   "execution_count": 3,
   "id": "396d1bba-8cfa-46bc-9921-427e7e6988c6",
   "metadata": {
    "tags": []
   },
   "outputs": [],
   "source": [
    "CIF_sample = '/mnt/ssd_elecom_black/cif/1/00/00/1000000.cif'"
   ]
  },
  {
   "cell_type": "code",
   "execution_count": 5,
   "id": "f798f54b-7228-4231-938b-9755f6d91818",
   "metadata": {
    "tags": []
   },
   "outputs": [
    {
     "name": "stderr",
     "output_type": "stream",
     "text": [
      "\n",
      "(VESTA-gui:8912): Gtk-WARNING **: 12:57:54.336: Negative content width -2 (allocation 32, extents 17x17) while allocating gadget (node button, owner GtkButton)\n",
      "\n",
      "(VESTA-gui:8912): Gtk-WARNING **: 12:57:54.336: Negative content width -2 (allocation 32, extents 17x17) while allocating gadget (node button, owner GtkButton)\n",
      "\n",
      "(VESTA-gui:8912): Gtk-WARNING **: 12:57:54.336: Negative content width -2 (allocation 32, extents 17x17) while allocating gadget (node button, owner GtkButton)\n",
      "\n",
      "(VESTA-gui:8912): Gtk-WARNING **: 12:57:54.336: Negative content width -2 (allocation 32, extents 17x17) while allocating gadget (node button, owner GtkButton)\n",
      "\n",
      "(VESTA-gui:8912): Gtk-CRITICAL **: 12:57:54.337: gtk_box_gadget_distribute: assertion 'size >= 0' failed in GtkNotebook\n",
      "\n",
      "(VESTA-gui:8912): Gtk-WARNING **: 12:57:54.500: Negative content width -2 (allocation 32, extents 17x17) while allocating gadget (node button, owner GtkButton)\n",
      "\n",
      "(VESTA-gui:8912): Gtk-WARNING **: 12:57:54.501: Negative content width -2 (allocation 32, extents 17x17) while allocating gadget (node button, owner GtkButton)\n",
      "\n",
      "(VESTA-gui:8912): Gtk-CRITICAL **: 12:57:54.501: gtk_box_gadget_distribute: assertion 'size >= 0' failed in GtkNotebook\n",
      "\n",
      "(VESTA-gui:8912): Gtk-WARNING **: 12:57:54.835: Negative content width -2 (allocation 32, extents 17x17) while allocating gadget (node button, owner GtkButton)\n",
      "\n",
      "(VESTA-gui:8912): Gtk-WARNING **: 12:57:54.835: Negative content width -2 (allocation 32, extents 17x17) while allocating gadget (node button, owner GtkButton)\n",
      "\n",
      "(VESTA-gui:8912): Gtk-WARNING **: 12:57:54.835: Negative content width -2 (allocation 32, extents 17x17) while allocating gadget (node button, owner GtkButton)\n",
      "\n",
      "(VESTA-gui:8912): Gtk-WARNING **: 12:57:54.835: Negative content width -2 (allocation 32, extents 17x17) while allocating gadget (node button, owner GtkButton)\n",
      "\n",
      "(VESTA-gui:8912): Gtk-CRITICAL **: 12:57:54.836: gtk_box_gadget_distribute: assertion 'size >= 0' failed in GtkNotebook\n",
      "\n",
      "(VESTA-gui:8912): Gtk-WARNING **: 12:57:55.010: Negative content width -2 (allocation 32, extents 17x17) while allocating gadget (node button, owner GtkButton)\n",
      "\n",
      "(VESTA-gui:8912): Gtk-WARNING **: 12:57:55.010: Negative content width -2 (allocation 32, extents 17x17) while allocating gadget (node button, owner GtkButton)\n",
      "\n",
      "(VESTA-gui:8912): Gtk-CRITICAL **: 12:57:55.011: gtk_box_gadget_distribute: assertion 'size >= 0' failed in GtkNotebook\n"
     ]
    },
    {
     "name": "stdout",
     "output_type": "stream",
     "text": [
      "type=0 format=0 nitems=0 atom=271 244\n",
      "workspace= 0 : -1, x=8, y=31; Screen_W=1504\n"
     ]
    }
   ],
   "source": [
    "myprocess = subprocess.Popen([VESTA, '-open', CIF_sample])"
   ]
  },
  {
   "cell_type": "code",
   "execution_count": 4,
   "id": "b295b2e6-e7d6-4539-b0a2-561af0b2e342",
   "metadata": {
    "tags": []
   },
   "outputs": [
    {
     "name": "stderr",
     "output_type": "stream",
     "text": [
      "\n",
      "(VESTA-gui:8849): Gtk-WARNING **: 12:52:21.218: Negative content width -2 (allocation 32, extents 17x17) while allocating gadget (node button, owner GtkButton)\n",
      "\n",
      "(VESTA-gui:8849): Gtk-WARNING **: 12:52:21.218: Negative content width -2 (allocation 32, extents 17x17) while allocating gadget (node button, owner GtkButton)\n",
      "\n",
      "(VESTA-gui:8849): Gtk-WARNING **: 12:52:21.218: Negative content width -2 (allocation 32, extents 17x17) while allocating gadget (node button, owner GtkButton)\n",
      "\n",
      "(VESTA-gui:8849): Gtk-WARNING **: 12:52:21.218: Negative content width -2 (allocation 32, extents 17x17) while allocating gadget (node button, owner GtkButton)\n",
      "\n",
      "(VESTA-gui:8849): Gtk-CRITICAL **: 12:52:21.220: gtk_box_gadget_distribute: assertion 'size >= 0' failed in GtkNotebook\n",
      "\n",
      "(VESTA-gui:8849): Gtk-WARNING **: 12:52:21.406: Negative content width -2 (allocation 32, extents 17x17) while allocating gadget (node button, owner GtkButton)\n",
      "\n",
      "(VESTA-gui:8849): Gtk-WARNING **: 12:52:21.406: Negative content width -2 (allocation 32, extents 17x17) while allocating gadget (node button, owner GtkButton)\n",
      "\n",
      "(VESTA-gui:8849): Gtk-CRITICAL **: 12:52:21.406: gtk_box_gadget_distribute: assertion 'size >= 0' failed in GtkNotebook\n",
      "\n",
      "(VESTA-gui:8849): Gtk-WARNING **: 12:52:21.745: Negative content width -2 (allocation 32, extents 17x17) while allocating gadget (node button, owner GtkButton)\n",
      "\n",
      "(VESTA-gui:8849): Gtk-WARNING **: 12:52:21.745: Negative content width -2 (allocation 32, extents 17x17) while allocating gadget (node button, owner GtkButton)\n",
      "\n",
      "(VESTA-gui:8849): Gtk-WARNING **: 12:52:21.745: Negative content width -2 (allocation 32, extents 17x17) while allocating gadget (node button, owner GtkButton)\n",
      "\n",
      "(VESTA-gui:8849): Gtk-WARNING **: 12:52:21.745: Negative content width -2 (allocation 32, extents 17x17) while allocating gadget (node button, owner GtkButton)\n",
      "\n",
      "(VESTA-gui:8849): Gtk-CRITICAL **: 12:52:21.745: gtk_box_gadget_distribute: assertion 'size >= 0' failed in GtkNotebook\n",
      "\n",
      "(VESTA-gui:8849): Gtk-WARNING **: 12:52:22.063: Negative content width -2 (allocation 32, extents 17x17) while allocating gadget (node button, owner GtkButton)\n",
      "\n",
      "(VESTA-gui:8849): Gtk-WARNING **: 12:52:22.063: Negative content width -2 (allocation 32, extents 17x17) while allocating gadget (node button, owner GtkButton)\n",
      "\n",
      "(VESTA-gui:8849): Gtk-CRITICAL **: 12:52:22.064: gtk_box_gadget_distribute: assertion 'size >= 0' failed in GtkNotebook\n"
     ]
    },
    {
     "name": "stdout",
     "output_type": "stream",
     "text": [
      "type=0 format=0 nitems=0 atom=271 244\n",
      "workspace= 0 : -1, x=8, y=31; Screen_W=1504\n"
     ]
    }
   ],
   "source": [
    "myprocess = subprocess.Popen([VESTA, '-open', CIF_sample])\n",
    "time.sleep(2)\n",
    "# subprocess.Popen([VESTA, '-close'])\n",
    "myprocess.terminate()"
   ]
  },
  {
   "cell_type": "code",
   "execution_count": null,
   "id": "dded7c47-8cf5-4b9a-bb09-5fb28ab840a7",
   "metadata": {},
   "outputs": [],
   "source": []
  },
  {
   "cell_type": "code",
   "execution_count": 18,
   "id": "5956aea5-80b1-48d3-9b98-5ce0efe74e3b",
   "metadata": {
    "tags": []
   },
   "outputs": [
    {
     "data": {
      "text/plain": [
       "<Popen: returncode: None args: ['/home/morii-k/vesta/VESTA-gtk3/VESTA', '-cl...>"
      ]
     },
     "execution_count": 18,
     "metadata": {},
     "output_type": "execute_result"
    },
    {
     "name": "stderr",
     "output_type": "stream",
     "text": [
      "\n",
      "(VESTA-gui:5854): Gtk-WARNING **: 09:44:48.218: Negative content width -2 (allocation 32, extents 17x17) while allocating gadget (node button, owner GtkButton)\n",
      "\n",
      "(VESTA-gui:5854): Gtk-WARNING **: 09:44:48.219: Negative content width -2 (allocation 32, extents 17x17) while allocating gadget (node button, owner GtkButton)\n",
      "\n",
      "(VESTA-gui:5854): Gtk-WARNING **: 09:44:48.219: Negative content width -2 (allocation 32, extents 17x17) while allocating gadget (node button, owner GtkButton)\n",
      "\n",
      "(VESTA-gui:5854): Gtk-WARNING **: 09:44:48.219: Negative content width -2 (allocation 32, extents 17x17) while allocating gadget (node button, owner GtkButton)\n",
      "\n",
      "(VESTA-gui:5854): Gtk-CRITICAL **: 09:44:48.221: gtk_box_gadget_distribute: assertion 'size >= 0' failed in GtkNotebook\n",
      "\n",
      "(VESTA-gui:5854): Gtk-WARNING **: 09:44:48.437: Negative content width -2 (allocation 32, extents 17x17) while allocating gadget (node button, owner GtkButton)\n",
      "\n",
      "(VESTA-gui:5854): Gtk-WARNING **: 09:44:48.438: Negative content width -2 (allocation 32, extents 17x17) while allocating gadget (node button, owner GtkButton)\n",
      "\n",
      "(VESTA-gui:5854): Gtk-CRITICAL **: 09:44:48.438: gtk_box_gadget_distribute: assertion 'size >= 0' failed in GtkNotebook\n"
     ]
    }
   ],
   "source": [
    "subprocess.Popen([VESTA, '-close'])"
   ]
  },
  {
   "cell_type": "code",
   "execution_count": 24,
   "id": "0cee3696-598a-45ff-8646-8766da91726b",
   "metadata": {
    "tags": []
   },
   "outputs": [
    {
     "name": "stdout",
     "output_type": "stream",
     "text": [
      "it takes 10.009725570678711sec\n"
     ]
    }
   ],
   "source": [
    "before = time.time()\n",
    "time.sleep(10)\n",
    "after = time.time()\n",
    "print(f\"it takes {after - before}sec\")"
   ]
  },
  {
   "cell_type": "code",
   "execution_count": null,
   "id": "f01f55cb-492e-43ef-8f4b-5f5f7a87c72c",
   "metadata": {},
   "outputs": [],
   "source": []
  }
 ],
 "metadata": {
  "kernelspec": {
   "display_name": "Python 3 (ipykernel)",
   "language": "python",
   "name": "python3"
  },
  "language_info": {
   "codemirror_mode": {
    "name": "ipython",
    "version": 3
   },
   "file_extension": ".py",
   "mimetype": "text/x-python",
   "name": "python",
   "nbconvert_exporter": "python",
   "pygments_lexer": "ipython3",
   "version": "3.10.12"
  }
 },
 "nbformat": 4,
 "nbformat_minor": 5
}
