{
 "cells": [
  {
   "cell_type": "markdown",
   "id": "c504d588-672d-4809-8fce-28ec1d4e7aa5",
   "metadata": {},
   "source": [
    "### treeコマンド：\n",
    "#### https://atmarkit.itmedia.co.jp/ait/articles/1802/01/news025.html"
   ]
  },
  {
   "cell_type": "code",
   "execution_count": 2,
   "id": "5721d26d-a4be-4ef9-8dd2-be595c58052a",
   "metadata": {
    "tags": []
   },
   "outputs": [
    {
     "name": "stdout",
     "output_type": "stream",
     "text": [
      "/home/morii-k/clustering_crystal_structure\n"
     ]
    }
   ],
   "source": [
    "!pwd"
   ]
  },
  {
   "cell_type": "code",
   "execution_count": 3,
   "id": "c99c2793-f452-4589-a664-9e8ee792613a",
   "metadata": {
    "tags": []
   },
   "outputs": [
    {
     "name": "stdout",
     "output_type": "stream",
     "text": [
      "check_path_pymatgen.ipynb  dataset/\t\t    visualize_dir_tree.ipynb\n",
      "cod2local.ipynb\t\t   test_for_pymatgen.ipynb\n"
     ]
    }
   ],
   "source": [
    "!ls -CF"
   ]
  },
  {
   "cell_type": "code",
   "execution_count": 1,
   "id": "e5d6561a-8f2d-4c1d-afcc-b7d64806c240",
   "metadata": {
    "tags": []
   },
   "outputs": [
    {
     "name": "stdout",
     "output_type": "stream",
     "text": [
      "\u001b[01;34m.\u001b[0m\n",
      "├── check_path_pymatgen.ipynb\n",
      "├── cod2local.ipynb\n",
      "├── \u001b[01;34mdataset\u001b[0m\n",
      "│   └── \u001b[01;34mcif\u001b[0m\n",
      "│       └── \u001b[01;34mCaTiO3\u001b[0m\n",
      "│           ├── 1567488.cif\n",
      "│           └── 1567488.vesta\n",
      "├── test_for_pymatgen.ipynb\n",
      "└── visualize_dir_tree.ipynb\n",
      "\n",
      "3 directories, 6 files\n"
     ]
    }
   ],
   "source": [
    "!tree"
   ]
  }
 ],
 "metadata": {
  "kernelspec": {
   "display_name": "Python 3 (ipykernel)",
   "language": "python",
   "name": "python3"
  },
  "language_info": {
   "codemirror_mode": {
    "name": "ipython",
    "version": 3
   },
   "file_extension": ".py",
   "mimetype": "text/x-python",
   "name": "python",
   "nbconvert_exporter": "python",
   "pygments_lexer": "ipython3",
   "version": "3.10.12"
  }
 },
 "nbformat": 4,
 "nbformat_minor": 5
}
