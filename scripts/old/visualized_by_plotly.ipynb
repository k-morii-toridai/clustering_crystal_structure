{
 "cells": [
  {
   "cell_type": "code",
   "execution_count": 50,
   "id": "b44d7483-8e37-448c-a2dc-df4e8c8b7469",
   "metadata": {
    "tags": []
   },
   "outputs": [],
   "source": [
    "from pymatgen.core.structure import Structure\n",
    "import numpy as np\n",
    "import plotly.graph_objects as go\n",
    "import plotly.io as pio"
   ]
  },
  {
   "cell_type": "code",
   "execution_count": 51,
   "id": "2ea573c8-55b9-4e2f-8930-42a1c37ab9bd",
   "metadata": {
    "tags": []
   },
   "outputs": [],
   "source": [
    "CIF_PATH = '/mnt/ssd_elecom_black/cif/1/00/00/1000000.cif'"
   ]
  },
  {
   "cell_type": "code",
   "execution_count": 24,
   "id": "c62b5596-53bf-41ac-94c3-85745257b2a4",
   "metadata": {
    "tags": []
   },
   "outputs": [
    {
     "name": "stdout",
     "output_type": "stream",
     "text": [
      "aspirin_atom_num:140\n",
      "aspirin_atom_posi[0]:[ 1.9398984  10.04260639 15.41202798]\n",
      "aspirin_atom_kind:(13, 13, 13, 13, 15, 15, 15, 15, 15, 15, 15, 15, 1, 1, 1, 1, 1, 1, 1, 1, 1, 1, 1, 1, 1, 1, 1, 1, 1, 1, 1, 1, 1, 1, 1, 1, 1, 1, 1, 1, 1, 1, 1, 1, 1, 1, 1, 1, 1, 1, 1, 1, 1, 1, 1, 1, 1, 1, 1, 1, 1, 1, 1, 1, 1, 1, 1, 1, 1, 1, 1, 1, 1, 1, 1, 1, 1, 1, 1, 1, 6, 6, 6, 6, 6, 6, 6, 6, 6, 6, 6, 6, 6, 6, 6, 6, 6, 6, 6, 6, 7, 7, 7, 7, 7, 7, 7, 7, 8, 8, 8, 8, 8, 8, 8, 8, 8, 8, 8, 8, 8, 8, 8, 8, 8, 8, 8, 8, 8, 8, 8, 8, 8, 8, 8, 8, 8, 8, 8, 8)\n"
     ]
    }
   ],
   "source": [
    "pio.renderers.default='browser'\n",
    "\n",
    "##1) inport cif file\n",
    "aspirin = Structure.from_file(CIF_PATH)\n",
    "                        \n",
    "aspirin_lattice = aspirin.lattice.matrix\n",
    "aspirin_atom_num = np.size(aspirin.atomic_numbers)\n",
    "aspirin_atom_posi = aspirin.cart_coords\n",
    "aspirin_atom_kind = aspirin.atomic_numbers\n",
    "\n",
    "\n",
    "# print(f\"aspirin_atom_posi[0]:{aspirin_atom_posi[0]}\")\n",
    "# print(f\"aspirin_atom_kind:{aspirin_atom_kind}\")\n"
   ]
  },
  {
   "cell_type": "code",
   "execution_count": 35,
   "id": "2e3304ab-0743-473e-990f-49a4c08380b2",
   "metadata": {
    "tags": []
   },
   "outputs": [
    {
     "name": "stdout",
     "output_type": "stream",
     "text": [
      "aspirin_atom_num: 140\n"
     ]
    }
   ],
   "source": [
    "print(f\"aspirin_atom_num: {aspirin_atom_num}\")"
   ]
  },
  {
   "cell_type": "code",
   "execution_count": 25,
   "id": "c6ad6cfc-357a-410b-86f3-d64620e6eea9",
   "metadata": {
    "tags": []
   },
   "outputs": [
    {
     "data": {
      "text/plain": [
       "(140, 3)"
      ]
     },
     "execution_count": 25,
     "metadata": {},
     "output_type": "execute_result"
    }
   ],
   "source": [
    "aspirin_atom_posi.shape"
   ]
  },
  {
   "cell_type": "code",
   "execution_count": 29,
   "id": "963b35ec-b1cf-48d0-8352-fa4d0dc6d8f3",
   "metadata": {
    "tags": []
   },
   "outputs": [
    {
     "data": {
      "text/plain": [
       "array([[ 1.9398984 , 10.04260639, 15.41202798],\n",
       "       [ 1.9833682 ,  4.80815639,  8.33658566],\n",
       "       [ 5.90663479,  0.42629361, -0.0508007 ]])"
      ]
     },
     "execution_count": 29,
     "metadata": {},
     "output_type": "execute_result"
    }
   ],
   "source": [
    "aspirin_atom_posi[0:3]"
   ]
  },
  {
   "cell_type": "code",
   "execution_count": 44,
   "id": "0a5b440b-27b8-4079-9473-b07e55efd7a3",
   "metadata": {
    "tags": []
   },
   "outputs": [
    {
     "data": {
      "text/plain": [
       "{1, 6, 7, 8, 13, 15}"
      ]
     },
     "execution_count": 44,
     "metadata": {},
     "output_type": "execute_result"
    }
   ],
   "source": [
    "aspirin_atom_kind_unique = set(aspirin_atom_kind)\n",
    "aspirin_atom_kind_unique"
   ]
  },
  {
   "cell_type": "code",
   "execution_count": null,
   "id": "19f12211-5bde-45e2-945d-f79dd3392560",
   "metadata": {},
   "outputs": [],
   "source": []
  },
  {
   "cell_type": "code",
   "execution_count": null,
   "id": "5e37ca4c-c65c-4b08-8954-3e4a46fd9a9a",
   "metadata": {},
   "outputs": [],
   "source": []
  },
  {
   "cell_type": "code",
   "execution_count": null,
   "id": "a38da054-deea-4989-a01d-0b0e0ea8c218",
   "metadata": {
    "tags": []
   },
   "outputs": [],
   "source": []
  },
  {
   "cell_type": "code",
   "execution_count": 53,
   "id": "69fc5778-9098-4eda-9be8-bd67bdbe5e7e",
   "metadata": {
    "tags": []
   },
   "outputs": [
    {
     "ename": "IndexError",
     "evalue": "list index out of range",
     "output_type": "error",
     "traceback": [
      "\u001b[0;31m---------------------------------------------------------------------------\u001b[0m",
      "\u001b[0;31mIndexError\u001b[0m                                Traceback (most recent call last)",
      "Cell \u001b[0;32mIn[53], line 31\u001b[0m\n\u001b[1;32m     28\u001b[0m bond_length \u001b[38;5;241m=\u001b[39m []\n\u001b[1;32m     30\u001b[0m \u001b[38;5;28;01mfor\u001b[39;00m j \u001b[38;5;129;01min\u001b[39;00m \u001b[38;5;28mrange\u001b[39m(aspirin_atom_num):\n\u001b[0;32m---> 31\u001b[0m     j_cov_rad \u001b[38;5;241m=\u001b[39m \u001b[43mcovalent_radius_list\u001b[49m\u001b[43m[\u001b[49m\u001b[43maspirin_atom_kind\u001b[49m\u001b[43m[\u001b[49m\u001b[43mj\u001b[49m\u001b[43m]\u001b[49m\u001b[43m]\u001b[49m\n\u001b[1;32m     33\u001b[0m     \u001b[38;5;28;01mfor\u001b[39;00m k \u001b[38;5;129;01min\u001b[39;00m \u001b[38;5;28mrange\u001b[39m(aspirin_atom_num):\n\u001b[1;32m     34\u001b[0m         \u001b[38;5;28;01mif\u001b[39;00m j \u001b[38;5;241m<\u001b[39m k:\n",
      "\u001b[0;31mIndexError\u001b[0m: list index out of range"
     ]
    }
   ],
   "source": [
    "# from pymatgen.core.structure import Structure\n",
    "# import numpy as np\n",
    "# import plotly.graph_objects as go\n",
    "# import plotly.io as pio\n",
    "# pio.renderers.default='browser'\n",
    "\n",
    "##1) inport cif file\n",
    "aspirin = Structure.from_file(CIF_PATH)\n",
    "                        \n",
    "aspirin_lattice = aspirin.lattice.matrix\n",
    "aspirin_atom_num = np.size(aspirin.atomic_numbers)\n",
    "aspirin_atom_posi = aspirin.cart_coords\n",
    "aspirin_atom_kind = aspirin.atomic_numbers\n",
    "\n",
    "a_axis = [[0.0, aspirin_lattice[0][0]], [0.0, aspirin_lattice[0][1]], [0.0, aspirin_lattice[0][2]]]\n",
    "b_axis = [[0.0, aspirin_lattice[1][0]], [0.0, aspirin_lattice[1][1]], [0.0, aspirin_lattice[1][2]]]\n",
    "c_axis = [[0.0, aspirin_lattice[2][0]], [0.0, aspirin_lattice[2][1]], [0.0, aspirin_lattice[2][2]]]\n",
    "\n",
    "##2) make bond list\n",
    "\n",
    "#covalent radius[AA]\n",
    "#reference... https://www.hulinks.co.jp/support/c-maker/qa_005.html\n",
    "covalent_radius_list = [0.00, 0.37, 0.32,\n",
    "                        1.34, 0.90, 0.82, 0.77, 0.75, 0.73, 0.71, 0.69]\n",
    "\n",
    "dstance = []\n",
    "bond_list = []\n",
    "bond_length = []\n",
    "\n",
    "for j in range(aspirin_atom_num):\n",
    "    j_cov_rad = covalent_radius_list[aspirin_atom_kind[j]]\n",
    "    \n",
    "    for k in range(aspirin_atom_num):\n",
    "        if j < k:\n",
    "            distance = np.linalg.norm(aspirin_atom_posi[j] - aspirin_atom_posi[k])\n",
    "            \n",
    "            k_cov_rad = covalent_radius_list[aspirin_atom_kind[k]]\n",
    "                \n",
    "            if distance <= j_cov_rad + k_cov_rad:\n",
    "                bond_list.append([j, k])\n",
    "                bond_length.append([distance, j_cov_rad + k_cov_rad])\n",
    "            else:\n",
    "                pass\n",
    "            \n",
    "        else:\n",
    "            pass\n",
    "\n",
    "##3) 3D plot by plotly\n",
    "\n",
    "colorscale = [\"powderblue\", \"black\", \"black\", \"black\", \"green\", \"lightgrey\", \"blue\", \"red\"]\n",
    "\n",
    "trace = go.Scatter3d(\n",
    "   x = aspirin_atom_posi[:, 0],\n",
    "   y = aspirin_atom_posi[:, 1],\n",
    "   z = aspirin_atom_posi[:, 2],\n",
    "   name = \"atoms\",\n",
    "   mode = 'markers', \n",
    "   marker = dict(\n",
    "       size = 7,\n",
    "       color = aspirin_atom_kind,\n",
    "       colorscale = [\"powderblue\", \"black\", \"black\", \"black\", \"green\", \"lightgrey\", \"blue\", \"red\"]\n",
    "       )\n",
    "   )\n",
    "\n",
    "a_axisp = go.Scatter3d(\n",
    "   x = a_axis[0], y = a_axis[1], z = a_axis[2],\n",
    "   name = 'a_axis',\n",
    "   mode = 'lines',\n",
    "    marker=dict(size=0, color='red', opacity=0.8)\n",
    "    )\n",
    "\n",
    "b_axisp = go.Scatter3d(\n",
    "   x = b_axis[0], y = b_axis[1], z = b_axis[2],\n",
    "   name = 'b_axis',\n",
    "   mode = 'lines',\n",
    "    marker=dict(size=0, color='green', opacity=0.8)\n",
    "   )\n",
    "\n",
    "c_axisp = go.Scatter3d(\n",
    "   x = c_axis[0], y = c_axis[1], z = c_axis[2],\n",
    "   name = 'c_axis',\n",
    "   mode = 'lines',\n",
    "    marker=dict(size=0, color='blue', opacity=0.8)\n",
    "  )\n",
    "\n",
    "axis = [a_axisp] + [b_axisp] + [c_axisp]\n",
    "bond = []\n",
    "\n",
    "for l in range(len(bond_list)):\n",
    "    bond_x = [aspirin_atom_posi[bond_list[l][0]][0], aspirin_atom_posi[bond_list[l][1]][0]]\n",
    "    bond_y = [aspirin_atom_posi[bond_list[l][0]][1], aspirin_atom_posi[bond_list[l][1]][1]]\n",
    "    bond_z = [aspirin_atom_posi[bond_list[l][0]][2], aspirin_atom_posi[bond_list[l][1]][2]]\n",
    "    \n",
    "    bond_i = go.Scatter3d(\n",
    "        x = bond_x, y = bond_y, z = bond_z,\n",
    "        name = 'bond',\n",
    "        mode = 'lines',\n",
    "        marker=dict(size=5,line=dict(width=15,), color='gray', opacity=0.8)\n",
    "        )\n",
    "    \n",
    "    bond = bond + [bond_i]\n",
    "    \n",
    "fig = go.Figure(data = bond + [trace] + axis)\n",
    "\n",
    "noaxis=dict(\n",
    "    showbackground=False,\n",
    "    showgrid=False,\n",
    "    showline=False,\n",
    "    showticklabels=False,\n",
    "    ticks='',\n",
    "    title='',        \n",
    "    zeroline=False)\n",
    "\n",
    "fig.update_layout( \n",
    "    width=1500, height=500,\n",
    "    margin=dict(l=0, r=0, b=0, t=0),\n",
    "    scene_aspectmode='data',\n",
    "    scene = dict(\n",
    "        xaxis = noaxis,\n",
    "        yaxis = noaxis,\n",
    "        zaxis = noaxis),\n",
    "    plot_bgcolor=\"gray\",\n",
    "    )\n",
    "\n",
    "fig.show()\n",
    "\n"
   ]
  },
  {
   "cell_type": "code",
   "execution_count": null,
   "id": "b25459e2-7484-4888-8b7f-fcd23d9a26d0",
   "metadata": {},
   "outputs": [],
   "source": []
  }
 ],
 "metadata": {
  "kernelspec": {
   "display_name": "Python 3 (ipykernel)",
   "language": "python",
   "name": "python3"
  },
  "language_info": {
   "codemirror_mode": {
    "name": "ipython",
    "version": 3
   },
   "file_extension": ".py",
   "mimetype": "text/x-python",
   "name": "python",
   "nbconvert_exporter": "python",
   "pygments_lexer": "ipython3",
   "version": "3.10.12"
  }
 },
 "nbformat": 4,
 "nbformat_minor": 5
}
