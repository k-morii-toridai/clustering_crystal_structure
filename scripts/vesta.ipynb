{
 "cells": [
  {
   "cell_type": "code",
   "execution_count": 1,
   "id": "14df4489-b01c-4397-bd72-d0b5071b427b",
   "metadata": {
    "tags": []
   },
   "outputs": [],
   "source": [
    "import sys,subprocess"
   ]
  },
  {
   "cell_type": "markdown",
   "id": "d91f6c77-6840-4871-85f8-1f8801b306e2",
   "metadata": {},
   "source": [
    "/mnt/ssd_elecom_black/cif/"
   ]
  },
  {
   "cell_type": "code",
   "execution_count": 2,
   "id": "450516c3-483a-43ec-88a7-af0747001f06",
   "metadata": {
    "tags": []
   },
   "outputs": [],
   "source": [
    "base = '/mnt/ssd_elecom_black/cif/' # cif base directory, change here"
   ]
  },
  {
   "cell_type": "code",
   "execution_count": 3,
   "id": "3b8b773d-9304-43cc-920c-2bcd782d3c2d",
   "metadata": {
    "tags": []
   },
   "outputs": [],
   "source": [
    "fname = sys.argv[1]"
   ]
  },
  {
   "cell_type": "code",
   "execution_count": null,
   "id": "eb574cd5-8117-43a3-8833-f2b9f2d448cd",
   "metadata": {},
   "outputs": [],
   "source": []
  },
  {
   "cell_type": "code",
   "execution_count": null,
   "id": "58432e26-db1a-4699-ab28-7a99117d6608",
   "metadata": {},
   "outputs": [],
   "source": [
    "\n",
    "\n",
    "fname = sys.argv[1]\n",
    "dir = base + fname[0] + '/' + fname[1:3] + '/' + fname[3:5] + '/' + fname\n",
    "cmd = \"open -a VESTA \" + dir\n",
    "subprocess.call(cmd.split(\" \"))"
   ]
  },
  {
   "cell_type": "code",
   "execution_count": null,
   "id": "47135256-0aaa-4216-b5ef-8175839b82e1",
   "metadata": {},
   "outputs": [],
   "source": []
  },
  {
   "cell_type": "code",
   "execution_count": null,
   "id": "77aab8f9-a7fe-47f8-909d-898597a1117c",
   "metadata": {},
   "outputs": [],
   "source": [
    "    "
   ]
  }
 ],
 "metadata": {
  "kernelspec": {
   "display_name": "Python 3 (ipykernel)",
   "language": "python",
   "name": "python3"
  },
  "language_info": {
   "codemirror_mode": {
    "name": "ipython",
    "version": 3
   },
   "file_extension": ".py",
   "mimetype": "text/x-python",
   "name": "python",
   "nbconvert_exporter": "python",
   "pygments_lexer": "ipython3",
   "version": "3.10.12"
  }
 },
 "nbformat": 4,
 "nbformat_minor": 5
}
