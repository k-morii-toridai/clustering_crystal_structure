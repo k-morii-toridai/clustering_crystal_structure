{
 "cells": [
  {
   "cell_type": "code",
   "execution_count": 22,
   "id": "e499fb6a-edc9-4cbf-9014-e5e7aa489c12",
   "metadata": {
    "tags": []
   },
   "outputs": [],
   "source": [
    "import subprocess"
   ]
  },
  {
   "cell_type": "code",
   "execution_count": 23,
   "id": "71317f13-8891-4f6e-816b-9d1abe220d47",
   "metadata": {
    "tags": []
   },
   "outputs": [],
   "source": [
    "VESTA = '/home/morii-k/vesta/VESTA-gtk3/VESTA'"
   ]
  },
  {
   "cell_type": "code",
   "execution_count": 24,
   "id": "e6f12037-f6be-461e-9890-d76f1ead9db7",
   "metadata": {
    "tags": []
   },
   "outputs": [
    {
     "name": "stderr",
     "output_type": "stream",
     "text": [
      "\n",
      "(VESTA-gui:1624): Gtk-WARNING **: 05:09:38.744: Negative content width -2 (allocation 32, extents 17x17) while allocating gadget (node button, owner GtkButton)\n",
      "\n",
      "(VESTA-gui:1624): Gtk-WARNING **: 05:09:38.744: Negative content width -2 (allocation 32, extents 17x17) while allocating gadget (node button, owner GtkButton)\n",
      "\n",
      "(VESTA-gui:1624): Gtk-WARNING **: 05:09:38.744: Negative content width -2 (allocation 32, extents 17x17) while allocating gadget (node button, owner GtkButton)\n",
      "\n",
      "(VESTA-gui:1624): Gtk-WARNING **: 05:09:38.744: Negative content width -2 (allocation 32, extents 17x17) while allocating gadget (node button, owner GtkButton)\n",
      "\n",
      "(VESTA-gui:1624): Gtk-CRITICAL **: 05:09:38.746: gtk_box_gadget_distribute: assertion 'size >= 0' failed in GtkNotebook\n",
      "\n",
      "(VESTA-gui:1624): Gtk-WARNING **: 05:09:38.925: Negative content width -2 (allocation 32, extents 17x17) while allocating gadget (node button, owner GtkButton)\n",
      "\n",
      "(VESTA-gui:1624): Gtk-WARNING **: 05:09:38.925: Negative content width -2 (allocation 32, extents 17x17) while allocating gadget (node button, owner GtkButton)\n",
      "\n",
      "(VESTA-gui:1624): Gtk-CRITICAL **: 05:09:38.926: gtk_box_gadget_distribute: assertion 'size >= 0' failed in GtkNotebook\n"
     ]
    },
    {
     "data": {
      "text/plain": [
       "CompletedProcess(args=['/home/morii-k/vesta/VESTA-gtk3/VESTA'], returncode=0)"
      ]
     },
     "execution_count": 24,
     "metadata": {},
     "output_type": "execute_result"
    }
   ],
   "source": [
    "subprocess.run([VESTA])"
   ]
  }
 ],
 "metadata": {
  "kernelspec": {
   "display_name": "Python 3 (ipykernel)",
   "language": "python",
   "name": "python3"
  },
  "language_info": {
   "codemirror_mode": {
    "name": "ipython",
    "version": 3
   },
   "file_extension": ".py",
   "mimetype": "text/x-python",
   "name": "python",
   "nbconvert_exporter": "python",
   "pygments_lexer": "ipython3",
   "version": "3.10.12"
  }
 },
 "nbformat": 4,
 "nbformat_minor": 5
}
